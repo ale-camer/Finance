{
  "nbformat": 4,
  "nbformat_minor": 0,
  "metadata": {
    "colab": {
      "name": "Untitled22.ipynb",
      "provenance": [],
      "include_colab_link": true
    },
    "kernelspec": {
      "name": "python3",
      "display_name": "Python 3"
    },
    "language_info": {
      "name": "python"
    }
  },
  "cells": [
    {
      "cell_type": "markdown",
      "metadata": {
        "id": "view-in-github",
        "colab_type": "text"
      },
      "source": [
        "<a href=\"https://colab.research.google.com/github/ale-camer/Finance/blob/master/Volatility%20Surface.ipynb\" target=\"_parent\"><img src=\"https://colab.research.google.com/assets/colab-badge.svg\" alt=\"Open In Colab\"/></a>"
      ]
    },
    {
      "cell_type": "code",
      "metadata": {
        "id": "9Oc9k58veJgX"
      },
      "source": [
        "pip install yahoo_fin"
      ],
      "execution_count": null,
      "outputs": []
    },
    {
      "cell_type": "code",
      "metadata": {
        "id": "4rgmVLGCeGaw"
      },
      "source": [
        "import plotly.graph_objects as go\n",
        "from yahoo_fin import options\n",
        "import pandas as pd"
      ],
      "execution_count": 2,
      "outputs": []
    },
    {
      "cell_type": "code",
      "metadata": {
        "id": "TtyTDqG0ti_P"
      },
      "source": [
        "ticker = 'aapl'\n",
        "dates = options.get_expiration_dates(ticker)"
      ],
      "execution_count": 3,
      "outputs": []
    },
    {
      "cell_type": "code",
      "metadata": {
        "id": "8vH7-nH6ebTv"
      },
      "source": [
        "calls_020721 = options.get_options_chain(ticker, dates[0])['calls'][['Strike', 'Implied Volatility']]\n",
        "calls_090721 = options.get_options_chain(ticker, dates[1])['calls'][['Strike', 'Implied Volatility']]\n",
        "calls_160721 = options.get_options_chain(ticker, dates[2])['calls'][['Strike', 'Implied Volatility']]\n",
        "calls_230721 = options.get_options_chain(ticker, dates[3])['calls'][['Strike', 'Implied Volatility']]\n",
        "calls_300721 = options.get_options_chain(ticker, dates[4])['calls'][['Strike', 'Implied Volatility']]\n",
        "calls_060821 = options.get_options_chain(ticker, dates[5])['calls'][['Strike', 'Implied Volatility']]\n",
        "calls_200821 = options.get_options_chain(ticker, dates[6])['calls'][['Strike', 'Implied Volatility']]\n",
        "calls_170921 = options.get_options_chain(ticker, dates[7])['calls'][['Strike', 'Implied Volatility']]\n",
        "calls_151021 = options.get_options_chain(ticker, dates[8])['calls'][['Strike', 'Implied Volatility']]\n",
        "calls_191121 = options.get_options_chain(ticker, dates[9])['calls'][['Strike', 'Implied Volatility']]\n",
        "calls_171221 = options.get_options_chain(ticker, dates[10])['calls'][['Strike', 'Implied Volatility']]\n",
        "calls_170122 = options.get_options_chain(ticker, dates[11])['calls'][['Strike', 'Implied Volatility']]\n",
        "calls_170622 = options.get_options_chain(ticker, dates[12])['calls'][['Strike', 'Implied Volatility']]\n",
        "calls_160922 = options.get_options_chain(ticker, dates[13])['calls'][['Strike', 'Implied Volatility']]\n",
        "calls_200123 = options.get_options_chain(ticker, dates[14])['calls'][['Strike', 'Implied Volatility']]\n",
        "calls_170323 = options.get_options_chain(ticker, dates[15])['calls'][['Strike', 'Implied Volatility']]\n",
        "calls_160623 = options.get_options_chain(ticker, dates[16])['calls'][['Strike', 'Implied Volatility']]\n",
        "\n",
        "calls = pd.DataFrame(calls_160623)\n",
        "calls.index = calls_160623['Strike']\n",
        "calls.drop('Strike', axis = 1, inplace = True)\n",
        "calls.rename(columns = {'Implied Volatility' : '16-06-2023'}, inplace = True)\n",
        "\n",
        "calls = calls.merge(calls_170323, how = 'left', on = 'Strike')\n",
        "calls.rename(columns = {'Implied Volatility' : '17-03-2023'}, inplace = True)\n",
        "\n",
        "calls = calls.merge(calls_200123, how = 'left', on = 'Strike')\n",
        "calls.rename(columns = {'Implied Volatility' : '20-01-2023'}, inplace = True)\n",
        "\n",
        "calls = calls.merge(calls_160922, how = 'left', on = 'Strike')\n",
        "calls.rename(columns = {'Implied Volatility' : '16-09-2022'}, inplace = True)\n",
        "\n",
        "calls = calls.merge(calls_170622, how = 'left', on = 'Strike')\n",
        "calls.rename(columns = {'Implied Volatility' : '17-06-2022'}, inplace = True)\n",
        "\n",
        "calls = calls.merge(calls_170122, how = 'left', on = 'Strike')\n",
        "calls.rename(columns = {'Implied Volatility' : '17-01-2022'}, inplace = True)\n",
        "\n",
        "calls = calls.merge(calls_171221, how = 'left', on = 'Strike')\n",
        "calls.rename(columns = {'Implied Volatility' : '17-12-2021'}, inplace = True)\n",
        "\n",
        "calls = calls.merge(calls_191121, how = 'left', on = 'Strike')\n",
        "calls.rename(columns = {'Implied Volatility' : '19-11-2021'}, inplace = True)\n",
        "\n",
        "calls = calls.merge(calls_151021, how = 'left', on = 'Strike')\n",
        "calls.rename(columns = {'Implied Volatility' : '15-10-2021'}, inplace = True)\n",
        "\n",
        "calls = calls.merge(calls_170921, how = 'left', on = 'Strike')\n",
        "calls.rename(columns = {'Implied Volatility' : '17-09-2021'}, inplace = True)\n",
        "\n",
        "calls = calls.merge(calls_200821, how = 'left', on = 'Strike')\n",
        "calls.rename(columns = {'Implied Volatility' : '20-08-2021'}, inplace = True)\n",
        "\n",
        "calls = calls.merge(calls_060821, how = 'left', on = 'Strike')\n",
        "calls.rename(columns = {'Implied Volatility' : '06-08-2021'}, inplace = True)\n",
        "\n",
        "calls = calls.merge(calls_300721, how = 'left', on = 'Strike')\n",
        "calls.rename(columns = {'Implied Volatility' : '30-07-2021'}, inplace = True)\n",
        "\n",
        "calls = calls.merge(calls_230721, how = 'left', on = 'Strike')\n",
        "calls.rename(columns = {'Implied Volatility' : '23-07-2021'}, inplace = True)\n",
        "\n",
        "calls = calls.merge(calls_160721, how = 'left', on = 'Strike')\n",
        "calls.rename(columns = {'Implied Volatility' : '16-07-2021'}, inplace = True)\n",
        "\n",
        "calls = calls.merge(calls_090721, how = 'left', on = 'Strike')\n",
        "calls.rename(columns = {'Implied Volatility' : '09-07-2021'}, inplace = True)\n",
        "\n",
        "calls = calls.merge(calls_020721, how = 'left', on = 'Strike')\n",
        "calls.rename(columns = {'Implied Volatility' : '02-07-2021'}, inplace = True)"
      ],
      "execution_count": 16,
      "outputs": []
    },
    {
      "cell_type": "code",
      "metadata": {
        "id": "3GSaBHI2cLe_"
      },
      "source": [
        "calls2 = calls.interpolate(method = 'linear', limit_direction='forward', axis=0)\n",
        "calls2 = calls.fillna(method = 'ffill')\n",
        "calls3 = calls2.fillna(method = 'bfill')\n",
        "calls3.index = calls3['Strike']\n",
        "calls3.drop('Strike', axis = 1, inplace = True)"
      ],
      "execution_count": null,
      "outputs": []
    },
    {
      "cell_type": "code",
      "metadata": {
        "id": "aqbLhy43eg92"
      },
      "source": [
        "x = calls3.columns.values\n",
        "y = calls3.index.values\n",
        "z = calls3.values"
      ],
      "execution_count": 22,
      "outputs": []
    },
    {
      "cell_type": "code",
      "metadata": {
        "colab": {
          "base_uri": "https://localhost:8080/",
          "height": 817
        },
        "id": "vu2qnGdOejpV",
        "outputId": "f86d2af7-4565-4493-e25e-aae4ffcaec5d"
      },
      "source": [
        "layout = go.Layout(\n",
        "            xaxis=go.layout.XAxis(\n",
        "              title=go.layout.xaxis.Title(\n",
        "              text='Date')\n",
        "             ),\n",
        "             yaxis=go.layout.YAxis(\n",
        "              title=go.layout.yaxis.Title(\n",
        "              text='Strike') \n",
        "            ) )\n",
        "\n",
        "\n",
        "fig = go.Figure(data= [go.Surface(z=z, y=y, x=x)], layout=layout )\n",
        "fig.update_layout(title='Call Implied Volatility Surface',\n",
        "                  scene = dict(\n",
        "                    xaxis_title='Date',\n",
        "                    yaxis_title='Strike',\n",
        "                    zaxis_title='Implied Volatility'),\n",
        "                  autosize=False,\n",
        "                  width=800, height=800,\n",
        "                  margin=dict(l=65, r=50, b=65, t=90))\n",
        "fig.show()"
      ],
      "execution_count": 23,
      "outputs": [
        {
          "output_type": "display_data",
          "data": {
            "text/html": [
              "<html>\n",
              "<head><meta charset=\"utf-8\" /></head>\n",
              "<body>\n",
              "    <div>\n",
              "            <script src=\"https://cdnjs.cloudflare.com/ajax/libs/mathjax/2.7.5/MathJax.js?config=TeX-AMS-MML_SVG\"></script><script type=\"text/javascript\">if (window.MathJax) {MathJax.Hub.Config({SVG: {font: \"STIX-Web\"}});}</script>\n",
              "                <script type=\"text/javascript\">window.PlotlyConfig = {MathJaxConfig: 'local'};</script>\n",
              "        <script src=\"https://cdn.plot.ly/plotly-latest.min.js\"></script>    \n",
              "            <div id=\"e9c5df6d-793c-4f99-b0ca-56ac57ab6ba0\" class=\"plotly-graph-div\" style=\"height:800px; width:800px;\"></div>\n",
              "            <script type=\"text/javascript\">\n",
              "                \n",
              "                    window.PLOTLYENV=window.PLOTLYENV || {};\n",
              "                    \n",
              "                if (document.getElementById(\"e9c5df6d-793c-4f99-b0ca-56ac57ab6ba0\")) {\n",
              "                    Plotly.newPlot(\n",
              "                        'e9c5df6d-793c-4f99-b0ca-56ac57ab6ba0',\n",
              "                        [{\"type\": \"surface\", \"x\": [\"16-06-2023\", \"17-03-2023\", \"20-01-2023\", \"16-09-2022\", \"17-06-2022\", \"17-01-2022\", \"17-12-2021\", \"19-11-2021\", \"15-10-2021\", \"17-09-2021\", \"20-08-2021\", \"06-08-2021\", \"30-07-2021\", \"23-07-2021\", \"16-07-2021\", \"09-07-2021\", \"02-07-2021\"], \"y\": [60.0, 65.0, 70.0, 75.0, 80.0, 85.0, 90.0, 95.0, 100.0, 105.0, 110.0, 115.0, 120.0, 125.0, 130.0, 135.0, 140.0, 145.0, 150.0, 155.0, 160.0, 165.0, 170.0, 175.0, 180.0, 185.0, 190.0, 195.0, 200.0, 210.0, 220.0, 230.0, 240.0, 250.0, 260.0], \"z\": [[\"39.44%\", \"41.04%\", \"42.14%\", \"45.61%\", \"49.10%\", \"50.00%\", \"52.15%\", \"55.66%\", \"64.65%\", \"89.16%\", \"58.22%\", \"90.63%\", \"52.34%\", \"84.38%\", \"131.25%\", \"135.16%\", \"285.94%\"], [\"38.16%\", \"39.89%\", \"41.13%\", \"43.99%\", \"47.12%\", \"53.86%\", \"52.15%\", \"55.66%\", \"58.98%\", \"81.64%\", \"58.22%\", \"82.81%\", \"52.34%\", \"84.38%\", \"131.25%\", \"135.16%\", \"261.72%\"], [\"37.19%\", \"38.76%\", \"39.75%\", \"42.13%\", \"44.92%\", \"52.81%\", \"50.10%\", \"52.54%\", \"59.38%\", \"64.06%\", \"58.22%\", \"75.00%\", \"52.34%\", \"84.38%\", \"131.25%\", \"135.16%\", \"239.45%\"], [\"35.74%\", \"37.84%\", \"38.68%\", \"40.81%\", \"42.60%\", \"48.32%\", \"52.25%\", \"50.39%\", \"51.95%\", \"61.72%\", \"58.22%\", \"68.75%\", \"52.34%\", \"84.38%\", \"98.44%\", \"135.16%\", \"218.75%\"], [\"35.46%\", \"36.43%\", \"36.89%\", \"39.21%\", \"41.37%\", \"46.53%\", \"49.66%\", \"52.54%\", \"52.34%\", \"56.25%\", \"58.22%\", \"62.50%\", \"52.34%\", \"84.38%\", \"89.06%\", \"135.16%\", \"198.83%\"], [\"34.47%\", \"35.75%\", \"36.39%\", \"38.17%\", \"39.76%\", \"44.34%\", \"46.83%\", \"49.81%\", \"53.03%\", \"54.88%\", \"58.22%\", \"66.02%\", \"52.34%\", \"76.95%\", \"89.45%\", \"122.46%\", \"180.47%\"], [\"33.97%\", \"34.92%\", \"35.34%\", \"36.81%\", \"38.45%\", \"41.90%\", \"43.85%\", \"46.78%\", \"48.00%\", \"50.88%\", \"58.22%\", \"59.77%\", \"52.34%\", \"73.44%\", \"80.86%\", \"110.55%\", \"162.89%\"], [\"33.41%\", \"34.24%\", \"34.50%\", \"35.78%\", \"37.07%\", \"39.27%\", \"41.31%\", \"43.63%\", \"46.58%\", \"51.27%\", \"58.22%\", \"55.86%\", \"52.34%\", \"66.02%\", \"72.27%\", \"99.22%\", \"146.09%\"], [\"32.92%\", \"33.05%\", \"33.40%\", \"34.77%\", \"35.80%\", \"37.27%\", \"39.03%\", \"40.89%\", \"42.60%\", \"47.17%\", \"58.22%\", \"52.93%\", \"52.34%\", \"61.33%\", \"71.29%\", \"71.88%\", \"130.08%\"], [\"32.36%\", \"32.99%\", \"33.14%\", \"33.90%\", \"34.40%\", \"35.58%\", \"36.44%\", \"38.38%\", \"40.04%\", \"42.97%\", \"58.22%\", \"52.78%\", \"52.34%\", \"56.06%\", \"60.16%\", \"63.28%\", \"114.84%\"], [\"31.74%\", \"32.18%\", \"32.63%\", \"33.22%\", \"33.49%\", \"34.27%\", \"34.91%\", \"35.94%\", \"37.04%\", \"39.50%\", \"58.22%\", \"47.66%\", \"52.34%\", \"51.76%\", \"54.88%\", \"61.33%\", \"100.39%\"], [\"31.24%\", \"31.96%\", \"31.64%\", \"32.54%\", \"32.61%\", \"32.44%\", \"32.83%\", \"34.06%\", \"34.60%\", \"36.38%\", \"58.22%\", \"42.38%\", \"46.53%\", \"49.27%\", \"50.39%\", \"52.34%\", \"85.94%\"], [\"31.29%\", \"31.37%\", \"31.24%\", \"31.95%\", \"31.95%\", \"31.34%\", \"31.66%\", \"32.39%\", \"32.67%\", \"33.74%\", \"58.22%\", \"37.79%\", \"41.50%\", \"44.29%\", \"48.44%\", \"52.64%\", \"64.45%\"], [\"31.06%\", \"30.85%\", \"30.80%\", \"31.40%\", \"31.22%\", \"30.29%\", \"30.54%\", \"31.12%\", \"30.77%\", \"30.69%\", \"53.03%\", \"34.06%\", \"37.40%\", \"39.40%\", \"42.43%\", \"45.31%\", \"51.95%\"], [\"30.66%\", \"30.70%\", \"30.87%\", \"30.98%\", \"30.70%\", \"29.32%\", \"29.32%\", \"29.93%\", \"29.14%\", \"29.68%\", \"32.58%\", \"31.73%\", \"33.28%\", \"34.82%\", \"37.21%\", \"38.67%\", \"45.31%\"], [\"30.66%\", \"30.50%\", \"30.49%\", \"30.55%\", \"30.24%\", \"28.59%\", \"28.66%\", \"28.97%\", \"27.99%\", \"28.42%\", \"42.03%\", \"29.59%\", \"30.95%\", \"32.47%\", \"34.99%\", \"31.25%\", \"34.86%\"], [\"30.51%\", \"30.60%\", \"30.36%\", \"30.29%\", \"29.92%\", \"28.24%\", \"28.05%\", \"28.33%\", \"27.26%\", \"27.27%\", \"29.11%\", \"28.14%\", \"29.35%\", \"30.81%\", \"32.90%\", \"27.69%\", \"28.27%\"], [\"30.40%\", \"30.26%\", \"30.11%\", \"30.10%\", \"29.63%\", \"27.81%\", \"27.69%\", \"27.88%\", \"26.81%\", \"27.01%\", \"27.86%\", \"27.56%\", \"28.85%\", \"29.83%\", \"31.71%\", \"25.12%\", \"24.73%\"], [\"30.28%\", \"30.44%\", \"29.89%\", \"29.91%\", \"29.19%\", \"27.31%\", \"27.41%\", \"27.57%\", \"26.58%\", \"26.65%\", \"27.77%\", \"27.63%\", \"28.55%\", \"29.61%\", \"31.69%\", \"25.81%\", \"26.12%\"], [\"30.29%\", \"30.19%\", \"30.06%\", \"29.80%\", \"29.24%\", \"27.24%\", \"27.24%\", \"27.29%\", \"26.47%\", \"26.75%\", \"27.95%\", \"27.93%\", \"28.88%\", \"30.35%\", \"32.22%\", \"27.74%\", \"29.88%\"], [\"30.25%\", \"30.28%\", \"29.87%\", \"29.71%\", \"29.00%\", \"27.30%\", \"27.15%\", \"27.31%\", \"26.48%\", \"27.16%\", \"28.54%\", \"28.82%\", \"29.88%\", \"31.20%\", \"33.64%\", \"30.81%\", \"36.72%\"], [\"30.22%\", \"30.24%\", \"29.95%\", \"29.67%\", \"29.13%\", \"27.34%\", \"27.25%\", \"27.50%\", \"26.89%\", \"27.81%\", \"29.61%\", \"30.08%\", \"31.42%\", \"33.08%\", \"35.52%\", \"34.96%\", \"43.36%\"], [\"30.23%\", \"30.22%\", \"29.91%\", \"29.44%\", \"29.01%\", \"27.44%\", \"27.57%\", \"27.83%\", \"27.52%\", \"28.76%\", \"31.06%\", \"31.54%\", \"33.30%\", \"35.25%\", \"37.99%\", \"39.45%\", \"49.22%\"], [\"30.21%\", \"30.23%\", \"29.82%\", \"29.72%\", \"29.16%\", \"27.58%\", \"27.85%\", \"28.32%\", \"28.35%\", \"29.86%\", \"32.69%\", \"33.45%\", \"35.40%\", \"35.25%\", \"37.99%\", \"39.45%\", \"50.00%\"], [\"30.11%\", \"30.23%\", \"29.99%\", \"29.69%\", \"29.23%\", \"27.95%\", \"28.32%\", \"28.91%\", \"29.20%\", \"31.15%\", \"32.69%\", \"35.60%\", \"37.70%\", \"35.25%\", \"37.99%\", \"39.45%\", \"56.25%\"], [\"30.28%\", \"30.36%\", \"30.00%\", \"29.80%\", \"29.36%\", \"28.39%\", \"28.85%\", \"29.58%\", \"30.20%\", \"32.59%\", \"32.69%\", \"37.79%\", \"40.19%\", \"35.25%\", \"37.99%\", \"39.45%\", \"62.50%\"], [\"30.32%\", \"30.35%\", \"30.08%\", \"29.91%\", \"29.46%\", \"28.88%\", \"29.44%\", \"30.25%\", \"31.23%\", \"33.99%\", \"32.69%\", \"39.89%\", \"42.58%\", \"35.25%\", \"37.99%\", \"39.45%\", \"68.75%\"], [\"30.39%\", \"30.43%\", \"30.10%\", \"30.03%\", \"29.71%\", \"29.37%\", \"30.12%\", \"31.06%\", \"32.52%\", \"35.60%\", \"32.69%\", \"41.90%\", \"45.02%\", \"35.25%\", \"37.99%\", \"39.45%\", \"75.00%\"], [\"30.41%\", \"30.38%\", \"30.15%\", \"30.19%\", \"29.88%\", \"29.79%\", \"30.82%\", \"31.93%\", \"33.64%\", \"36.87%\", \"32.69%\", \"43.95%\", \"47.17%\", \"35.25%\", \"37.99%\", \"39.45%\", \"81.25%\"], [\"30.60%\", \"30.50%\", \"30.40%\", \"30.63%\", \"30.54%\", \"31.15%\", \"30.82%\", \"31.93%\", \"36.18%\", \"40.23%\", \"32.69%\", \"47.85%\", \"47.17%\", \"35.25%\", \"37.99%\", \"39.45%\", \"90.63%\"], [\"30.82%\", \"30.92%\", \"30.59%\", \"31.04%\", \"31.20%\", \"32.23%\", \"30.82%\", \"31.93%\", \"38.72%\", \"0.00%\", \"32.69%\", \"50.20%\", \"47.17%\", \"35.25%\", \"37.99%\", \"39.45%\", \"103.13%\"], [\"31.05%\", \"31.19%\", \"31.04%\", \"31.50%\", \"31.89%\", \"33.77%\", \"30.82%\", \"31.93%\", \"40.72%\", \"0.00%\", \"32.69%\", \"53.13%\", \"47.17%\", \"35.25%\", \"37.99%\", \"39.45%\", \"103.13%\"], [\"31.28%\", \"31.57%\", \"31.41%\", \"32.06%\", \"32.63%\", \"35.13%\", \"30.82%\", \"31.93%\", \"40.72%\", \"0.00%\", \"32.69%\", \"53.13%\", \"47.17%\", \"35.25%\", \"37.99%\", \"39.45%\", \"103.13%\"], [\"31.34%\", \"31.81%\", \"31.37%\", \"32.51%\", \"33.44%\", \"36.57%\", \"30.82%\", \"31.93%\", \"40.72%\", \"49.12%\", \"32.69%\", \"53.13%\", \"47.17%\", \"35.25%\", \"37.99%\", \"39.45%\", \"103.13%\"], [\"31.69%\", \"32.29%\", \"32.11%\", \"33.66%\", \"34.33%\", \"37.89%\", \"30.82%\", \"31.93%\", \"40.72%\", \"0.00%\", \"32.69%\", \"53.13%\", \"47.17%\", \"35.25%\", \"37.99%\", \"39.45%\", \"103.13%\"]]}],\n",
              "                        {\"autosize\": false, \"height\": 800, \"margin\": {\"b\": 65, \"l\": 65, \"r\": 50, \"t\": 90}, \"scene\": {\"xaxis\": {\"title\": {\"text\": \"Date\"}}, \"yaxis\": {\"title\": {\"text\": \"Strike\"}}, \"zaxis\": {\"title\": {\"text\": \"Implied Volatility\"}}}, \"template\": {\"data\": {\"bar\": [{\"error_x\": {\"color\": \"#2a3f5f\"}, \"error_y\": {\"color\": \"#2a3f5f\"}, \"marker\": {\"line\": {\"color\": \"#E5ECF6\", \"width\": 0.5}}, \"type\": \"bar\"}], \"barpolar\": [{\"marker\": {\"line\": {\"color\": \"#E5ECF6\", \"width\": 0.5}}, \"type\": \"barpolar\"}], \"carpet\": [{\"aaxis\": {\"endlinecolor\": \"#2a3f5f\", \"gridcolor\": \"white\", \"linecolor\": \"white\", \"minorgridcolor\": \"white\", \"startlinecolor\": \"#2a3f5f\"}, \"baxis\": {\"endlinecolor\": \"#2a3f5f\", \"gridcolor\": \"white\", \"linecolor\": \"white\", \"minorgridcolor\": \"white\", \"startlinecolor\": \"#2a3f5f\"}, \"type\": \"carpet\"}], \"choropleth\": [{\"colorbar\": {\"outlinewidth\": 0, \"ticks\": \"\"}, \"type\": \"choropleth\"}], \"contour\": [{\"colorbar\": {\"outlinewidth\": 0, \"ticks\": \"\"}, \"colorscale\": [[0.0, \"#0d0887\"], [0.1111111111111111, \"#46039f\"], [0.2222222222222222, \"#7201a8\"], [0.3333333333333333, \"#9c179e\"], [0.4444444444444444, \"#bd3786\"], [0.5555555555555556, \"#d8576b\"], [0.6666666666666666, \"#ed7953\"], [0.7777777777777778, \"#fb9f3a\"], [0.8888888888888888, \"#fdca26\"], [1.0, \"#f0f921\"]], \"type\": \"contour\"}], \"contourcarpet\": [{\"colorbar\": {\"outlinewidth\": 0, \"ticks\": \"\"}, \"type\": \"contourcarpet\"}], \"heatmap\": [{\"colorbar\": {\"outlinewidth\": 0, \"ticks\": \"\"}, \"colorscale\": [[0.0, \"#0d0887\"], [0.1111111111111111, \"#46039f\"], [0.2222222222222222, \"#7201a8\"], [0.3333333333333333, \"#9c179e\"], [0.4444444444444444, \"#bd3786\"], [0.5555555555555556, \"#d8576b\"], [0.6666666666666666, \"#ed7953\"], [0.7777777777777778, \"#fb9f3a\"], [0.8888888888888888, \"#fdca26\"], [1.0, \"#f0f921\"]], \"type\": \"heatmap\"}], \"heatmapgl\": [{\"colorbar\": {\"outlinewidth\": 0, \"ticks\": \"\"}, \"colorscale\": [[0.0, \"#0d0887\"], [0.1111111111111111, \"#46039f\"], [0.2222222222222222, \"#7201a8\"], [0.3333333333333333, \"#9c179e\"], [0.4444444444444444, \"#bd3786\"], [0.5555555555555556, \"#d8576b\"], [0.6666666666666666, \"#ed7953\"], [0.7777777777777778, \"#fb9f3a\"], [0.8888888888888888, \"#fdca26\"], [1.0, \"#f0f921\"]], \"type\": \"heatmapgl\"}], \"histogram\": [{\"marker\": {\"colorbar\": {\"outlinewidth\": 0, \"ticks\": \"\"}}, \"type\": \"histogram\"}], \"histogram2d\": [{\"colorbar\": {\"outlinewidth\": 0, \"ticks\": \"\"}, \"colorscale\": [[0.0, \"#0d0887\"], [0.1111111111111111, \"#46039f\"], [0.2222222222222222, \"#7201a8\"], [0.3333333333333333, \"#9c179e\"], [0.4444444444444444, \"#bd3786\"], [0.5555555555555556, \"#d8576b\"], [0.6666666666666666, \"#ed7953\"], [0.7777777777777778, \"#fb9f3a\"], [0.8888888888888888, \"#fdca26\"], [1.0, \"#f0f921\"]], \"type\": \"histogram2d\"}], \"histogram2dcontour\": [{\"colorbar\": {\"outlinewidth\": 0, \"ticks\": \"\"}, \"colorscale\": [[0.0, \"#0d0887\"], [0.1111111111111111, \"#46039f\"], [0.2222222222222222, \"#7201a8\"], [0.3333333333333333, \"#9c179e\"], [0.4444444444444444, \"#bd3786\"], [0.5555555555555556, \"#d8576b\"], [0.6666666666666666, \"#ed7953\"], [0.7777777777777778, \"#fb9f3a\"], [0.8888888888888888, \"#fdca26\"], [1.0, \"#f0f921\"]], \"type\": \"histogram2dcontour\"}], \"mesh3d\": [{\"colorbar\": {\"outlinewidth\": 0, \"ticks\": \"\"}, \"type\": \"mesh3d\"}], \"parcoords\": [{\"line\": {\"colorbar\": {\"outlinewidth\": 0, \"ticks\": \"\"}}, \"type\": \"parcoords\"}], \"pie\": [{\"automargin\": true, \"type\": \"pie\"}], \"scatter\": [{\"marker\": {\"colorbar\": {\"outlinewidth\": 0, \"ticks\": \"\"}}, \"type\": \"scatter\"}], \"scatter3d\": [{\"line\": {\"colorbar\": {\"outlinewidth\": 0, \"ticks\": \"\"}}, \"marker\": {\"colorbar\": {\"outlinewidth\": 0, \"ticks\": \"\"}}, \"type\": \"scatter3d\"}], \"scattercarpet\": [{\"marker\": {\"colorbar\": {\"outlinewidth\": 0, \"ticks\": \"\"}}, \"type\": \"scattercarpet\"}], \"scattergeo\": [{\"marker\": {\"colorbar\": {\"outlinewidth\": 0, \"ticks\": \"\"}}, \"type\": \"scattergeo\"}], \"scattergl\": [{\"marker\": {\"colorbar\": {\"outlinewidth\": 0, \"ticks\": \"\"}}, \"type\": \"scattergl\"}], \"scattermapbox\": [{\"marker\": {\"colorbar\": {\"outlinewidth\": 0, \"ticks\": \"\"}}, \"type\": \"scattermapbox\"}], \"scatterpolar\": [{\"marker\": {\"colorbar\": {\"outlinewidth\": 0, \"ticks\": \"\"}}, \"type\": \"scatterpolar\"}], \"scatterpolargl\": [{\"marker\": {\"colorbar\": {\"outlinewidth\": 0, \"ticks\": \"\"}}, \"type\": \"scatterpolargl\"}], \"scatterternary\": [{\"marker\": {\"colorbar\": {\"outlinewidth\": 0, \"ticks\": \"\"}}, \"type\": \"scatterternary\"}], \"surface\": [{\"colorbar\": {\"outlinewidth\": 0, \"ticks\": \"\"}, \"colorscale\": [[0.0, \"#0d0887\"], [0.1111111111111111, \"#46039f\"], [0.2222222222222222, \"#7201a8\"], [0.3333333333333333, \"#9c179e\"], [0.4444444444444444, \"#bd3786\"], [0.5555555555555556, \"#d8576b\"], [0.6666666666666666, \"#ed7953\"], [0.7777777777777778, \"#fb9f3a\"], [0.8888888888888888, \"#fdca26\"], [1.0, \"#f0f921\"]], \"type\": \"surface\"}], \"table\": [{\"cells\": {\"fill\": {\"color\": \"#EBF0F8\"}, \"line\": {\"color\": \"white\"}}, \"header\": {\"fill\": {\"color\": \"#C8D4E3\"}, \"line\": {\"color\": \"white\"}}, \"type\": \"table\"}]}, \"layout\": {\"annotationdefaults\": {\"arrowcolor\": \"#2a3f5f\", \"arrowhead\": 0, \"arrowwidth\": 1}, \"coloraxis\": {\"colorbar\": {\"outlinewidth\": 0, \"ticks\": \"\"}}, \"colorscale\": {\"diverging\": [[0, \"#8e0152\"], [0.1, \"#c51b7d\"], [0.2, \"#de77ae\"], [0.3, \"#f1b6da\"], [0.4, \"#fde0ef\"], [0.5, \"#f7f7f7\"], [0.6, \"#e6f5d0\"], [0.7, \"#b8e186\"], [0.8, \"#7fbc41\"], [0.9, \"#4d9221\"], [1, \"#276419\"]], \"sequential\": [[0.0, \"#0d0887\"], [0.1111111111111111, \"#46039f\"], [0.2222222222222222, \"#7201a8\"], [0.3333333333333333, \"#9c179e\"], [0.4444444444444444, \"#bd3786\"], [0.5555555555555556, \"#d8576b\"], [0.6666666666666666, \"#ed7953\"], [0.7777777777777778, \"#fb9f3a\"], [0.8888888888888888, \"#fdca26\"], [1.0, \"#f0f921\"]], \"sequentialminus\": [[0.0, \"#0d0887\"], [0.1111111111111111, \"#46039f\"], [0.2222222222222222, \"#7201a8\"], [0.3333333333333333, \"#9c179e\"], [0.4444444444444444, \"#bd3786\"], [0.5555555555555556, \"#d8576b\"], [0.6666666666666666, \"#ed7953\"], [0.7777777777777778, \"#fb9f3a\"], [0.8888888888888888, \"#fdca26\"], [1.0, \"#f0f921\"]]}, \"colorway\": [\"#636efa\", \"#EF553B\", \"#00cc96\", \"#ab63fa\", \"#FFA15A\", \"#19d3f3\", \"#FF6692\", \"#B6E880\", \"#FF97FF\", \"#FECB52\"], \"font\": {\"color\": \"#2a3f5f\"}, \"geo\": {\"bgcolor\": \"white\", \"lakecolor\": \"white\", \"landcolor\": \"#E5ECF6\", \"showlakes\": true, \"showland\": true, \"subunitcolor\": \"white\"}, \"hoverlabel\": {\"align\": \"left\"}, \"hovermode\": \"closest\", \"mapbox\": {\"style\": \"light\"}, \"paper_bgcolor\": \"white\", \"plot_bgcolor\": \"#E5ECF6\", \"polar\": {\"angularaxis\": {\"gridcolor\": \"white\", \"linecolor\": \"white\", \"ticks\": \"\"}, \"bgcolor\": \"#E5ECF6\", \"radialaxis\": {\"gridcolor\": \"white\", \"linecolor\": \"white\", \"ticks\": \"\"}}, \"scene\": {\"xaxis\": {\"backgroundcolor\": \"#E5ECF6\", \"gridcolor\": \"white\", \"gridwidth\": 2, \"linecolor\": \"white\", \"showbackground\": true, \"ticks\": \"\", \"zerolinecolor\": \"white\"}, \"yaxis\": {\"backgroundcolor\": \"#E5ECF6\", \"gridcolor\": \"white\", \"gridwidth\": 2, \"linecolor\": \"white\", \"showbackground\": true, \"ticks\": \"\", \"zerolinecolor\": \"white\"}, \"zaxis\": {\"backgroundcolor\": \"#E5ECF6\", \"gridcolor\": \"white\", \"gridwidth\": 2, \"linecolor\": \"white\", \"showbackground\": true, \"ticks\": \"\", \"zerolinecolor\": \"white\"}}, \"shapedefaults\": {\"line\": {\"color\": \"#2a3f5f\"}}, \"ternary\": {\"aaxis\": {\"gridcolor\": \"white\", \"linecolor\": \"white\", \"ticks\": \"\"}, \"baxis\": {\"gridcolor\": \"white\", \"linecolor\": \"white\", \"ticks\": \"\"}, \"bgcolor\": \"#E5ECF6\", \"caxis\": {\"gridcolor\": \"white\", \"linecolor\": \"white\", \"ticks\": \"\"}}, \"title\": {\"x\": 0.05}, \"xaxis\": {\"automargin\": true, \"gridcolor\": \"white\", \"linecolor\": \"white\", \"ticks\": \"\", \"title\": {\"standoff\": 15}, \"zerolinecolor\": \"white\", \"zerolinewidth\": 2}, \"yaxis\": {\"automargin\": true, \"gridcolor\": \"white\", \"linecolor\": \"white\", \"ticks\": \"\", \"title\": {\"standoff\": 15}, \"zerolinecolor\": \"white\", \"zerolinewidth\": 2}}}, \"title\": {\"text\": \"Call Implied Volatility Surface\"}, \"width\": 800, \"xaxis\": {\"title\": {\"text\": \"Date\"}}, \"yaxis\": {\"title\": {\"text\": \"Strike\"}}},\n",
              "                        {\"responsive\": true}\n",
              "                    ).then(function(){\n",
              "                            \n",
              "var gd = document.getElementById('e9c5df6d-793c-4f99-b0ca-56ac57ab6ba0');\n",
              "var x = new MutationObserver(function (mutations, observer) {{\n",
              "        var display = window.getComputedStyle(gd).display;\n",
              "        if (!display || display === 'none') {{\n",
              "            console.log([gd, 'removed!']);\n",
              "            Plotly.purge(gd);\n",
              "            observer.disconnect();\n",
              "        }}\n",
              "}});\n",
              "\n",
              "// Listen for the removal of the full notebook cells\n",
              "var notebookContainer = gd.closest('#notebook-container');\n",
              "if (notebookContainer) {{\n",
              "    x.observe(notebookContainer, {childList: true});\n",
              "}}\n",
              "\n",
              "// Listen for the clearing of the current output cell\n",
              "var outputEl = gd.closest('.output');\n",
              "if (outputEl) {{\n",
              "    x.observe(outputEl, {childList: true});\n",
              "}}\n",
              "\n",
              "                        })\n",
              "                };\n",
              "                \n",
              "            </script>\n",
              "        </div>\n",
              "</body>\n",
              "</html>"
            ]
          },
          "metadata": {
            "tags": []
          }
        }
      ]
    },
    {
      "cell_type": "code",
      "metadata": {
        "id": "jTuyJenqezlG"
      },
      "source": [
        "puts_020721 = options.get_options_chain(ticker, dates[0])['puts'][['Strike', 'Implied Volatility']]\n",
        "puts_090721 = options.get_options_chain(ticker, dates[1])['puts'][['Strike', 'Implied Volatility']]\n",
        "puts_160721 = options.get_options_chain(ticker, dates[2])['puts'][['Strike', 'Implied Volatility']]\n",
        "puts_230721 = options.get_options_chain(ticker, dates[3])['puts'][['Strike', 'Implied Volatility']]\n",
        "puts_300721 = options.get_options_chain(ticker, dates[4])['puts'][['Strike', 'Implied Volatility']]\n",
        "puts_060821 = options.get_options_chain(ticker, dates[5])['puts'][['Strike', 'Implied Volatility']]\n",
        "puts_200821 = options.get_options_chain(ticker, dates[6])['puts'][['Strike', 'Implied Volatility']]\n",
        "puts_170921 = options.get_options_chain(ticker, dates[7])['puts'][['Strike', 'Implied Volatility']]\n",
        "puts_151021 = options.get_options_chain(ticker, dates[8])['puts'][['Strike', 'Implied Volatility']]\n",
        "puts_191121 = options.get_options_chain(ticker, dates[9])['puts'][['Strike', 'Implied Volatility']]\n",
        "puts_171221 = options.get_options_chain(ticker, dates[10])['puts'][['Strike', 'Implied Volatility']]\n",
        "puts_170122 = options.get_options_chain(ticker, dates[11])['puts'][['Strike', 'Implied Volatility']]\n",
        "puts_170622 = options.get_options_chain(ticker, dates[12])['puts'][['Strike', 'Implied Volatility']]\n",
        "puts_160922 = options.get_options_chain(ticker, dates[13])['puts'][['Strike', 'Implied Volatility']]\n",
        "puts_200123 = options.get_options_chain(ticker, dates[14])['puts'][['Strike', 'Implied Volatility']]\n",
        "puts_170323 = options.get_options_chain(ticker, dates[15])['puts'][['Strike', 'Implied Volatility']]\n",
        "puts_160623 = options.get_options_chain(ticker, dates[16])['puts'][['Strike', 'Implied Volatility']]\n",
        "\n",
        "puts = pd.DataFrame(puts_160623)\n",
        "puts.index = puts_160623['Strike']\n",
        "puts.drop('Strike', axis = 1, inplace = True)\n",
        "puts.rename(columns = {'Implied Volatility' : '16-06-2023'}, inplace = True)\n",
        "\n",
        "puts = puts.merge(puts_170323, how = 'left', on = 'Strike')\n",
        "puts.rename(columns = {'Implied Volatility' : '17-03-2023'}, inplace = True)\n",
        "\n",
        "puts = puts.merge(puts_200123, how = 'left', on = 'Strike')\n",
        "puts.rename(columns = {'Implied Volatility' : '20-01-2023'}, inplace = True)\n",
        "\n",
        "puts = puts.merge(puts_160922, how = 'left', on = 'Strike')\n",
        "puts.rename(columns = {'Implied Volatility' : '16-09-2022'}, inplace = True)\n",
        "\n",
        "puts = puts.merge(puts_170622, how = 'left', on = 'Strike')\n",
        "puts.rename(columns = {'Implied Volatility' : '17-06-2022'}, inplace = True)\n",
        "\n",
        "puts = puts.merge(puts_170122, how = 'left', on = 'Strike')\n",
        "puts.rename(columns = {'Implied Volatility' : '17-01-2022'}, inplace = True)\n",
        "\n",
        "puts = puts.merge(puts_171221, how = 'left', on = 'Strike')\n",
        "puts.rename(columns = {'Implied Volatility' : '17-12-2021'}, inplace = True)\n",
        "\n",
        "puts = puts.merge(puts_191121, how = 'left', on = 'Strike')\n",
        "puts.rename(columns = {'Implied Volatility' : '19-11-2021'}, inplace = True)\n",
        "\n",
        "puts = puts.merge(puts_151021, how = 'left', on = 'Strike')\n",
        "puts.rename(columns = {'Implied Volatility' : '15-10-2021'}, inplace = True)\n",
        "\n",
        "puts = puts.merge(puts_170921, how = 'left', on = 'Strike')\n",
        "puts.rename(columns = {'Implied Volatility' : '17-09-2021'}, inplace = True)\n",
        "\n",
        "puts = puts.merge(puts_200821, how = 'left', on = 'Strike')\n",
        "puts.rename(columns = {'Implied Volatility' : '20-08-2021'}, inplace = True)\n",
        "\n",
        "puts = puts.merge(puts_060821, how = 'left', on = 'Strike')\n",
        "puts.rename(columns = {'Implied Volatility' : '06-08-2021'}, inplace = True)\n",
        "\n",
        "puts = puts.merge(puts_300721, how = 'left', on = 'Strike')\n",
        "puts.rename(columns = {'Implied Volatility' : '30-07-2021'}, inplace = True)\n",
        "\n",
        "puts = puts.merge(puts_230721, how = 'left', on = 'Strike')\n",
        "puts.rename(columns = {'Implied Volatility' : '23-07-2021'}, inplace = True)\n",
        "\n",
        "puts = puts.merge(puts_160721, how = 'left', on = 'Strike')\n",
        "puts.rename(columns = {'Implied Volatility' : '16-07-2021'}, inplace = True)\n",
        "\n",
        "puts = puts.merge(puts_090721, how = 'left', on = 'Strike')\n",
        "puts.rename(columns = {'Implied Volatility' : '09-07-2021'}, inplace = True)\n",
        "\n",
        "puts = puts.merge(puts_020721, how = 'left', on = 'Strike')\n",
        "puts.rename(columns = {'Implied Volatility' : '02-07-2021'}, inplace = True)"
      ],
      "execution_count": 25,
      "outputs": []
    },
    {
      "cell_type": "code",
      "metadata": {
        "id": "GnzPn041dKD_"
      },
      "source": [
        "puts2 = puts.interpolate(method = 'linear', limit_direction='forward', axis=0)\n",
        "puts2 = puts.fillna(method = 'ffill')\n",
        "puts3 = puts2.fillna(method = 'bfill')\n",
        "puts3.index = puts3['Strike']\n",
        "puts3.drop('Strike', axis = 1, inplace = True)"
      ],
      "execution_count": null,
      "outputs": []
    },
    {
      "cell_type": "code",
      "metadata": {
        "id": "wMsJU_xqfR0u"
      },
      "source": [
        "x = puts3.columns.values\n",
        "y = puts3.index.values\n",
        "z = puts3.values"
      ],
      "execution_count": 28,
      "outputs": []
    },
    {
      "cell_type": "code",
      "metadata": {
        "id": "Fx2cbO25fXGG",
        "colab": {
          "base_uri": "https://localhost:8080/",
          "height": 817
        },
        "outputId": "d46fc461-782d-4fb6-89b1-af4b3cc5fcbe"
      },
      "source": [
        "layout = go.Layout(\n",
        "            xaxis=go.layout.XAxis(\n",
        "              title=go.layout.xaxis.Title(\n",
        "              text='Date')\n",
        "             ),\n",
        "             yaxis=go.layout.YAxis(\n",
        "              title=go.layout.yaxis.Title(\n",
        "              text='Strike') \n",
        "            ) )\n",
        "\n",
        "\n",
        "fig = go.Figure(data= [go.Surface(z=z, y=y, x=x)], layout=layout )\n",
        "fig.update_layout(title='Put Implied Volatility Surface',\n",
        "                  scene = dict(\n",
        "                    xaxis_title='Date',\n",
        "                    yaxis_title='Strike',\n",
        "                    zaxis_title='Implied Volatility'),\n",
        "                  autosize=False,\n",
        "                  width=800, height=800,\n",
        "                  margin=dict(l=65, r=50, b=65, t=90))\n",
        "fig.show()"
      ],
      "execution_count": 29,
      "outputs": [
        {
          "output_type": "display_data",
          "data": {
            "text/html": [
              "<html>\n",
              "<head><meta charset=\"utf-8\" /></head>\n",
              "<body>\n",
              "    <div>\n",
              "            <script src=\"https://cdnjs.cloudflare.com/ajax/libs/mathjax/2.7.5/MathJax.js?config=TeX-AMS-MML_SVG\"></script><script type=\"text/javascript\">if (window.MathJax) {MathJax.Hub.Config({SVG: {font: \"STIX-Web\"}});}</script>\n",
              "                <script type=\"text/javascript\">window.PlotlyConfig = {MathJaxConfig: 'local'};</script>\n",
              "        <script src=\"https://cdn.plot.ly/plotly-latest.min.js\"></script>    \n",
              "            <div id=\"8be32f74-bf53-4c67-84e1-5cace627d77e\" class=\"plotly-graph-div\" style=\"height:800px; width:800px;\"></div>\n",
              "            <script type=\"text/javascript\">\n",
              "                \n",
              "                    window.PLOTLYENV=window.PLOTLYENV || {};\n",
              "                    \n",
              "                if (document.getElementById(\"8be32f74-bf53-4c67-84e1-5cace627d77e\")) {\n",
              "                    Plotly.newPlot(\n",
              "                        '8be32f74-bf53-4c67-84e1-5cace627d77e',\n",
              "                        [{\"type\": \"surface\", \"x\": [\"16-06-2023\", \"17-03-2023\", \"20-01-2023\", \"16-09-2022\", \"17-06-2022\", \"17-01-2022\", \"17-12-2021\", \"19-11-2021\", \"15-10-2021\", \"17-09-2021\", \"20-08-2021\", \"06-08-2021\", \"30-07-2021\", \"23-07-2021\", \"16-07-2021\", \"09-07-2021\", \"02-07-2021\"], \"y\": [60.0, 65.0, 70.0, 75.0, 80.0, 85.0, 90.0, 95.0, 100.0, 105.0, 110.0, 115.0, 120.0, 125.0, 130.0, 135.0, 140.0, 145.0, 150.0, 155.0, 160.0, 165.0, 170.0, 175.0, 180.0, 185.0, 190.0, 195.0, 200.0, 210.0, 220.0, 230.0, 240.0, 250.0, 260.0], \"z\": [[\"41.77%\", \"43.12%\", \"44.08%\", \"47.00%\", \"49.81%\", \"57.57%\", \"57.32%\", \"60.45%\", \"68.56%\", \"74.61%\", \"43.85%\", \"90.63%\", \"47.27%\", \"78.13%\", \"114.06%\", \"112.50%\", \"218.75%\"], [\"40.23%\", \"41.48%\", \"42.35%\", \"44.26%\", \"47.34%\", \"54.49%\", \"57.32%\", \"60.45%\", \"64.65%\", \"70.31%\", \"43.85%\", \"82.81%\", \"47.27%\", \"78.13%\", \"114.06%\", \"112.50%\", \"196.88%\"], [\"38.75%\", \"40.08%\", \"40.83%\", \"43.16%\", \"45.31%\", \"51.61%\", \"54.25%\", \"57.23%\", \"61.13%\", \"67.19%\", \"43.85%\", \"77.73%\", \"47.27%\", \"78.13%\", \"98.44%\", \"112.50%\", \"181.25%\"], [\"37.78%\", \"38.86%\", \"39.50%\", \"41.60%\", \"43.38%\", \"49.12%\", \"51.27%\", \"54.15%\", \"57.81%\", \"64.06%\", \"43.85%\", \"73.83%\", \"47.27%\", \"78.13%\", \"90.63%\", \"112.50%\", \"162.50%\"], [\"36.43%\", \"37.55%\", \"38.05%\", \"39.95%\", \"41.57%\", \"46.46%\", \"48.78%\", \"51.03%\", \"54.54%\", \"60.16%\", \"43.85%\", \"69.14%\", \"47.27%\", \"77.34%\", \"85.94%\", \"106.25%\", \"150.00%\"], [\"35.77%\", \"36.52%\", \"36.93%\", \"38.60%\", \"39.94%\", \"44.04%\", \"46.09%\", \"48.49%\", \"51.03%\", \"56.74%\", \"43.85%\", \"65.63%\", \"47.27%\", \"73.44%\", \"81.25%\", \"90.63%\", \"134.38%\"], [\"34.85%\", \"35.45%\", \"35.91%\", \"37.31%\", \"38.39%\", \"41.74%\", \"43.51%\", \"45.56%\", \"48.34%\", \"52.93%\", \"43.85%\", \"61.91%\", \"47.27%\", \"69.53%\", \"78.13%\", \"87.50%\", \"118.75%\"], [\"33.72%\", \"34.57%\", \"34.86%\", \"36.04%\", \"37.06%\", \"39.58%\", \"41.04%\", \"42.99%\", \"45.17%\", \"49.76%\", \"43.85%\", \"57.42%\", \"47.27%\", \"64.84%\", \"72.27%\", \"78.13%\", \"106.25%\"], [\"33.41%\", \"33.83%\", \"33.98%\", \"35.16%\", \"35.87%\", \"37.60%\", \"38.89%\", \"40.50%\", \"42.31%\", \"46.19%\", \"43.85%\", \"53.03%\", \"47.27%\", \"58.79%\", \"66.02%\", \"74.22%\", \"96.88%\"], [\"32.61%\", \"33.15%\", \"33.31%\", \"34.24%\", \"34.81%\", \"35.80%\", \"36.78%\", \"38.06%\", \"39.40%\", \"42.77%\", \"43.85%\", \"49.17%\", \"47.27%\", \"54.59%\", \"60.94%\", \"66.80%\", \"84.38%\"], [\"32.24%\", \"32.34%\", \"32.68%\", \"33.40%\", \"33.70%\", \"34.05%\", \"34.94%\", \"35.96%\", \"36.84%\", \"39.36%\", \"43.85%\", \"44.43%\", \"47.27%\", \"49.90%\", \"54.88%\", \"59.38%\", \"81.25%\"], [\"31.79%\", \"32.02%\", \"32.07%\", \"32.71%\", \"32.79%\", \"32.68%\", \"33.22%\", \"34.14%\", \"34.45%\", \"36.65%\", \"39.99%\", \"40.53%\", \"43.02%\", \"45.65%\", \"50.39%\", \"53.13%\", \"71.09%\"], [\"31.49%\", \"31.67%\", \"31.46%\", \"32.00%\", \"32.00%\", \"31.58%\", \"31.85%\", \"32.51%\", \"32.32%\", \"33.96%\", \"36.77%\", \"36.91%\", \"38.82%\", \"41.11%\", \"44.73%\", \"48.24%\", \"60.94%\"], [\"31.11%\", \"31.22%\", \"31.10%\", \"31.45%\", \"31.37%\", \"30.50%\", \"30.77%\", \"31.18%\", \"30.62%\", \"31.80%\", \"33.89%\", \"33.94%\", \"35.45%\", \"37.16%\", \"40.09%\", \"41.21%\", \"53.71%\"], [\"30.85%\", \"30.89%\", \"30.76%\", \"31.02%\", \"30.74%\", \"29.36%\", \"29.69%\", \"30.16%\", \"29.20%\", \"30.04%\", \"31.17%\", \"31.56%\", \"32.74%\", \"34.16%\", \"36.16%\", \"34.96%\", \"45.31%\"], [\"30.65%\", \"30.61%\", \"30.46%\", \"30.59%\", \"30.29%\", \"28.63%\", \"28.85%\", \"29.18%\", \"28.25%\", \"28.72%\", \"30.13%\", \"29.94%\", \"30.87%\", \"32.11%\", \"33.62%\", \"29.79%\", \"35.35%\"], [\"30.42%\", \"30.37%\", \"30.18%\", \"30.34%\", \"29.96%\", \"28.15%\", \"28.36%\", \"28.53%\", \"27.31%\", \"27.95%\", \"29.18%\", \"29.05%\", \"30.04%\", \"31.03%\", \"32.32%\", \"26.39%\", \"28.27%\"], [\"30.26%\", \"30.31%\", \"30.01%\", \"30.14%\", \"29.58%\", \"27.85%\", \"27.99%\", \"28.07%\", \"26.86%\", \"27.27%\", \"28.63%\", \"28.66%\", \"29.76%\", \"30.86%\", \"32.15%\", \"25.59%\", \"25.68%\"], [\"30.02%\", \"30.21%\", \"29.94%\", \"30.03%\", \"29.50%\", \"27.59%\", \"27.71%\", \"27.91%\", \"26.62%\", \"27.11%\", \"32.26%\", \"28.77%\", \"29.81%\", \"31.10%\", \"32.18%\", \"26.93%\", \"28.03%\"], [\"30.03%\", \"30.04%\", \"29.83%\", \"29.84%\", \"29.37%\", \"27.40%\", \"27.56%\", \"27.94%\", \"26.51%\", \"27.48%\", \"41.54%\", \"29.33%\", \"30.82%\", \"32.18%\", \"32.96%\", \"29.08%\", \"34.96%\"], [\"29.92%\", \"29.93%\", \"29.71%\", \"29.76%\", \"29.22%\", \"27.35%\", \"27.63%\", \"27.85%\", \"26.78%\", \"27.97%\", \"31.62%\", \"30.52%\", \"32.64%\", \"34.62%\", \"34.28%\", \"33.69%\", \"44.82%\"], [\"29.84%\", \"29.89%\", \"29.65%\", \"29.72%\", \"29.17%\", \"27.39%\", \"27.93%\", \"28.11%\", \"27.44%\", \"28.98%\", \"31.62%\", \"32.75%\", \"34.89%\", \"37.23%\", \"37.06%\", \"39.94%\", \"55.86%\"], [\"29.78%\", \"29.80%\", \"29.60%\", \"29.66%\", \"29.16%\", \"27.65%\", \"28.16%\", \"28.43%\", \"28.28%\", \"29.98%\", \"31.62%\", \"35.11%\", \"37.89%\", \"40.94%\", \"41.02%\", \"44.92%\", \"62.11%\"], [\"29.69%\", \"29.74%\", \"29.58%\", \"29.69%\", \"29.22%\", \"27.81%\", \"28.63%\", \"29.30%\", \"29.13%\", \"32.01%\", \"31.62%\", \"37.67%\", \"37.89%\", \"40.94%\", \"41.02%\", \"44.92%\", \"61.33%\"], [\"29.72%\", \"46.13%\", \"29.59%\", \"38.43%\", \"29.29%\", \"28.32%\", \"29.16%\", \"31.60%\", \"30.29%\", \"33.40%\", \"31.62%\", \"40.28%\", \"37.89%\", \"40.94%\", \"41.02%\", \"44.92%\", \"69.14%\"], [\"29.67%\", \"29.69%\", \"29.51%\", \"29.68%\", \"29.42%\", \"28.80%\", \"29.91%\", \"30.92%\", \"31.76%\", \"35.38%\", \"31.62%\", \"43.29%\", \"37.89%\", \"40.94%\", \"41.02%\", \"44.92%\", \"67.19%\"], [\"29.70%\", \"29.66%\", \"29.50%\", \"29.78%\", \"29.53%\", \"29.35%\", \"30.53%\", \"61.73%\", \"32.85%\", \"37.65%\", \"31.62%\", \"46.95%\", \"37.89%\", \"40.94%\", \"41.02%\", \"44.92%\", \"342.36%\"], [\"29.68%\", \"29.64%\", \"29.49%\", \"29.89%\", \"29.78%\", \"30.05%\", \"30.53%\", \"77.64%\", \"34.69%\", \"39.70%\", \"31.62%\", \"49.41%\", \"37.89%\", \"40.94%\", \"41.02%\", \"44.92%\", \"79.69%\"], [\"29.61%\", \"29.64%\", \"29.52%\", \"29.94%\", \"29.96%\", \"30.77%\", \"32.34%\", \"33.57%\", \"36.35%\", \"41.53%\", \"31.62%\", \"52.73%\", \"37.89%\", \"40.94%\", \"41.02%\", \"44.92%\", \"472.22%\"], [\"29.59%\", \"29.70%\", \"29.61%\", \"30.22%\", \"30.50%\", \"87.68%\", \"32.34%\", \"33.57%\", \"39.92%\", \"45.51%\", \"31.62%\", \"53.96%\", \"37.89%\", \"40.94%\", \"41.02%\", \"44.92%\", \"447.14%\"], [\"29.65%\", \"29.70%\", \"58.05%\", \"30.57%\", \"71.21%\", \"33.70%\", \"32.34%\", \"33.57%\", \"43.07%\", \"0.00%\", \"31.62%\", \"59.47%\", \"37.89%\", \"40.94%\", \"41.02%\", \"44.92%\", \"109.38%\"], [\"29.69%\", \"29.70%\", \"29.84%\", \"31.04%\", \"31.95%\", \"35.55%\", \"32.34%\", \"33.57%\", \"45.80%\", \"0.00%\", \"31.62%\", \"62.50%\", \"37.89%\", \"40.94%\", \"41.02%\", \"44.92%\", \"109.38%\"], [\"29.80%\", \"29.94%\", \"29.84%\", \"70.40%\", \"32.89%\", \"37.60%\", \"32.34%\", \"33.57%\", \"45.80%\", \"0.00%\", \"31.62%\", \"62.50%\", \"37.89%\", \"40.94%\", \"41.02%\", \"44.92%\", \"109.38%\"], [\"29.82%\", \"29.94%\", \"30.10%\", \"32.06%\", \"33.51%\", \"39.45%\", \"32.34%\", \"33.57%\", \"45.80%\", \"56.35%\", \"31.62%\", \"62.50%\", \"37.89%\", \"40.94%\", \"41.02%\", \"44.92%\", \"109.38%\"], [\"29.91%\", \"36.28%\", \"36.86%\", \"40.44%\", \"43.79%\", \"56.76%\", \"32.34%\", \"33.57%\", \"45.80%\", \"0.00%\", \"31.62%\", \"62.50%\", \"37.89%\", \"40.94%\", \"41.02%\", \"44.92%\", \"109.38%\"]]}],\n",
              "                        {\"autosize\": false, \"height\": 800, \"margin\": {\"b\": 65, \"l\": 65, \"r\": 50, \"t\": 90}, \"scene\": {\"xaxis\": {\"title\": {\"text\": \"Date\"}}, \"yaxis\": {\"title\": {\"text\": \"Strike\"}}, \"zaxis\": {\"title\": {\"text\": \"Implied Volatility\"}}}, \"template\": {\"data\": {\"bar\": [{\"error_x\": {\"color\": \"#2a3f5f\"}, \"error_y\": {\"color\": \"#2a3f5f\"}, \"marker\": {\"line\": {\"color\": \"#E5ECF6\", \"width\": 0.5}}, \"type\": \"bar\"}], \"barpolar\": [{\"marker\": {\"line\": {\"color\": \"#E5ECF6\", \"width\": 0.5}}, \"type\": \"barpolar\"}], \"carpet\": [{\"aaxis\": {\"endlinecolor\": \"#2a3f5f\", \"gridcolor\": \"white\", \"linecolor\": \"white\", \"minorgridcolor\": \"white\", \"startlinecolor\": \"#2a3f5f\"}, \"baxis\": {\"endlinecolor\": \"#2a3f5f\", \"gridcolor\": \"white\", \"linecolor\": \"white\", \"minorgridcolor\": \"white\", \"startlinecolor\": \"#2a3f5f\"}, \"type\": \"carpet\"}], \"choropleth\": [{\"colorbar\": {\"outlinewidth\": 0, \"ticks\": \"\"}, \"type\": \"choropleth\"}], \"contour\": [{\"colorbar\": {\"outlinewidth\": 0, \"ticks\": \"\"}, \"colorscale\": [[0.0, \"#0d0887\"], [0.1111111111111111, \"#46039f\"], [0.2222222222222222, \"#7201a8\"], [0.3333333333333333, \"#9c179e\"], [0.4444444444444444, \"#bd3786\"], [0.5555555555555556, \"#d8576b\"], [0.6666666666666666, \"#ed7953\"], [0.7777777777777778, \"#fb9f3a\"], [0.8888888888888888, \"#fdca26\"], [1.0, \"#f0f921\"]], \"type\": \"contour\"}], \"contourcarpet\": [{\"colorbar\": {\"outlinewidth\": 0, \"ticks\": \"\"}, \"type\": \"contourcarpet\"}], \"heatmap\": [{\"colorbar\": {\"outlinewidth\": 0, \"ticks\": \"\"}, \"colorscale\": [[0.0, \"#0d0887\"], [0.1111111111111111, \"#46039f\"], [0.2222222222222222, \"#7201a8\"], [0.3333333333333333, \"#9c179e\"], [0.4444444444444444, \"#bd3786\"], [0.5555555555555556, \"#d8576b\"], [0.6666666666666666, \"#ed7953\"], [0.7777777777777778, \"#fb9f3a\"], [0.8888888888888888, \"#fdca26\"], [1.0, \"#f0f921\"]], \"type\": \"heatmap\"}], \"heatmapgl\": [{\"colorbar\": {\"outlinewidth\": 0, \"ticks\": \"\"}, \"colorscale\": [[0.0, \"#0d0887\"], [0.1111111111111111, \"#46039f\"], [0.2222222222222222, \"#7201a8\"], [0.3333333333333333, \"#9c179e\"], [0.4444444444444444, \"#bd3786\"], [0.5555555555555556, \"#d8576b\"], [0.6666666666666666, \"#ed7953\"], [0.7777777777777778, \"#fb9f3a\"], [0.8888888888888888, \"#fdca26\"], [1.0, \"#f0f921\"]], \"type\": \"heatmapgl\"}], \"histogram\": [{\"marker\": {\"colorbar\": {\"outlinewidth\": 0, \"ticks\": \"\"}}, \"type\": \"histogram\"}], \"histogram2d\": [{\"colorbar\": {\"outlinewidth\": 0, \"ticks\": \"\"}, \"colorscale\": [[0.0, \"#0d0887\"], [0.1111111111111111, \"#46039f\"], [0.2222222222222222, \"#7201a8\"], [0.3333333333333333, \"#9c179e\"], [0.4444444444444444, \"#bd3786\"], [0.5555555555555556, \"#d8576b\"], [0.6666666666666666, \"#ed7953\"], [0.7777777777777778, \"#fb9f3a\"], [0.8888888888888888, \"#fdca26\"], [1.0, \"#f0f921\"]], \"type\": \"histogram2d\"}], \"histogram2dcontour\": [{\"colorbar\": {\"outlinewidth\": 0, \"ticks\": \"\"}, \"colorscale\": [[0.0, \"#0d0887\"], [0.1111111111111111, \"#46039f\"], [0.2222222222222222, \"#7201a8\"], [0.3333333333333333, \"#9c179e\"], [0.4444444444444444, \"#bd3786\"], [0.5555555555555556, \"#d8576b\"], [0.6666666666666666, \"#ed7953\"], [0.7777777777777778, \"#fb9f3a\"], [0.8888888888888888, \"#fdca26\"], [1.0, \"#f0f921\"]], \"type\": \"histogram2dcontour\"}], \"mesh3d\": [{\"colorbar\": {\"outlinewidth\": 0, \"ticks\": \"\"}, \"type\": \"mesh3d\"}], \"parcoords\": [{\"line\": {\"colorbar\": {\"outlinewidth\": 0, \"ticks\": \"\"}}, \"type\": \"parcoords\"}], \"pie\": [{\"automargin\": true, \"type\": \"pie\"}], \"scatter\": [{\"marker\": {\"colorbar\": {\"outlinewidth\": 0, \"ticks\": \"\"}}, \"type\": \"scatter\"}], \"scatter3d\": [{\"line\": {\"colorbar\": {\"outlinewidth\": 0, \"ticks\": \"\"}}, \"marker\": {\"colorbar\": {\"outlinewidth\": 0, \"ticks\": \"\"}}, \"type\": \"scatter3d\"}], \"scattercarpet\": [{\"marker\": {\"colorbar\": {\"outlinewidth\": 0, \"ticks\": \"\"}}, \"type\": \"scattercarpet\"}], \"scattergeo\": [{\"marker\": {\"colorbar\": {\"outlinewidth\": 0, \"ticks\": \"\"}}, \"type\": \"scattergeo\"}], \"scattergl\": [{\"marker\": {\"colorbar\": {\"outlinewidth\": 0, \"ticks\": \"\"}}, \"type\": \"scattergl\"}], \"scattermapbox\": [{\"marker\": {\"colorbar\": {\"outlinewidth\": 0, \"ticks\": \"\"}}, \"type\": \"scattermapbox\"}], \"scatterpolar\": [{\"marker\": {\"colorbar\": {\"outlinewidth\": 0, \"ticks\": \"\"}}, \"type\": \"scatterpolar\"}], \"scatterpolargl\": [{\"marker\": {\"colorbar\": {\"outlinewidth\": 0, \"ticks\": \"\"}}, \"type\": \"scatterpolargl\"}], \"scatterternary\": [{\"marker\": {\"colorbar\": {\"outlinewidth\": 0, \"ticks\": \"\"}}, \"type\": \"scatterternary\"}], \"surface\": [{\"colorbar\": {\"outlinewidth\": 0, \"ticks\": \"\"}, \"colorscale\": [[0.0, \"#0d0887\"], [0.1111111111111111, \"#46039f\"], [0.2222222222222222, \"#7201a8\"], [0.3333333333333333, \"#9c179e\"], [0.4444444444444444, \"#bd3786\"], [0.5555555555555556, \"#d8576b\"], [0.6666666666666666, \"#ed7953\"], [0.7777777777777778, \"#fb9f3a\"], [0.8888888888888888, \"#fdca26\"], [1.0, \"#f0f921\"]], \"type\": \"surface\"}], \"table\": [{\"cells\": {\"fill\": {\"color\": \"#EBF0F8\"}, \"line\": {\"color\": \"white\"}}, \"header\": {\"fill\": {\"color\": \"#C8D4E3\"}, \"line\": {\"color\": \"white\"}}, \"type\": \"table\"}]}, \"layout\": {\"annotationdefaults\": {\"arrowcolor\": \"#2a3f5f\", \"arrowhead\": 0, \"arrowwidth\": 1}, \"coloraxis\": {\"colorbar\": {\"outlinewidth\": 0, \"ticks\": \"\"}}, \"colorscale\": {\"diverging\": [[0, \"#8e0152\"], [0.1, \"#c51b7d\"], [0.2, \"#de77ae\"], [0.3, \"#f1b6da\"], [0.4, \"#fde0ef\"], [0.5, \"#f7f7f7\"], [0.6, \"#e6f5d0\"], [0.7, \"#b8e186\"], [0.8, \"#7fbc41\"], [0.9, \"#4d9221\"], [1, \"#276419\"]], \"sequential\": [[0.0, \"#0d0887\"], [0.1111111111111111, \"#46039f\"], [0.2222222222222222, \"#7201a8\"], [0.3333333333333333, \"#9c179e\"], [0.4444444444444444, \"#bd3786\"], [0.5555555555555556, \"#d8576b\"], [0.6666666666666666, \"#ed7953\"], [0.7777777777777778, \"#fb9f3a\"], [0.8888888888888888, \"#fdca26\"], [1.0, \"#f0f921\"]], \"sequentialminus\": [[0.0, \"#0d0887\"], [0.1111111111111111, \"#46039f\"], [0.2222222222222222, \"#7201a8\"], [0.3333333333333333, \"#9c179e\"], [0.4444444444444444, \"#bd3786\"], [0.5555555555555556, \"#d8576b\"], [0.6666666666666666, \"#ed7953\"], [0.7777777777777778, \"#fb9f3a\"], [0.8888888888888888, \"#fdca26\"], [1.0, \"#f0f921\"]]}, \"colorway\": [\"#636efa\", \"#EF553B\", \"#00cc96\", \"#ab63fa\", \"#FFA15A\", \"#19d3f3\", \"#FF6692\", \"#B6E880\", \"#FF97FF\", \"#FECB52\"], \"font\": {\"color\": \"#2a3f5f\"}, \"geo\": {\"bgcolor\": \"white\", \"lakecolor\": \"white\", \"landcolor\": \"#E5ECF6\", \"showlakes\": true, \"showland\": true, \"subunitcolor\": \"white\"}, \"hoverlabel\": {\"align\": \"left\"}, \"hovermode\": \"closest\", \"mapbox\": {\"style\": \"light\"}, \"paper_bgcolor\": \"white\", \"plot_bgcolor\": \"#E5ECF6\", \"polar\": {\"angularaxis\": {\"gridcolor\": \"white\", \"linecolor\": \"white\", \"ticks\": \"\"}, \"bgcolor\": \"#E5ECF6\", \"radialaxis\": {\"gridcolor\": \"white\", \"linecolor\": \"white\", \"ticks\": \"\"}}, \"scene\": {\"xaxis\": {\"backgroundcolor\": \"#E5ECF6\", \"gridcolor\": \"white\", \"gridwidth\": 2, \"linecolor\": \"white\", \"showbackground\": true, \"ticks\": \"\", \"zerolinecolor\": \"white\"}, \"yaxis\": {\"backgroundcolor\": \"#E5ECF6\", \"gridcolor\": \"white\", \"gridwidth\": 2, \"linecolor\": \"white\", \"showbackground\": true, \"ticks\": \"\", \"zerolinecolor\": \"white\"}, \"zaxis\": {\"backgroundcolor\": \"#E5ECF6\", \"gridcolor\": \"white\", \"gridwidth\": 2, \"linecolor\": \"white\", \"showbackground\": true, \"ticks\": \"\", \"zerolinecolor\": \"white\"}}, \"shapedefaults\": {\"line\": {\"color\": \"#2a3f5f\"}}, \"ternary\": {\"aaxis\": {\"gridcolor\": \"white\", \"linecolor\": \"white\", \"ticks\": \"\"}, \"baxis\": {\"gridcolor\": \"white\", \"linecolor\": \"white\", \"ticks\": \"\"}, \"bgcolor\": \"#E5ECF6\", \"caxis\": {\"gridcolor\": \"white\", \"linecolor\": \"white\", \"ticks\": \"\"}}, \"title\": {\"x\": 0.05}, \"xaxis\": {\"automargin\": true, \"gridcolor\": \"white\", \"linecolor\": \"white\", \"ticks\": \"\", \"title\": {\"standoff\": 15}, \"zerolinecolor\": \"white\", \"zerolinewidth\": 2}, \"yaxis\": {\"automargin\": true, \"gridcolor\": \"white\", \"linecolor\": \"white\", \"ticks\": \"\", \"title\": {\"standoff\": 15}, \"zerolinecolor\": \"white\", \"zerolinewidth\": 2}}}, \"title\": {\"text\": \"Put Implied Volatility Surface\"}, \"width\": 800, \"xaxis\": {\"title\": {\"text\": \"Date\"}}, \"yaxis\": {\"title\": {\"text\": \"Strike\"}}},\n",
              "                        {\"responsive\": true}\n",
              "                    ).then(function(){\n",
              "                            \n",
              "var gd = document.getElementById('8be32f74-bf53-4c67-84e1-5cace627d77e');\n",
              "var x = new MutationObserver(function (mutations, observer) {{\n",
              "        var display = window.getComputedStyle(gd).display;\n",
              "        if (!display || display === 'none') {{\n",
              "            console.log([gd, 'removed!']);\n",
              "            Plotly.purge(gd);\n",
              "            observer.disconnect();\n",
              "        }}\n",
              "}});\n",
              "\n",
              "// Listen for the removal of the full notebook cells\n",
              "var notebookContainer = gd.closest('#notebook-container');\n",
              "if (notebookContainer) {{\n",
              "    x.observe(notebookContainer, {childList: true});\n",
              "}}\n",
              "\n",
              "// Listen for the clearing of the current output cell\n",
              "var outputEl = gd.closest('.output');\n",
              "if (outputEl) {{\n",
              "    x.observe(outputEl, {childList: true});\n",
              "}}\n",
              "\n",
              "                        })\n",
              "                };\n",
              "                \n",
              "            </script>\n",
              "        </div>\n",
              "</body>\n",
              "</html>"
            ]
          },
          "metadata": {
            "tags": []
          }
        }
      ]
    }
  ]
}