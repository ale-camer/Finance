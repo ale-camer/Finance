{
  "nbformat": 4,
  "nbformat_minor": 0,
  "metadata": {
    "colab": {
      "name": "Untitled22.ipynb",
      "provenance": [],
      "authorship_tag": "ABX9TyN7v6GRvVuqNoummcKFhd7i",
      "include_colab_link": true
    },
    "kernelspec": {
      "name": "python3",
      "display_name": "Python 3"
    },
    "language_info": {
      "name": "python"
    }
  },
  "cells": [
    {
      "cell_type": "markdown",
      "metadata": {
        "id": "view-in-github",
        "colab_type": "text"
      },
      "source": [
        "<a href=\"https://colab.research.google.com/github/ale-camer/Finance/blob/master/Volatility%20Surface.ipynb\" target=\"_parent\"><img src=\"https://colab.research.google.com/assets/colab-badge.svg\" alt=\"Open In Colab\"/></a>"
      ]
    },
    {
      "cell_type": "code",
      "metadata": {
        "id": "9Oc9k58veJgX"
      },
      "source": [
        "pip install yahoo_fin"
      ],
      "execution_count": null,
      "outputs": []
    },
    {
      "cell_type": "code",
      "metadata": {
        "id": "4rgmVLGCeGaw"
      },
      "source": [
        "import plotly.graph_objects as go\n",
        "from yahoo_fin import options\n",
        "import pandas as pd"
      ],
      "execution_count": 3,
      "outputs": []
    },
    {
      "cell_type": "code",
      "metadata": {
        "id": "8vH7-nH6ebTv"
      },
      "source": [
        "calls_020721 = options.get_options_chain('aapl', 'July 02, 2021')['calls'][['Strike', 'Implied Volatility']]\n",
        "calls_090721 = options.get_options_chain('aapl', 'July 09, 2021')['calls'][['Strike', 'Implied Volatility']]\n",
        "calls_160721 = options.get_options_chain('aapl', 'July 16, 2021')['calls'][['Strike', 'Implied Volatility']]\n",
        "calls_230721 = options.get_options_chain('aapl', 'July 23, 2021')['calls'][['Strike', 'Implied Volatility']]\n",
        "calls_300721 = options.get_options_chain('aapl', 'July 30, 2021')['calls'][['Strike', 'Implied Volatility']]\n",
        "calls_060821 = options.get_options_chain('aapl', 'August 06, 2021')['calls'][['Strike', 'Implied Volatility']]\n",
        "calls_200821 = options.get_options_chain('aapl', 'August 20, 2021')['calls'][['Strike', 'Implied Volatility']]\n",
        "calls_170921 = options.get_options_chain('aapl', 'September 17, 2021')['calls'][['Strike', 'Implied Volatility']]\n",
        "calls_151021 = options.get_options_chain('aapl', 'October 15, 2021')['calls'][['Strike', 'Implied Volatility']]\n",
        "calls_191121 = options.get_options_chain('aapl', 'November 19, 2021')['calls'][['Strike', 'Implied Volatility']]\n",
        "calls_171221 = options.get_options_chain('aapl', 'December 17, 2021')['calls'][['Strike', 'Implied Volatility']]\n",
        "calls_170122 = options.get_options_chain('aapl', 'January 21, 2022')['calls'][['Strike', 'Implied Volatility']]\n",
        "calls_170622 = options.get_options_chain('aapl', 'June 17, 2022')['calls'][['Strike', 'Implied Volatility']]\n",
        "calls_160922 = options.get_options_chain('aapl', 'September 16, 2022')['calls'][['Strike', 'Implied Volatility']]\n",
        "calls_200123 = options.get_options_chain('aapl', 'January 20, 2023')['calls'][['Strike', 'Implied Volatility']]\n",
        "calls_170323 = options.get_options_chain('aapl', 'March 17, 2023')['calls'][['Strike', 'Implied Volatility']]\n",
        "calls_160623 = options.get_options_chain('aapl', 'June 16, 2023')['calls'][['Strike', 'Implied Volatility']]\n",
        "\n",
        "calls = pd.DataFrame(calls_160623)\n",
        "calls.index = calls_160623['Strike']\n",
        "calls.drop('Strike', axis = 1, inplace = True)\n",
        "calls.rename(columns = {'Implied Volatility' : '16-06-2023'}, inplace = True)\n",
        "\n",
        "calls = calls.merge(calls_170323, how = 'left', on = 'Strike')\n",
        "calls.rename(columns = {'Implied Volatility' : '17-03-2023'}, inplace = True)\n",
        "\n",
        "calls = calls.merge(calls_200123, how = 'left', on = 'Strike')\n",
        "calls.rename(columns = {'Implied Volatility' : '20-01-2023'}, inplace = True)\n",
        "\n",
        "calls = calls.merge(calls_160922, how = 'left', on = 'Strike')\n",
        "calls.rename(columns = {'Implied Volatility' : '16-09-2022'}, inplace = True)\n",
        "\n",
        "calls = calls.merge(calls_170622, how = 'left', on = 'Strike')\n",
        "calls.rename(columns = {'Implied Volatility' : '17-06-2022'}, inplace = True)\n",
        "\n",
        "calls = calls.merge(calls_170122, how = 'left', on = 'Strike')\n",
        "calls.rename(columns = {'Implied Volatility' : '17-01-2022'}, inplace = True)\n",
        "\n",
        "calls = calls.merge(calls_171221, how = 'left', on = 'Strike')\n",
        "calls.rename(columns = {'Implied Volatility' : '17-12-2021'}, inplace = True)\n",
        "\n",
        "calls = calls.merge(calls_191121, how = 'left', on = 'Strike')\n",
        "calls.rename(columns = {'Implied Volatility' : '19-11-2021'}, inplace = True)\n",
        "\n",
        "calls = calls.merge(calls_151021, how = 'left', on = 'Strike')\n",
        "calls.rename(columns = {'Implied Volatility' : '15-10-2021'}, inplace = True)\n",
        "\n",
        "calls = calls.merge(calls_170921, how = 'left', on = 'Strike')\n",
        "calls.rename(columns = {'Implied Volatility' : '17-09-2021'}, inplace = True)\n",
        "\n",
        "calls = calls.merge(calls_200821, how = 'left', on = 'Strike')\n",
        "calls.rename(columns = {'Implied Volatility' : '20-08-2021'}, inplace = True)\n",
        "\n",
        "calls = calls.merge(calls_060821, how = 'left', on = 'Strike')\n",
        "calls.rename(columns = {'Implied Volatility' : '06-08-2021'}, inplace = True)\n",
        "\n",
        "calls = calls.merge(calls_300721, how = 'left', on = 'Strike')\n",
        "calls.rename(columns = {'Implied Volatility' : '30-07-2021'}, inplace = True)\n",
        "\n",
        "calls = calls.merge(calls_230721, how = 'left', on = 'Strike')\n",
        "calls.rename(columns = {'Implied Volatility' : '23-07-2021'}, inplace = True)\n",
        "\n",
        "calls = calls.merge(calls_160721, how = 'left', on = 'Strike')\n",
        "calls.rename(columns = {'Implied Volatility' : '16-07-2021'}, inplace = True)\n",
        "\n",
        "calls = calls.merge(calls_090721, how = 'left', on = 'Strike')\n",
        "calls.rename(columns = {'Implied Volatility' : '09-07-2021'}, inplace = True)\n",
        "\n",
        "calls = calls.merge(calls_020721, how = 'left', on = 'Strike')\n",
        "calls.rename(columns = {'Implied Volatility' : '02-07-2021'}, inplace = True)"
      ],
      "execution_count": 4,
      "outputs": []
    },
    {
      "cell_type": "code",
      "metadata": {
        "id": "aqbLhy43eg92"
      },
      "source": [
        "calls2 = calls.interpolate(method = 'linear', limit_direction='forward', axis=0)\n",
        "calls2 = calls.fillna(method = 'ffill')\n",
        "calls3 = calls2.fillna(method = 'bfill')\n",
        "\n",
        "x = calls3.columns.values\n",
        "y = calls3.index.values\n",
        "z = calls3.values"
      ],
      "execution_count": 5,
      "outputs": []
    },
    {
      "cell_type": "code",
      "metadata": {
        "colab": {
          "base_uri": "https://localhost:8080/",
          "height": 817
        },
        "id": "vu2qnGdOejpV",
        "outputId": "8b754663-e0d2-494c-e715-0b112c894f32"
      },
      "source": [
        "layout = go.Layout(\n",
        "            xaxis=go.layout.XAxis(\n",
        "              title=go.layout.xaxis.Title(\n",
        "              text='Date')\n",
        "             ),\n",
        "             yaxis=go.layout.YAxis(\n",
        "              title=go.layout.yaxis.Title(\n",
        "              text='Strike') \n",
        "            ) )\n",
        "\n",
        "\n",
        "fig = go.Figure(data= [go.Surface(z=z, y=y, x=x)], layout=layout )\n",
        "fig.update_layout(title='Call Implied Volatility Surface',\n",
        "                  scene = dict(\n",
        "                    xaxis_title='Date',\n",
        "                    yaxis_title='Strike',\n",
        "                    zaxis_title='Implied Volatility'),\n",
        "                  autosize=False,\n",
        "                  width=800, height=800,\n",
        "                  margin=dict(l=65, r=50, b=65, t=90))\n",
        "fig.show()"
      ],
      "execution_count": 6,
      "outputs": [
        {
          "output_type": "display_data",
          "data": {
            "text/html": [
              "<html>\n",
              "<head><meta charset=\"utf-8\" /></head>\n",
              "<body>\n",
              "    <div>\n",
              "            <script src=\"https://cdnjs.cloudflare.com/ajax/libs/mathjax/2.7.5/MathJax.js?config=TeX-AMS-MML_SVG\"></script><script type=\"text/javascript\">if (window.MathJax) {MathJax.Hub.Config({SVG: {font: \"STIX-Web\"}});}</script>\n",
              "                <script type=\"text/javascript\">window.PlotlyConfig = {MathJaxConfig: 'local'};</script>\n",
              "        <script src=\"https://cdn.plot.ly/plotly-latest.min.js\"></script>    \n",
              "            <div id=\"5a2b757b-eabe-45a5-8528-90b5b8254630\" class=\"plotly-graph-div\" style=\"height:800px; width:800px;\"></div>\n",
              "            <script type=\"text/javascript\">\n",
              "                \n",
              "                    window.PLOTLYENV=window.PLOTLYENV || {};\n",
              "                    \n",
              "                if (document.getElementById(\"5a2b757b-eabe-45a5-8528-90b5b8254630\")) {\n",
              "                    Plotly.newPlot(\n",
              "                        '5a2b757b-eabe-45a5-8528-90b5b8254630',\n",
              "                        [{\"type\": \"surface\", \"x\": [\"Strike\", \"16-06-2023\", \"17-03-2023\", \"20-01-2023\", \"16-09-2022\", \"17-06-2022\", \"17-01-2022\", \"17-12-2021\", \"19-11-2021\", \"15-10-2021\", \"17-09-2021\", \"20-08-2021\", \"06-08-2021\", \"30-07-2021\", \"23-07-2021\", \"16-07-2021\", \"09-07-2021\", \"02-07-2021\"], \"y\": [0, 1, 2, 3, 4, 5, 6, 7, 8, 9, 10, 11, 12, 13, 14, 15, 16, 17, 18, 19, 20, 21, 22, 23, 24, 25, 26, 27, 28, 29, 30, 31, 32, 33, 34], \"z\": [[60.0, \"37.29%\", \"38.78%\", \"39.81%\", \"42.47%\", \"45.56%\", \"50.00%\", \"53.86%\", \"52.25%\", \"60.16%\", \"66.21%\", \"81.64%\", \"31.32%\", \"78.91%\", \"71.88%\", \"144.92%\", \"108.98%\", \"225.00%\"], [65.0, \"36.11%\", \"37.42%\", \"38.18%\", \"40.21%\", \"42.80%\", \"50.29%\", \"53.86%\", \"52.25%\", \"56.64%\", \"60.16%\", \"74.22%\", \"31.32%\", \"78.91%\", \"71.88%\", \"131.64%\", \"108.98%\", \"225.00%\"], [70.0, \"35.13%\", \"36.34%\", \"36.95%\", \"38.68%\", \"41.07%\", \"47.66%\", \"48.88%\", \"53.42%\", \"54.39%\", \"57.23%\", \"67.19%\", \"31.32%\", \"78.91%\", \"71.88%\", \"119.14%\", \"108.98%\", \"203.13%\"], [75.0, \"34.07%\", \"35.18%\", \"35.69%\", \"37.51%\", \"39.45%\", \"44.78%\", \"46.44%\", \"49.61%\", \"52.34%\", \"53.71%\", \"60.55%\", \"31.32%\", \"78.91%\", \"71.88%\", \"93.75%\", \"108.98%\", \"182.81%\"], [80.0, \"33.26%\", \"34.15%\", \"34.59%\", \"35.72%\", \"37.18%\", \"41.80%\", \"42.80%\", \"45.80%\", \"48.73%\", \"52.54%\", \"59.67%\", \"31.32%\", \"69.53%\", \"71.88%\", \"84.38%\", \"108.98%\", \"0.00%\"], [85.0, \"32.46%\", \"33.17%\", \"33.39%\", \"34.68%\", \"35.69%\", \"39.31%\", \"39.94%\", \"42.87%\", \"45.02%\", \"48.98%\", \"53.32%\", \"31.32%\", \"69.53%\", \"64.06%\", \"75.00%\", \"108.98%\", \"146.88%\"], [90.0, \"31.89%\", \"32.36%\", \"32.57%\", \"33.28%\", \"34.38%\", \"36.60%\", \"37.53%\", \"40.36%\", \"43.12%\", \"46.48%\", \"50.39%\", \"31.32%\", \"58.20%\", \"62.11%\", \"66.41%\", \"96.68%\", \"129.69%\"], [95.0, \"31.36%\", \"31.75%\", \"31.83%\", \"32.29%\", \"33.12%\", \"34.85%\", \"35.27%\", \"37.50%\", \"38.99%\", \"42.24%\", \"49.17%\", \"31.32%\", \"53.32%\", \"54.69%\", \"58.20%\", \"85.16%\", \"114.06%\"], [100.0, \"30.73%\", \"31.15%\", \"31.13%\", \"31.39%\", \"31.68%\", \"32.67%\", \"33.03%\", \"34.39%\", \"35.52%\", \"37.89%\", \"42.97%\", \"31.32%\", \"53.03%\", \"50.20%\", \"50.39%\", \"63.28%\", \"98.44%\"], [105.0, \"30.39%\", \"30.55%\", \"30.64%\", \"30.90%\", \"30.99%\", \"31.18%\", \"31.04%\", \"32.19%\", \"32.91%\", \"34.25%\", \"38.18%\", \"31.32%\", \"47.27%\", \"49.12%\", \"50.20%\", \"53.91%\", \"83.59%\"], [110.0, \"30.09%\", \"30.20%\", \"30.11%\", \"30.20%\", \"30.08%\", \"29.55%\", \"29.57%\", \"30.35%\", \"30.15%\", \"30.86%\", \"34.13%\", \"31.32%\", \"41.21%\", \"41.21%\", \"45.51%\", \"52.73%\", \"69.53%\"], [115.0, \"29.90%\", \"29.88%\", \"29.61%\", \"29.54%\", \"29.46%\", \"28.46%\", \"28.43%\", \"28.77%\", \"28.14%\", \"28.30%\", \"30.84%\", \"31.32%\", \"35.86%\", \"36.67%\", \"39.21%\", \"46.39%\", \"66.02%\"], [120.0, \"29.35%\", \"29.65%\", \"29.39%\", \"29.17%\", \"28.78%\", \"27.42%\", \"27.34%\", \"27.55%\", \"26.45%\", \"26.42%\", \"27.43%\", \"31.32%\", \"31.20%\", \"29.69%\", \"31.98%\", \"35.74%\", \"50.39%\"], [125.0, \"29.50%\", \"29.35%\", \"29.15%\", \"28.75%\", \"28.24%\", \"26.59%\", \"26.42%\", \"26.50%\", \"25.24%\", \"25.12%\", \"25.51%\", \"27.22%\", \"27.64%\", \"24.41%\", \"24.95%\", \"26.95%\", \"35.16%\"], [130.0, \"29.37%\", \"29.06%\", \"28.75%\", \"28.46%\", \"27.99%\", \"25.95%\", \"25.79%\", \"25.86%\", \"24.34%\", \"24.01%\", \"24.09%\", \"25.18%\", \"25.29%\", \"20.61%\", \"20.36%\", \"20.26%\", \"23.83%\"], [135.0, \"29.20%\", \"29.00%\", \"28.73%\", \"28.28%\", \"27.70%\", \"25.65%\", \"25.29%\", \"25.26%\", \"23.74%\", \"23.37%\", \"23.24%\", \"23.91%\", \"23.85%\", \"18.43%\", \"17.82%\", \"16.88%\", \"16.94%\"], [140.0, \"29.07%\", \"28.89%\", \"28.56%\", \"28.13%\", \"27.48%\", \"25.42%\", \"25.02%\", \"25.09%\", \"23.46%\", \"23.11%\", \"22.80%\", \"23.18%\", \"23.23%\", \"18.13%\", \"17.87%\", \"17.77%\", \"19.92%\"], [145.0, \"29.04%\", \"28.88%\", \"28.48%\", \"28.04%\", \"27.45%\", \"25.29%\", \"25.04%\", \"24.99%\", \"23.47%\", \"23.11%\", \"22.94%\", \"23.54%\", \"23.49%\", \"19.61%\", \"20.07%\", \"21.29%\", \"25.78%\"], [150.0, \"28.95%\", \"28.84%\", \"28.43%\", \"28.03%\", \"27.35%\", \"25.23%\", \"25.07%\", \"24.96%\", \"23.58%\", \"23.50%\", \"23.73%\", \"24.46%\", \"24.63%\", \"22.56%\", \"24.22%\", \"26.37%\", \"35.94%\"], [155.0, \"29.06%\", \"28.87%\", \"28.51%\", \"28.03%\", \"27.42%\", \"25.52%\", \"25.14%\", \"25.17%\", \"24.00%\", \"24.24%\", \"24.98%\", \"24.46%\", \"26.66%\", \"25.88%\", \"12.50%\", \"31.64%\", \"45.31%\"], [160.0, \"28.85%\", \"28.82%\", \"28.50%\", \"28.08%\", \"27.41%\", \"25.60%\", \"25.42%\", \"25.57%\", \"24.66%\", \"25.27%\", \"26.59%\", \"24.46%\", \"29.44%\", \"29.49%\", \"32.62%\", \"31.64%\", \"45.31%\"], [165.0, \"29.15%\", \"28.88%\", \"28.51%\", \"28.12%\", \"27.58%\", \"25.91%\", \"25.90%\", \"26.09%\", \"25.57%\", \"26.44%\", \"28.57%\", \"24.46%\", \"31.93%\", \"29.49%\", \"36.33%\", \"31.64%\", \"45.31%\"], [170.0, \"29.08%\", \"28.82%\", \"28.56%\", \"28.29%\", \"27.76%\", \"26.30%\", \"26.34%\", \"26.73%\", \"26.65%\", \"27.93%\", \"30.52%\", \"24.46%\", \"34.57%\", \"29.49%\", \"39.06%\", \"31.64%\", \"45.31%\"], [175.0, \"29.15%\", \"28.99%\", \"28.76%\", \"28.31%\", \"27.89%\", \"26.86%\", \"26.98%\", \"27.53%\", \"27.86%\", \"29.35%\", \"32.62%\", \"24.46%\", \"34.57%\", \"29.49%\", \"40.63%\", \"31.64%\", \"45.31%\"], [180.0, \"29.23%\", \"29.16%\", \"28.87%\", \"28.54%\", \"28.14%\", \"27.33%\", \"27.66%\", \"28.38%\", \"29.03%\", \"31.01%\", \"34.67%\", \"24.46%\", \"34.57%\", \"29.49%\", \"44.53%\", \"31.64%\", \"45.31%\"], [185.0, \"29.33%\", \"29.27%\", \"29.00%\", \"28.80%\", \"28.41%\", \"28.02%\", \"28.54%\", \"29.37%\", \"30.18%\", \"32.57%\", \"36.43%\", \"24.46%\", \"34.57%\", \"29.49%\", \"48.44%\", \"31.64%\", \"45.31%\"], [190.0, \"29.47%\", \"29.33%\", \"29.08%\", \"29.01%\", \"28.74%\", \"28.69%\", \"29.35%\", \"30.35%\", \"31.64%\", \"33.89%\", \"38.38%\", \"24.46%\", \"34.57%\", \"29.49%\", \"51.56%\", \"31.64%\", \"45.31%\"], [195.0, \"29.49%\", \"29.53%\", \"29.32%\", \"29.30%\", \"29.02%\", \"29.44%\", \"30.23%\", \"31.32%\", \"32.91%\", \"35.35%\", \"40.23%\", \"24.46%\", \"34.57%\", \"29.49%\", \"51.56%\", \"31.64%\", \"45.31%\"], [200.0, \"29.75%\", \"29.72%\", \"29.44%\", \"29.48%\", \"29.41%\", \"30.19%\", \"31.13%\", \"32.25%\", \"33.99%\", \"36.91%\", \"41.80%\", \"24.46%\", \"34.57%\", \"29.49%\", \"54.69%\", \"31.64%\", \"45.31%\"], [210.0, \"29.99%\", \"29.88%\", \"29.89%\", \"30.08%\", \"30.27%\", \"31.70%\", \"31.13%\", \"32.25%\", \"36.57%\", \"39.26%\", \"41.80%\", \"24.46%\", \"34.57%\", \"29.49%\", \"60.94%\", \"31.64%\", \"45.31%\"], [220.0, \"30.27%\", \"30.32%\", \"30.19%\", \"30.68%\", \"31.18%\", \"33.20%\", \"31.13%\", \"32.25%\", \"38.67%\", \"0.00%\", \"46.88%\", \"24.46%\", \"34.57%\", \"29.49%\", \"67.19%\", \"31.64%\", \"45.31%\"], [230.0, \"30.68%\", \"30.82%\", \"30.66%\", \"31.41%\", \"32.11%\", \"34.72%\", \"31.13%\", \"32.25%\", \"40.72%\", \"0.00%\", \"48.44%\", \"24.46%\", \"34.57%\", \"29.49%\", \"67.19%\", \"31.64%\", \"45.31%\"], [240.0, \"31.08%\", \"31.19%\", \"31.20%\", \"32.15%\", \"33.09%\", \"36.08%\", \"31.13%\", \"32.25%\", \"40.72%\", \"0.00%\", \"48.44%\", \"24.46%\", \"34.57%\", \"29.49%\", \"67.19%\", \"31.64%\", \"45.31%\"], [250.0, \"31.41%\", \"31.62%\", \"31.75%\", \"32.74%\", \"33.99%\", \"37.40%\", \"31.13%\", \"32.25%\", \"40.72%\", \"47.85%\", \"48.44%\", \"24.46%\", \"34.57%\", \"29.49%\", \"67.19%\", \"31.64%\", \"45.31%\"], [260.0, \"31.61%\", \"32.14%\", \"32.28%\", \"33.66%\", \"34.91%\", \"38.67%\", \"31.13%\", \"32.25%\", \"40.72%\", \"0.00%\", \"48.44%\", \"24.46%\", \"34.57%\", \"29.49%\", \"67.19%\", \"31.64%\", \"45.31%\"]]}],\n",
              "                        {\"autosize\": false, \"height\": 800, \"margin\": {\"b\": 65, \"l\": 65, \"r\": 50, \"t\": 90}, \"scene\": {\"xaxis\": {\"title\": {\"text\": \"Date\"}}, \"yaxis\": {\"title\": {\"text\": \"Strike\"}}, \"zaxis\": {\"title\": {\"text\": \"Implied Volatility\"}}}, \"template\": {\"data\": {\"bar\": [{\"error_x\": {\"color\": \"#2a3f5f\"}, \"error_y\": {\"color\": \"#2a3f5f\"}, \"marker\": {\"line\": {\"color\": \"#E5ECF6\", \"width\": 0.5}}, \"type\": \"bar\"}], \"barpolar\": [{\"marker\": {\"line\": {\"color\": \"#E5ECF6\", \"width\": 0.5}}, \"type\": \"barpolar\"}], \"carpet\": [{\"aaxis\": {\"endlinecolor\": \"#2a3f5f\", \"gridcolor\": \"white\", \"linecolor\": \"white\", \"minorgridcolor\": \"white\", \"startlinecolor\": \"#2a3f5f\"}, \"baxis\": {\"endlinecolor\": \"#2a3f5f\", \"gridcolor\": \"white\", \"linecolor\": \"white\", \"minorgridcolor\": \"white\", \"startlinecolor\": \"#2a3f5f\"}, \"type\": \"carpet\"}], \"choropleth\": [{\"colorbar\": {\"outlinewidth\": 0, \"ticks\": \"\"}, \"type\": \"choropleth\"}], \"contour\": [{\"colorbar\": {\"outlinewidth\": 0, \"ticks\": \"\"}, \"colorscale\": [[0.0, \"#0d0887\"], [0.1111111111111111, \"#46039f\"], [0.2222222222222222, \"#7201a8\"], [0.3333333333333333, \"#9c179e\"], [0.4444444444444444, \"#bd3786\"], [0.5555555555555556, \"#d8576b\"], [0.6666666666666666, \"#ed7953\"], [0.7777777777777778, \"#fb9f3a\"], [0.8888888888888888, \"#fdca26\"], [1.0, \"#f0f921\"]], \"type\": \"contour\"}], \"contourcarpet\": [{\"colorbar\": {\"outlinewidth\": 0, \"ticks\": \"\"}, \"type\": \"contourcarpet\"}], \"heatmap\": [{\"colorbar\": {\"outlinewidth\": 0, \"ticks\": \"\"}, \"colorscale\": [[0.0, \"#0d0887\"], [0.1111111111111111, \"#46039f\"], [0.2222222222222222, \"#7201a8\"], [0.3333333333333333, \"#9c179e\"], [0.4444444444444444, \"#bd3786\"], [0.5555555555555556, \"#d8576b\"], [0.6666666666666666, \"#ed7953\"], [0.7777777777777778, \"#fb9f3a\"], [0.8888888888888888, \"#fdca26\"], [1.0, \"#f0f921\"]], \"type\": \"heatmap\"}], \"heatmapgl\": [{\"colorbar\": {\"outlinewidth\": 0, \"ticks\": \"\"}, \"colorscale\": [[0.0, \"#0d0887\"], [0.1111111111111111, \"#46039f\"], [0.2222222222222222, \"#7201a8\"], [0.3333333333333333, \"#9c179e\"], [0.4444444444444444, \"#bd3786\"], [0.5555555555555556, \"#d8576b\"], [0.6666666666666666, \"#ed7953\"], [0.7777777777777778, \"#fb9f3a\"], [0.8888888888888888, \"#fdca26\"], [1.0, \"#f0f921\"]], \"type\": \"heatmapgl\"}], \"histogram\": [{\"marker\": {\"colorbar\": {\"outlinewidth\": 0, \"ticks\": \"\"}}, \"type\": \"histogram\"}], \"histogram2d\": [{\"colorbar\": {\"outlinewidth\": 0, \"ticks\": \"\"}, \"colorscale\": [[0.0, \"#0d0887\"], [0.1111111111111111, \"#46039f\"], [0.2222222222222222, \"#7201a8\"], [0.3333333333333333, \"#9c179e\"], [0.4444444444444444, \"#bd3786\"], [0.5555555555555556, \"#d8576b\"], [0.6666666666666666, \"#ed7953\"], [0.7777777777777778, \"#fb9f3a\"], [0.8888888888888888, \"#fdca26\"], [1.0, \"#f0f921\"]], \"type\": \"histogram2d\"}], \"histogram2dcontour\": [{\"colorbar\": {\"outlinewidth\": 0, \"ticks\": \"\"}, \"colorscale\": [[0.0, \"#0d0887\"], [0.1111111111111111, \"#46039f\"], [0.2222222222222222, \"#7201a8\"], [0.3333333333333333, \"#9c179e\"], [0.4444444444444444, \"#bd3786\"], [0.5555555555555556, \"#d8576b\"], [0.6666666666666666, \"#ed7953\"], [0.7777777777777778, \"#fb9f3a\"], [0.8888888888888888, \"#fdca26\"], [1.0, \"#f0f921\"]], \"type\": \"histogram2dcontour\"}], \"mesh3d\": [{\"colorbar\": {\"outlinewidth\": 0, \"ticks\": \"\"}, \"type\": \"mesh3d\"}], \"parcoords\": [{\"line\": {\"colorbar\": {\"outlinewidth\": 0, \"ticks\": \"\"}}, \"type\": \"parcoords\"}], \"pie\": [{\"automargin\": true, \"type\": \"pie\"}], \"scatter\": [{\"marker\": {\"colorbar\": {\"outlinewidth\": 0, \"ticks\": \"\"}}, \"type\": \"scatter\"}], \"scatter3d\": [{\"line\": {\"colorbar\": {\"outlinewidth\": 0, \"ticks\": \"\"}}, \"marker\": {\"colorbar\": {\"outlinewidth\": 0, \"ticks\": \"\"}}, \"type\": \"scatter3d\"}], \"scattercarpet\": [{\"marker\": {\"colorbar\": {\"outlinewidth\": 0, \"ticks\": \"\"}}, \"type\": \"scattercarpet\"}], \"scattergeo\": [{\"marker\": {\"colorbar\": {\"outlinewidth\": 0, \"ticks\": \"\"}}, \"type\": \"scattergeo\"}], \"scattergl\": [{\"marker\": {\"colorbar\": {\"outlinewidth\": 0, \"ticks\": \"\"}}, \"type\": \"scattergl\"}], \"scattermapbox\": [{\"marker\": {\"colorbar\": {\"outlinewidth\": 0, \"ticks\": \"\"}}, \"type\": \"scattermapbox\"}], \"scatterpolar\": [{\"marker\": {\"colorbar\": {\"outlinewidth\": 0, \"ticks\": \"\"}}, \"type\": \"scatterpolar\"}], \"scatterpolargl\": [{\"marker\": {\"colorbar\": {\"outlinewidth\": 0, \"ticks\": \"\"}}, \"type\": \"scatterpolargl\"}], \"scatterternary\": [{\"marker\": {\"colorbar\": {\"outlinewidth\": 0, \"ticks\": \"\"}}, \"type\": \"scatterternary\"}], \"surface\": [{\"colorbar\": {\"outlinewidth\": 0, \"ticks\": \"\"}, \"colorscale\": [[0.0, \"#0d0887\"], [0.1111111111111111, \"#46039f\"], [0.2222222222222222, \"#7201a8\"], [0.3333333333333333, \"#9c179e\"], [0.4444444444444444, \"#bd3786\"], [0.5555555555555556, \"#d8576b\"], [0.6666666666666666, \"#ed7953\"], [0.7777777777777778, \"#fb9f3a\"], [0.8888888888888888, \"#fdca26\"], [1.0, \"#f0f921\"]], \"type\": \"surface\"}], \"table\": [{\"cells\": {\"fill\": {\"color\": \"#EBF0F8\"}, \"line\": {\"color\": \"white\"}}, \"header\": {\"fill\": {\"color\": \"#C8D4E3\"}, \"line\": {\"color\": \"white\"}}, \"type\": \"table\"}]}, \"layout\": {\"annotationdefaults\": {\"arrowcolor\": \"#2a3f5f\", \"arrowhead\": 0, \"arrowwidth\": 1}, \"coloraxis\": {\"colorbar\": {\"outlinewidth\": 0, \"ticks\": \"\"}}, \"colorscale\": {\"diverging\": [[0, \"#8e0152\"], [0.1, \"#c51b7d\"], [0.2, \"#de77ae\"], [0.3, \"#f1b6da\"], [0.4, \"#fde0ef\"], [0.5, \"#f7f7f7\"], [0.6, \"#e6f5d0\"], [0.7, \"#b8e186\"], [0.8, \"#7fbc41\"], [0.9, \"#4d9221\"], [1, \"#276419\"]], \"sequential\": [[0.0, \"#0d0887\"], [0.1111111111111111, \"#46039f\"], [0.2222222222222222, \"#7201a8\"], [0.3333333333333333, \"#9c179e\"], [0.4444444444444444, \"#bd3786\"], [0.5555555555555556, \"#d8576b\"], [0.6666666666666666, \"#ed7953\"], [0.7777777777777778, \"#fb9f3a\"], [0.8888888888888888, \"#fdca26\"], [1.0, \"#f0f921\"]], \"sequentialminus\": [[0.0, \"#0d0887\"], [0.1111111111111111, \"#46039f\"], [0.2222222222222222, \"#7201a8\"], [0.3333333333333333, \"#9c179e\"], [0.4444444444444444, \"#bd3786\"], [0.5555555555555556, \"#d8576b\"], [0.6666666666666666, \"#ed7953\"], [0.7777777777777778, \"#fb9f3a\"], [0.8888888888888888, \"#fdca26\"], [1.0, \"#f0f921\"]]}, \"colorway\": [\"#636efa\", \"#EF553B\", \"#00cc96\", \"#ab63fa\", \"#FFA15A\", \"#19d3f3\", \"#FF6692\", \"#B6E880\", \"#FF97FF\", \"#FECB52\"], \"font\": {\"color\": \"#2a3f5f\"}, \"geo\": {\"bgcolor\": \"white\", \"lakecolor\": \"white\", \"landcolor\": \"#E5ECF6\", \"showlakes\": true, \"showland\": true, \"subunitcolor\": \"white\"}, \"hoverlabel\": {\"align\": \"left\"}, \"hovermode\": \"closest\", \"mapbox\": {\"style\": \"light\"}, \"paper_bgcolor\": \"white\", \"plot_bgcolor\": \"#E5ECF6\", \"polar\": {\"angularaxis\": {\"gridcolor\": \"white\", \"linecolor\": \"white\", \"ticks\": \"\"}, \"bgcolor\": \"#E5ECF6\", \"radialaxis\": {\"gridcolor\": \"white\", \"linecolor\": \"white\", \"ticks\": \"\"}}, \"scene\": {\"xaxis\": {\"backgroundcolor\": \"#E5ECF6\", \"gridcolor\": \"white\", \"gridwidth\": 2, \"linecolor\": \"white\", \"showbackground\": true, \"ticks\": \"\", \"zerolinecolor\": \"white\"}, \"yaxis\": {\"backgroundcolor\": \"#E5ECF6\", \"gridcolor\": \"white\", \"gridwidth\": 2, \"linecolor\": \"white\", \"showbackground\": true, \"ticks\": \"\", \"zerolinecolor\": \"white\"}, \"zaxis\": {\"backgroundcolor\": \"#E5ECF6\", \"gridcolor\": \"white\", \"gridwidth\": 2, \"linecolor\": \"white\", \"showbackground\": true, \"ticks\": \"\", \"zerolinecolor\": \"white\"}}, \"shapedefaults\": {\"line\": {\"color\": \"#2a3f5f\"}}, \"ternary\": {\"aaxis\": {\"gridcolor\": \"white\", \"linecolor\": \"white\", \"ticks\": \"\"}, \"baxis\": {\"gridcolor\": \"white\", \"linecolor\": \"white\", \"ticks\": \"\"}, \"bgcolor\": \"#E5ECF6\", \"caxis\": {\"gridcolor\": \"white\", \"linecolor\": \"white\", \"ticks\": \"\"}}, \"title\": {\"x\": 0.05}, \"xaxis\": {\"automargin\": true, \"gridcolor\": \"white\", \"linecolor\": \"white\", \"ticks\": \"\", \"title\": {\"standoff\": 15}, \"zerolinecolor\": \"white\", \"zerolinewidth\": 2}, \"yaxis\": {\"automargin\": true, \"gridcolor\": \"white\", \"linecolor\": \"white\", \"ticks\": \"\", \"title\": {\"standoff\": 15}, \"zerolinecolor\": \"white\", \"zerolinewidth\": 2}}}, \"title\": {\"text\": \"Call Implied Volatility Surface\"}, \"width\": 800, \"xaxis\": {\"title\": {\"text\": \"Date\"}}, \"yaxis\": {\"title\": {\"text\": \"Strike\"}}},\n",
              "                        {\"responsive\": true}\n",
              "                    ).then(function(){\n",
              "                            \n",
              "var gd = document.getElementById('5a2b757b-eabe-45a5-8528-90b5b8254630');\n",
              "var x = new MutationObserver(function (mutations, observer) {{\n",
              "        var display = window.getComputedStyle(gd).display;\n",
              "        if (!display || display === 'none') {{\n",
              "            console.log([gd, 'removed!']);\n",
              "            Plotly.purge(gd);\n",
              "            observer.disconnect();\n",
              "        }}\n",
              "}});\n",
              "\n",
              "// Listen for the removal of the full notebook cells\n",
              "var notebookContainer = gd.closest('#notebook-container');\n",
              "if (notebookContainer) {{\n",
              "    x.observe(notebookContainer, {childList: true});\n",
              "}}\n",
              "\n",
              "// Listen for the clearing of the current output cell\n",
              "var outputEl = gd.closest('.output');\n",
              "if (outputEl) {{\n",
              "    x.observe(outputEl, {childList: true});\n",
              "}}\n",
              "\n",
              "                        })\n",
              "                };\n",
              "                \n",
              "            </script>\n",
              "        </div>\n",
              "</body>\n",
              "</html>"
            ]
          },
          "metadata": {
            "tags": []
          }
        }
      ]
    },
    {
      "cell_type": "code",
      "metadata": {
        "id": "jTuyJenqezlG"
      },
      "source": [
        "puts_020721 = options.get_options_chain('aapl', 'July 02, 2021')['puts'][['Strike', 'Implied Volatility']]\n",
        "puts_090721 = options.get_options_chain('aapl', 'July 09, 2021')['puts'][['Strike', 'Implied Volatility']]\n",
        "puts_160721 = options.get_options_chain('aapl', 'July 16, 2021')['puts'][['Strike', 'Implied Volatility']]\n",
        "puts_230721 = options.get_options_chain('aapl', 'July 23, 2021')['puts'][['Strike', 'Implied Volatility']]\n",
        "puts_300721 = options.get_options_chain('aapl', 'July 30, 2021')['puts'][['Strike', 'Implied Volatility']]\n",
        "puts_060821 = options.get_options_chain('aapl', 'August 06, 2021')['puts'][['Strike', 'Implied Volatility']]\n",
        "puts_200821 = options.get_options_chain('aapl', 'August 20, 2021')['puts'][['Strike', 'Implied Volatility']]\n",
        "puts_170921 = options.get_options_chain('aapl', 'September 17, 2021')['puts'][['Strike', 'Implied Volatility']]\n",
        "puts_151021 = options.get_options_chain('aapl', 'October 15, 2021')['puts'][['Strike', 'Implied Volatility']]\n",
        "puts_191121 = options.get_options_chain('aapl', 'November 19, 2021')['puts'][['Strike', 'Implied Volatility']]\n",
        "puts_171221 = options.get_options_chain('aapl', 'December 17, 2021')['puts'][['Strike', 'Implied Volatility']]\n",
        "puts_170122 = options.get_options_chain('aapl', 'January 21, 2022')['puts'][['Strike', 'Implied Volatility']]\n",
        "puts_170622 = options.get_options_chain('aapl', 'June 17, 2022')['puts'][['Strike', 'Implied Volatility']]\n",
        "puts_160922 = options.get_options_chain('aapl', 'September 16, 2022')['puts'][['Strike', 'Implied Volatility']]\n",
        "puts_200123 = options.get_options_chain('aapl', 'January 20, 2023')['puts'][['Strike', 'Implied Volatility']]\n",
        "puts_170323 = options.get_options_chain('aapl', 'March 17, 2023')['puts'][['Strike', 'Implied Volatility']]\n",
        "puts_160623 = options.get_options_chain('aapl', 'June 16, 2023')['puts'][['Strike', 'Implied Volatility']]\n",
        "\n",
        "puts = pd.DataFrame(puts_160623)\n",
        "puts.index = puts_160623['Strike']\n",
        "puts.drop('Strike', axis = 1, inplace = True)\n",
        "puts.rename(columns = {'Implied Volatility' : '16-06-2023'}, inplace = True)\n",
        "\n",
        "puts = puts.merge(puts_170323, how = 'left', on = 'Strike')\n",
        "puts.rename(columns = {'Implied Volatility' : '17-03-2023'}, inplace = True)\n",
        "\n",
        "puts = puts.merge(puts_200123, how = 'left', on = 'Strike')\n",
        "puts.rename(columns = {'Implied Volatility' : '20-01-2023'}, inplace = True)\n",
        "\n",
        "puts = puts.merge(puts_160922, how = 'left', on = 'Strike')\n",
        "puts.rename(columns = {'Implied Volatility' : '16-09-2022'}, inplace = True)\n",
        "\n",
        "puts = puts.merge(puts_170622, how = 'left', on = 'Strike')\n",
        "puts.rename(columns = {'Implied Volatility' : '17-06-2022'}, inplace = True)\n",
        "\n",
        "puts = puts.merge(puts_170122, how = 'left', on = 'Strike')\n",
        "puts.rename(columns = {'Implied Volatility' : '17-01-2022'}, inplace = True)\n",
        "\n",
        "puts = puts.merge(puts_171221, how = 'left', on = 'Strike')\n",
        "puts.rename(columns = {'Implied Volatility' : '17-12-2021'}, inplace = True)\n",
        "\n",
        "puts = puts.merge(puts_191121, how = 'left', on = 'Strike')\n",
        "puts.rename(columns = {'Implied Volatility' : '19-11-2021'}, inplace = True)\n",
        "\n",
        "puts = puts.merge(puts_151021, how = 'left', on = 'Strike')\n",
        "puts.rename(columns = {'Implied Volatility' : '15-10-2021'}, inplace = True)\n",
        "\n",
        "puts = puts.merge(puts_170921, how = 'left', on = 'Strike')\n",
        "puts.rename(columns = {'Implied Volatility' : '17-09-2021'}, inplace = True)\n",
        "\n",
        "puts = puts.merge(puts_200821, how = 'left', on = 'Strike')\n",
        "puts.rename(columns = {'Implied Volatility' : '20-08-2021'}, inplace = True)\n",
        "\n",
        "puts = puts.merge(puts_060821, how = 'left', on = 'Strike')\n",
        "puts.rename(columns = {'Implied Volatility' : '06-08-2021'}, inplace = True)\n",
        "\n",
        "puts = puts.merge(puts_300721, how = 'left', on = 'Strike')\n",
        "puts.rename(columns = {'Implied Volatility' : '30-07-2021'}, inplace = True)\n",
        "\n",
        "puts = puts.merge(puts_230721, how = 'left', on = 'Strike')\n",
        "puts.rename(columns = {'Implied Volatility' : '23-07-2021'}, inplace = True)\n",
        "\n",
        "puts = puts.merge(puts_160721, how = 'left', on = 'Strike')\n",
        "puts.rename(columns = {'Implied Volatility' : '16-07-2021'}, inplace = True)\n",
        "\n",
        "puts = puts.merge(puts_090721, how = 'left', on = 'Strike')\n",
        "puts.rename(columns = {'Implied Volatility' : '09-07-2021'}, inplace = True)\n",
        "\n",
        "puts = puts.merge(puts_020721, how = 'left', on = 'Strike')\n",
        "puts.rename(columns = {'Implied Volatility' : '02-07-2021'}, inplace = True)"
      ],
      "execution_count": 7,
      "outputs": []
    },
    {
      "cell_type": "code",
      "metadata": {
        "id": "wMsJU_xqfR0u"
      },
      "source": [
        "puts2 = puts.interpolate(method = 'linear', limit_direction='forward', axis=0)\n",
        "puts2 = puts.fillna(method = 'ffill')\n",
        "puts3 = puts2.fillna(method = 'bfill')\n",
        "\n",
        "x = puts3.columns.values\n",
        "y = puts3.index.values\n",
        "z = puts3.values"
      ],
      "execution_count": 8,
      "outputs": []
    },
    {
      "cell_type": "code",
      "metadata": {
        "colab": {
          "base_uri": "https://localhost:8080/",
          "height": 817
        },
        "id": "Fx2cbO25fXGG",
        "outputId": "6c149086-1cea-438c-846c-b69a20f3992c"
      },
      "source": [
        "layout = go.Layout(\n",
        "            xaxis=go.layout.XAxis(\n",
        "              title=go.layout.xaxis.Title(\n",
        "              text='Date')\n",
        "             ),\n",
        "             yaxis=go.layout.YAxis(\n",
        "              title=go.layout.yaxis.Title(\n",
        "              text='Strike') \n",
        "            ) )\n",
        "\n",
        "\n",
        "fig = go.Figure(data= [go.Surface(z=z, y=y, x=x)], layout=layout )\n",
        "fig.update_layout(title='Put Implied Volatility Surface',\n",
        "                  scene = dict(\n",
        "                    xaxis_title='Date',\n",
        "                    yaxis_title='Strike',\n",
        "                    zaxis_title='Implied Volatility'),\n",
        "                  autosize=False,\n",
        "                  width=800, height=800,\n",
        "                  margin=dict(l=65, r=50, b=65, t=90))\n",
        "fig.show()"
      ],
      "execution_count": 9,
      "outputs": [
        {
          "output_type": "display_data",
          "data": {
            "text/html": [
              "<html>\n",
              "<head><meta charset=\"utf-8\" /></head>\n",
              "<body>\n",
              "    <div>\n",
              "            <script src=\"https://cdnjs.cloudflare.com/ajax/libs/mathjax/2.7.5/MathJax.js?config=TeX-AMS-MML_SVG\"></script><script type=\"text/javascript\">if (window.MathJax) {MathJax.Hub.Config({SVG: {font: \"STIX-Web\"}});}</script>\n",
              "                <script type=\"text/javascript\">window.PlotlyConfig = {MathJaxConfig: 'local'};</script>\n",
              "        <script src=\"https://cdn.plot.ly/plotly-latest.min.js\"></script>    \n",
              "            <div id=\"b86a5f8d-d94e-4efe-8ce4-fc72e18a56af\" class=\"plotly-graph-div\" style=\"height:800px; width:800px;\"></div>\n",
              "            <script type=\"text/javascript\">\n",
              "                \n",
              "                    window.PLOTLYENV=window.PLOTLYENV || {};\n",
              "                    \n",
              "                if (document.getElementById(\"b86a5f8d-d94e-4efe-8ce4-fc72e18a56af\")) {\n",
              "                    Plotly.newPlot(\n",
              "                        'b86a5f8d-d94e-4efe-8ce4-fc72e18a56af',\n",
              "                        [{\"type\": \"surface\", \"x\": [\"Strike\", \"16-06-2023\", \"17-03-2023\", \"20-01-2023\", \"16-09-2022\", \"17-06-2022\", \"17-01-2022\", \"17-12-2021\", \"19-11-2021\", \"15-10-2021\", \"17-09-2021\", \"20-08-2021\", \"06-08-2021\", \"30-07-2021\", \"23-07-2021\", \"16-07-2021\", \"09-07-2021\", \"02-07-2021\"], \"y\": [0, 1, 2, 3, 4, 5, 6, 7, 8, 9, 10, 11, 12, 13, 14, 15, 16, 17, 18, 19, 20, 21, 22, 23, 24, 25, 26, 27, 28, 29, 30, 31, 32, 33, 34], \"z\": [[60.0, \"38.48%\", \"39.62%\", \"40.55%\", \"42.99%\", \"45.51%\", \"52.00%\", \"51.37%\", \"53.52%\", \"60.35%\", \"64.45%\", \"70.31%\", \"29.25%\", \"78.13%\", \"70.31%\", \"112.50%\", \"103.13%\", \"50.00%\"], [65.0, \"37.20%\", \"38.11%\", \"38.81%\", \"41.04%\", \"43.12%\", \"49.41%\", \"51.37%\", \"53.52%\", \"56.45%\", \"61.72%\", \"69.53%\", \"29.25%\", \"78.13%\", \"70.31%\", \"103.13%\", \"103.13%\", \"50.00%\"], [70.0, \"35.91%\", \"36.76%\", \"37.31%\", \"39.14%\", \"41.04%\", \"46.39%\", \"48.49%\", \"50.44%\", \"53.42%\", \"58.01%\", \"65.23%\", \"29.25%\", \"68.75%\", \"70.31%\", \"90.63%\", \"103.13%\", \"50.00%\"], [75.0, \"34.77%\", \"35.54%\", \"35.89%\", \"37.45%\", \"39.10%\", \"43.60%\", \"45.46%\", \"47.66%\", \"50.00%\", \"54.30%\", \"62.11%\", \"29.25%\", \"69.53%\", \"70.31%\", \"82.81%\", \"103.13%\", \"50.00%\"], [80.0, \"33.74%\", \"34.27%\", \"34.68%\", \"35.99%\", \"37.31%\", \"41.09%\", \"42.68%\", \"44.82%\", \"47.22%\", \"50.88%\", \"57.03%\", \"29.25%\", \"65.63%\", \"62.50%\", \"75.00%\", \"93.75%\", \"50.00%\"], [85.0, \"32.88%\", \"33.31%\", \"33.72%\", \"34.63%\", \"35.63%\", \"38.60%\", \"39.87%\", \"41.75%\", \"44.04%\", \"47.95%\", \"53.52%\", \"29.25%\", \"60.55%\", \"62.50%\", \"65.63%\", \"84.38%\", \"50.00%\"], [90.0, \"32.01%\", \"32.34%\", \"32.70%\", \"33.51%\", \"34.18%\", \"36.10%\", \"37.45%\", \"39.06%\", \"40.85%\", \"44.34%\", \"49.61%\", \"29.25%\", \"56.64%\", \"55.47%\", \"57.81%\", \"73.44%\", \"50.00%\"], [95.0, \"31.46%\", \"31.61%\", \"31.82%\", \"32.59%\", \"32.95%\", \"34.24%\", \"35.22%\", \"36.45%\", \"37.74%\", \"40.67%\", \"46.00%\", \"29.25%\", \"52.64%\", \"53.13%\", \"56.25%\", \"64.06%\", \"50.00%\"], [100.0, \"30.83%\", \"31.03%\", \"31.12%\", \"31.65%\", \"31.99%\", \"32.35%\", \"33.14%\", \"34.16%\", \"34.79%\", \"37.40%\", \"41.80%\", \"29.25%\", \"48.15%\", \"48.05%\", \"53.91%\", \"56.25%\", \"50.00%\"], [105.0, \"30.30%\", \"30.45%\", \"30.42%\", \"30.88%\", \"30.96%\", \"30.76%\", \"31.13%\", \"32.08%\", \"32.12%\", \"34.13%\", \"37.74%\", \"29.25%\", \"43.56%\", \"43.75%\", \"49.22%\", \"52.34%\", \"71.88%\"], [110.0, \"29.92%\", \"29.93%\", \"29.81%\", \"30.19%\", \"30.19%\", \"29.46%\", \"29.64%\", \"30.14%\", \"29.79%\", \"31.10%\", \"33.96%\", \"29.25%\", \"38.67%\", \"38.87%\", \"42.77%\", \"47.27%\", \"59.38%\"], [115.0, \"29.67%\", \"29.54%\", \"29.43%\", \"29.63%\", \"29.43%\", \"28.41%\", \"28.41%\", \"28.70%\", \"27.91%\", \"28.58%\", \"30.59%\", \"29.25%\", \"33.99%\", \"33.55%\", \"36.91%\", \"40.63%\", \"53.91%\"], [120.0, \"29.43%\", \"29.25%\", \"29.13%\", \"29.16%\", \"28.76%\", \"27.38%\", \"27.46%\", \"27.68%\", \"26.37%\", \"26.50%\", \"27.74%\", \"29.25%\", \"29.76%\", \"28.13%\", \"30.37%\", \"33.99%\", \"44.53%\"], [125.0, \"29.00%\", \"28.97%\", \"28.83%\", \"28.74%\", \"28.32%\", \"26.56%\", \"26.53%\", \"26.62%\", \"25.18%\", \"25.14%\", \"25.66%\", \"26.56%\", \"26.56%\", \"23.27%\", \"24.12%\", \"26.27%\", \"33.20%\"], [130.0, \"28.89%\", \"28.69%\", \"28.60%\", \"28.45%\", \"27.97%\", \"26.05%\", \"25.89%\", \"25.97%\", \"24.28%\", \"24.37%\", \"24.37%\", \"24.88%\", \"24.59%\", \"19.91%\", \"19.58%\", \"19.61%\", \"22.27%\"], [135.0, \"28.87%\", \"28.65%\", \"28.35%\", \"28.27%\", \"27.69%\", \"25.62%\", \"25.52%\", \"25.51%\", \"23.85%\", \"23.69%\", \"23.63%\", \"24.37%\", \"23.73%\", \"18.31%\", \"17.82%\", \"16.99%\", \"17.24%\"], [140.0, \"28.68%\", \"28.47%\", \"28.27%\", \"28.13%\", \"27.47%\", \"25.39%\", \"25.39%\", \"25.35%\", \"23.58%\", \"23.45%\", \"23.54%\", \"24.30%\", \"23.30%\", \"18.24%\", \"18.48%\", \"18.21%\", \"22.95%\"], [145.0, \"28.66%\", \"28.39%\", \"28.11%\", \"27.95%\", \"27.34%\", \"25.26%\", \"25.15%\", \"25.26%\", \"23.60%\", \"23.45%\", \"24.06%\", \"25.66%\", \"23.61%\", \"19.80%\", \"20.90%\", \"24.51%\", \"34.57%\"], [150.0, \"28.30%\", \"28.42%\", \"28.13%\", \"28.03%\", \"27.25%\", \"25.34%\", \"25.18%\", \"25.26%\", \"23.69%\", \"24.16%\", \"25.56%\", \"25.66%\", \"25.15%\", \"22.61%\", \"26.47%\", \"30.57%\", \"47.27%\"], [155.0, \"28.53%\", \"28.37%\", \"28.13%\", \"27.94%\", \"27.21%\", \"25.48%\", \"25.40%\", \"25.60%\", \"24.41%\", \"25.24%\", \"27.69%\", \"25.66%\", \"27.69%\", \"28.08%\", \"30.37%\", \"38.18%\", \"51.56%\"], [160.0, \"28.46%\", \"28.32%\", \"28.12%\", \"27.90%\", \"27.30%\", \"25.53%\", \"25.89%\", \"26.26%\", \"25.11%\", \"26.54%\", \"29.59%\", \"25.66%\", \"27.69%\", \"28.08%\", \"36.04%\", \"38.18%\", \"51.56%\"], [165.0, \"28.40%\", \"34.79%\", \"28.04%\", \"27.93%\", \"27.56%\", \"25.98%\", \"26.31%\", \"26.91%\", \"26.29%\", \"28.39%\", \"32.79%\", \"25.66%\", \"27.69%\", \"28.08%\", \"41.41%\", \"38.18%\", \"51.56%\"], [170.0, \"28.39%\", \"36.26%\", \"28.07%\", \"28.09%\", \"27.63%\", \"26.51%\", \"27.08%\", \"26.91%\", \"27.71%\", \"30.27%\", \"35.60%\", \"25.66%\", \"37.89%\", \"28.08%\", \"46.48%\", \"38.18%\", \"51.56%\"], [175.0, \"28.30%\", \"33.97%\", \"28.16%\", \"28.21%\", \"27.75%\", \"27.06%\", \"27.66%\", \"28.44%\", \"29.22%\", \"32.47%\", \"38.04%\", \"25.66%\", \"37.89%\", \"28.08%\", \"0.00%\", \"38.18%\", \"51.56%\"], [180.0, \"28.27%\", \"37.34%\", \"28.16%\", \"28.32%\", \"27.99%\", \"27.74%\", \"28.78%\", \"29.86%\", \"31.03%\", \"34.38%\", \"41.26%\", \"25.66%\", \"37.89%\", \"28.08%\", \"50.00%\", \"38.18%\", \"51.56%\"], [185.0, \"28.34%\", \"28.32%\", \"28.16%\", \"28.33%\", \"28.28%\", \"28.71%\", \"28.78%\", \"31.07%\", \"31.91%\", \"36.04%\", \"43.16%\", \"25.66%\", \"37.89%\", \"28.08%\", \"72.66%\", \"38.18%\", \"51.56%\"], [190.0, \"28.35%\", \"28.34%\", \"28.20%\", \"28.63%\", \"28.50%\", \"29.13%\", \"30.70%\", \"31.49%\", \"33.20%\", \"38.43%\", \"46.05%\", \"25.66%\", \"37.89%\", \"28.08%\", \"109.30%\", \"38.18%\", \"51.56%\"], [195.0, \"28.33%\", \"28.40%\", \"28.28%\", \"28.91%\", \"28.86%\", \"30.01%\", \"30.70%\", \"45.39%\", \"36.06%\", \"39.70%\", \"48.88%\", \"25.66%\", \"37.89%\", \"28.08%\", \"61.72%\", \"38.18%\", \"51.56%\"], [200.0, \"28.36%\", \"28.44%\", \"28.34%\", \"29.02%\", \"29.25%\", \"30.74%\", \"32.69%\", \"34.50%\", \"37.16%\", \"41.90%\", \"50.00%\", \"25.66%\", \"37.89%\", \"28.08%\", \"207.74%\", \"38.18%\", \"51.56%\"], [210.0, \"28.38%\", \"28.56%\", \"28.66%\", \"29.43%\", \"29.99%\", \"66.99%\", \"32.69%\", \"34.50%\", \"40.82%\", \"44.73%\", \"52.10%\", \"25.66%\", \"37.89%\", \"28.08%\", \"181.67%\", \"38.18%\", \"51.56%\"], [220.0, \"28.50%\", \"28.56%\", \"51.37%\", \"30.05%\", \"56.27%\", \"34.79%\", \"32.69%\", \"34.50%\", \"98.38%\", \"0.00%\", \"56.64%\", \"25.66%\", \"37.89%\", \"28.08%\", \"139.01%\", \"38.18%\", \"51.56%\"], [230.0, \"28.61%\", \"28.56%\", \"29.14%\", \"30.70%\", \"31.56%\", \"36.04%\", \"32.69%\", \"34.50%\", \"45.07%\", \"0.00%\", \"58.01%\", \"25.66%\", \"37.89%\", \"28.08%\", \"139.01%\", \"38.18%\", \"51.56%\"], [240.0, \"28.67%\", \"32.92%\", \"29.14%\", \"57.17%\", \"32.78%\", \"37.60%\", \"32.69%\", \"34.50%\", \"45.07%\", \"0.00%\", \"58.01%\", \"25.66%\", \"37.89%\", \"28.08%\", \"139.01%\", \"38.18%\", \"51.56%\"], [250.0, \"28.86%\", \"32.92%\", \"29.77%\", \"31.79%\", \"33.79%\", \"39.72%\", \"32.69%\", \"34.50%\", \"45.07%\", \"53.42%\", \"58.01%\", \"25.66%\", \"37.89%\", \"28.08%\", \"139.01%\", \"38.18%\", \"51.56%\"], [260.0, \"28.97%\", \"29.55%\", \"29.98%\", \"32.36%\", \"34.62%\", \"40.92%\", \"32.69%\", \"34.50%\", \"45.07%\", \"0.00%\", \"58.01%\", \"25.66%\", \"37.89%\", \"28.08%\", \"139.01%\", \"38.18%\", \"51.56%\"]]}],\n",
              "                        {\"autosize\": false, \"height\": 800, \"margin\": {\"b\": 65, \"l\": 65, \"r\": 50, \"t\": 90}, \"scene\": {\"xaxis\": {\"title\": {\"text\": \"Date\"}}, \"yaxis\": {\"title\": {\"text\": \"Strike\"}}, \"zaxis\": {\"title\": {\"text\": \"Implied Volatility\"}}}, \"template\": {\"data\": {\"bar\": [{\"error_x\": {\"color\": \"#2a3f5f\"}, \"error_y\": {\"color\": \"#2a3f5f\"}, \"marker\": {\"line\": {\"color\": \"#E5ECF6\", \"width\": 0.5}}, \"type\": \"bar\"}], \"barpolar\": [{\"marker\": {\"line\": {\"color\": \"#E5ECF6\", \"width\": 0.5}}, \"type\": \"barpolar\"}], \"carpet\": [{\"aaxis\": {\"endlinecolor\": \"#2a3f5f\", \"gridcolor\": \"white\", \"linecolor\": \"white\", \"minorgridcolor\": \"white\", \"startlinecolor\": \"#2a3f5f\"}, \"baxis\": {\"endlinecolor\": \"#2a3f5f\", \"gridcolor\": \"white\", \"linecolor\": \"white\", \"minorgridcolor\": \"white\", \"startlinecolor\": \"#2a3f5f\"}, \"type\": \"carpet\"}], \"choropleth\": [{\"colorbar\": {\"outlinewidth\": 0, \"ticks\": \"\"}, \"type\": \"choropleth\"}], \"contour\": [{\"colorbar\": {\"outlinewidth\": 0, \"ticks\": \"\"}, \"colorscale\": [[0.0, \"#0d0887\"], [0.1111111111111111, \"#46039f\"], [0.2222222222222222, \"#7201a8\"], [0.3333333333333333, \"#9c179e\"], [0.4444444444444444, \"#bd3786\"], [0.5555555555555556, \"#d8576b\"], [0.6666666666666666, \"#ed7953\"], [0.7777777777777778, \"#fb9f3a\"], [0.8888888888888888, \"#fdca26\"], [1.0, \"#f0f921\"]], \"type\": \"contour\"}], \"contourcarpet\": [{\"colorbar\": {\"outlinewidth\": 0, \"ticks\": \"\"}, \"type\": \"contourcarpet\"}], \"heatmap\": [{\"colorbar\": {\"outlinewidth\": 0, \"ticks\": \"\"}, \"colorscale\": [[0.0, \"#0d0887\"], [0.1111111111111111, \"#46039f\"], [0.2222222222222222, \"#7201a8\"], [0.3333333333333333, \"#9c179e\"], [0.4444444444444444, \"#bd3786\"], [0.5555555555555556, \"#d8576b\"], [0.6666666666666666, \"#ed7953\"], [0.7777777777777778, \"#fb9f3a\"], [0.8888888888888888, \"#fdca26\"], [1.0, \"#f0f921\"]], \"type\": \"heatmap\"}], \"heatmapgl\": [{\"colorbar\": {\"outlinewidth\": 0, \"ticks\": \"\"}, \"colorscale\": [[0.0, \"#0d0887\"], [0.1111111111111111, \"#46039f\"], [0.2222222222222222, \"#7201a8\"], [0.3333333333333333, \"#9c179e\"], [0.4444444444444444, \"#bd3786\"], [0.5555555555555556, \"#d8576b\"], [0.6666666666666666, \"#ed7953\"], [0.7777777777777778, \"#fb9f3a\"], [0.8888888888888888, \"#fdca26\"], [1.0, \"#f0f921\"]], \"type\": \"heatmapgl\"}], \"histogram\": [{\"marker\": {\"colorbar\": {\"outlinewidth\": 0, \"ticks\": \"\"}}, \"type\": \"histogram\"}], \"histogram2d\": [{\"colorbar\": {\"outlinewidth\": 0, \"ticks\": \"\"}, \"colorscale\": [[0.0, \"#0d0887\"], [0.1111111111111111, \"#46039f\"], [0.2222222222222222, \"#7201a8\"], [0.3333333333333333, \"#9c179e\"], [0.4444444444444444, \"#bd3786\"], [0.5555555555555556, \"#d8576b\"], [0.6666666666666666, \"#ed7953\"], [0.7777777777777778, \"#fb9f3a\"], [0.8888888888888888, \"#fdca26\"], [1.0, \"#f0f921\"]], \"type\": \"histogram2d\"}], \"histogram2dcontour\": [{\"colorbar\": {\"outlinewidth\": 0, \"ticks\": \"\"}, \"colorscale\": [[0.0, \"#0d0887\"], [0.1111111111111111, \"#46039f\"], [0.2222222222222222, \"#7201a8\"], [0.3333333333333333, \"#9c179e\"], [0.4444444444444444, \"#bd3786\"], [0.5555555555555556, \"#d8576b\"], [0.6666666666666666, \"#ed7953\"], [0.7777777777777778, \"#fb9f3a\"], [0.8888888888888888, \"#fdca26\"], [1.0, \"#f0f921\"]], \"type\": \"histogram2dcontour\"}], \"mesh3d\": [{\"colorbar\": {\"outlinewidth\": 0, \"ticks\": \"\"}, \"type\": \"mesh3d\"}], \"parcoords\": [{\"line\": {\"colorbar\": {\"outlinewidth\": 0, \"ticks\": \"\"}}, \"type\": \"parcoords\"}], \"pie\": [{\"automargin\": true, \"type\": \"pie\"}], \"scatter\": [{\"marker\": {\"colorbar\": {\"outlinewidth\": 0, \"ticks\": \"\"}}, \"type\": \"scatter\"}], \"scatter3d\": [{\"line\": {\"colorbar\": {\"outlinewidth\": 0, \"ticks\": \"\"}}, \"marker\": {\"colorbar\": {\"outlinewidth\": 0, \"ticks\": \"\"}}, \"type\": \"scatter3d\"}], \"scattercarpet\": [{\"marker\": {\"colorbar\": {\"outlinewidth\": 0, \"ticks\": \"\"}}, \"type\": \"scattercarpet\"}], \"scattergeo\": [{\"marker\": {\"colorbar\": {\"outlinewidth\": 0, \"ticks\": \"\"}}, \"type\": \"scattergeo\"}], \"scattergl\": [{\"marker\": {\"colorbar\": {\"outlinewidth\": 0, \"ticks\": \"\"}}, \"type\": \"scattergl\"}], \"scattermapbox\": [{\"marker\": {\"colorbar\": {\"outlinewidth\": 0, \"ticks\": \"\"}}, \"type\": \"scattermapbox\"}], \"scatterpolar\": [{\"marker\": {\"colorbar\": {\"outlinewidth\": 0, \"ticks\": \"\"}}, \"type\": \"scatterpolar\"}], \"scatterpolargl\": [{\"marker\": {\"colorbar\": {\"outlinewidth\": 0, \"ticks\": \"\"}}, \"type\": \"scatterpolargl\"}], \"scatterternary\": [{\"marker\": {\"colorbar\": {\"outlinewidth\": 0, \"ticks\": \"\"}}, \"type\": \"scatterternary\"}], \"surface\": [{\"colorbar\": {\"outlinewidth\": 0, \"ticks\": \"\"}, \"colorscale\": [[0.0, \"#0d0887\"], [0.1111111111111111, \"#46039f\"], [0.2222222222222222, \"#7201a8\"], [0.3333333333333333, \"#9c179e\"], [0.4444444444444444, \"#bd3786\"], [0.5555555555555556, \"#d8576b\"], [0.6666666666666666, \"#ed7953\"], [0.7777777777777778, \"#fb9f3a\"], [0.8888888888888888, \"#fdca26\"], [1.0, \"#f0f921\"]], \"type\": \"surface\"}], \"table\": [{\"cells\": {\"fill\": {\"color\": \"#EBF0F8\"}, \"line\": {\"color\": \"white\"}}, \"header\": {\"fill\": {\"color\": \"#C8D4E3\"}, \"line\": {\"color\": \"white\"}}, \"type\": \"table\"}]}, \"layout\": {\"annotationdefaults\": {\"arrowcolor\": \"#2a3f5f\", \"arrowhead\": 0, \"arrowwidth\": 1}, \"coloraxis\": {\"colorbar\": {\"outlinewidth\": 0, \"ticks\": \"\"}}, \"colorscale\": {\"diverging\": [[0, \"#8e0152\"], [0.1, \"#c51b7d\"], [0.2, \"#de77ae\"], [0.3, \"#f1b6da\"], [0.4, \"#fde0ef\"], [0.5, \"#f7f7f7\"], [0.6, \"#e6f5d0\"], [0.7, \"#b8e186\"], [0.8, \"#7fbc41\"], [0.9, \"#4d9221\"], [1, \"#276419\"]], \"sequential\": [[0.0, \"#0d0887\"], [0.1111111111111111, \"#46039f\"], [0.2222222222222222, \"#7201a8\"], [0.3333333333333333, \"#9c179e\"], [0.4444444444444444, \"#bd3786\"], [0.5555555555555556, \"#d8576b\"], [0.6666666666666666, \"#ed7953\"], [0.7777777777777778, \"#fb9f3a\"], [0.8888888888888888, \"#fdca26\"], [1.0, \"#f0f921\"]], \"sequentialminus\": [[0.0, \"#0d0887\"], [0.1111111111111111, \"#46039f\"], [0.2222222222222222, \"#7201a8\"], [0.3333333333333333, \"#9c179e\"], [0.4444444444444444, \"#bd3786\"], [0.5555555555555556, \"#d8576b\"], [0.6666666666666666, \"#ed7953\"], [0.7777777777777778, \"#fb9f3a\"], [0.8888888888888888, \"#fdca26\"], [1.0, \"#f0f921\"]]}, \"colorway\": [\"#636efa\", \"#EF553B\", \"#00cc96\", \"#ab63fa\", \"#FFA15A\", \"#19d3f3\", \"#FF6692\", \"#B6E880\", \"#FF97FF\", \"#FECB52\"], \"font\": {\"color\": \"#2a3f5f\"}, \"geo\": {\"bgcolor\": \"white\", \"lakecolor\": \"white\", \"landcolor\": \"#E5ECF6\", \"showlakes\": true, \"showland\": true, \"subunitcolor\": \"white\"}, \"hoverlabel\": {\"align\": \"left\"}, \"hovermode\": \"closest\", \"mapbox\": {\"style\": \"light\"}, \"paper_bgcolor\": \"white\", \"plot_bgcolor\": \"#E5ECF6\", \"polar\": {\"angularaxis\": {\"gridcolor\": \"white\", \"linecolor\": \"white\", \"ticks\": \"\"}, \"bgcolor\": \"#E5ECF6\", \"radialaxis\": {\"gridcolor\": \"white\", \"linecolor\": \"white\", \"ticks\": \"\"}}, \"scene\": {\"xaxis\": {\"backgroundcolor\": \"#E5ECF6\", \"gridcolor\": \"white\", \"gridwidth\": 2, \"linecolor\": \"white\", \"showbackground\": true, \"ticks\": \"\", \"zerolinecolor\": \"white\"}, \"yaxis\": {\"backgroundcolor\": \"#E5ECF6\", \"gridcolor\": \"white\", \"gridwidth\": 2, \"linecolor\": \"white\", \"showbackground\": true, \"ticks\": \"\", \"zerolinecolor\": \"white\"}, \"zaxis\": {\"backgroundcolor\": \"#E5ECF6\", \"gridcolor\": \"white\", \"gridwidth\": 2, \"linecolor\": \"white\", \"showbackground\": true, \"ticks\": \"\", \"zerolinecolor\": \"white\"}}, \"shapedefaults\": {\"line\": {\"color\": \"#2a3f5f\"}}, \"ternary\": {\"aaxis\": {\"gridcolor\": \"white\", \"linecolor\": \"white\", \"ticks\": \"\"}, \"baxis\": {\"gridcolor\": \"white\", \"linecolor\": \"white\", \"ticks\": \"\"}, \"bgcolor\": \"#E5ECF6\", \"caxis\": {\"gridcolor\": \"white\", \"linecolor\": \"white\", \"ticks\": \"\"}}, \"title\": {\"x\": 0.05}, \"xaxis\": {\"automargin\": true, \"gridcolor\": \"white\", \"linecolor\": \"white\", \"ticks\": \"\", \"title\": {\"standoff\": 15}, \"zerolinecolor\": \"white\", \"zerolinewidth\": 2}, \"yaxis\": {\"automargin\": true, \"gridcolor\": \"white\", \"linecolor\": \"white\", \"ticks\": \"\", \"title\": {\"standoff\": 15}, \"zerolinecolor\": \"white\", \"zerolinewidth\": 2}}}, \"title\": {\"text\": \"Put Implied Volatility Surface\"}, \"width\": 800, \"xaxis\": {\"title\": {\"text\": \"Date\"}}, \"yaxis\": {\"title\": {\"text\": \"Strike\"}}},\n",
              "                        {\"responsive\": true}\n",
              "                    ).then(function(){\n",
              "                            \n",
              "var gd = document.getElementById('b86a5f8d-d94e-4efe-8ce4-fc72e18a56af');\n",
              "var x = new MutationObserver(function (mutations, observer) {{\n",
              "        var display = window.getComputedStyle(gd).display;\n",
              "        if (!display || display === 'none') {{\n",
              "            console.log([gd, 'removed!']);\n",
              "            Plotly.purge(gd);\n",
              "            observer.disconnect();\n",
              "        }}\n",
              "}});\n",
              "\n",
              "// Listen for the removal of the full notebook cells\n",
              "var notebookContainer = gd.closest('#notebook-container');\n",
              "if (notebookContainer) {{\n",
              "    x.observe(notebookContainer, {childList: true});\n",
              "}}\n",
              "\n",
              "// Listen for the clearing of the current output cell\n",
              "var outputEl = gd.closest('.output');\n",
              "if (outputEl) {{\n",
              "    x.observe(outputEl, {childList: true});\n",
              "}}\n",
              "\n",
              "                        })\n",
              "                };\n",
              "                \n",
              "            </script>\n",
              "        </div>\n",
              "</body>\n",
              "</html>"
            ]
          },
          "metadata": {
            "tags": []
          }
        }
      ]
    }
  ]
}