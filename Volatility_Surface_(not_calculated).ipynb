{
  "nbformat": 4,
  "nbformat_minor": 0,
  "metadata": {
    "colab": {
      "name": "Volatility Surface (not calculated).ipynb",
      "provenance": [],
      "collapsed_sections": [],
      "include_colab_link": true
    },
    "kernelspec": {
      "name": "python3",
      "display_name": "Python 3"
    },
    "language_info": {
      "name": "python"
    }
  },
  "cells": [
    {
      "cell_type": "markdown",
      "metadata": {
        "id": "view-in-github",
        "colab_type": "text"
      },
      "source": [
        "<a href=\"https://colab.research.google.com/github/ale-camer/Finance/blob/master/Volatility_Surface_(not_calculated).ipynb\" target=\"_parent\"><img src=\"https://colab.research.google.com/assets/colab-badge.svg\" alt=\"Open In Colab\"/></a>"
      ]
    },
    {
      "cell_type": "code",
      "source": [
        "# installing package if required to download financial data\n",
        "\n",
        "import pandas as pd\n",
        "\n",
        "packages = !pip list -v\n",
        "packagesList = []\n",
        "for i in range(len(packages)):\n",
        "  packagesList.append(packages[i].split())\n",
        "packagesList = pd.DataFrame(packagesList)\n",
        "packagesList.columns = packagesList.iloc[0,:]\n",
        "packagesList = packagesList.iloc[2:,:]\n",
        "\n",
        "if 'yfinance' in packagesList.iloc[:,0].values:\n",
        "  print(\"yfinance package was already installed.\")\n",
        "  pass\n",
        "else:\n",
        "  !pip install -q yfinance\n",
        "  print(\"yfinance package was installed\")"
      ],
      "metadata": {
        "id": "Y1IR9Z0QASf9",
        "outputId": "fa5beb3b-3c54-4b18-bcfd-c9052f2622c1",
        "colab": {
          "base_uri": "https://localhost:8080/"
        }
      },
      "execution_count": 1,
      "outputs": [
        {
          "output_type": "stream",
          "name": "stdout",
          "text": [
            "\u001b[K     |████████████████████████████████| 62 kB 291 kB/s \n",
            "\u001b[K     |████████████████████████████████| 6.4 MB 23.7 MB/s \n",
            "\u001b[31mERROR: pip's dependency resolver does not currently take into account all the packages that are installed. This behaviour is the source of the following dependency conflicts.\n",
            "google-colab 1.0.0 requires requests~=2.23.0, but you have requests 2.28.0 which is incompatible.\n",
            "datascience 0.10.6 requires folium==0.2.1, but you have folium 0.8.3 which is incompatible.\u001b[0m\n",
            "\u001b[?25hyfinance package was installed\n"
          ]
        }
      ]
    },
    {
      "cell_type": "code",
      "source": [
        "def expVolSurf():\n",
        "\n",
        "  \"\"\" Provide 3D plot of the volatilty surface of calls and puts of any stock listed in the New York Stock Exchange (NYSE).\n",
        "    The whole data is download and calculated by Yahoo Finance.\n",
        "    Only is considered options that were traded in the last business day. \"\"\"\n",
        "\n",
        "  try:\n",
        "\n",
        "    import pandas as pd\n",
        "    import plotly.graph_objects as go\n",
        "    import warnings\n",
        "    warnings.filterwarnings('ignore')\n",
        "    import yfinance as yf\n",
        "    from sklearn.impute import KNNImputer\n",
        "    from tqdm import tqdm\n",
        "    import sys\n",
        "    from plotly.offline import iplot\n",
        "\n",
        "    imputer = KNNImputer(n_neighbors=5)\n",
        "    ticker = input(\"Please, insert the Ticker: \")\n",
        "    aapl = yf.Ticker(ticker)\n",
        "    dates = aapl.options\n",
        "\n",
        "    print(\"Downloading data\")\n",
        "    calls, puts = pd.DataFrame(), pd.DataFrame()\n",
        "    for date in tqdm(range(len(dates))):\n",
        "        try:\n",
        "            calls = calls.append(aapl.option_chain(dates[date]).calls,ignore_index=True)\n",
        "            puts = puts.append(aapl.option_chain(dates[date]).puts,ignore_index=True)\n",
        "        except:\n",
        "            continue  \n",
        "\n",
        "    print(\"Processing data\")\n",
        "    lastTradeDate = pd.Series(pd.DataFrame(calls['lastTradeDate'])['lastTradeDate'].apply(lambda a: a.strftime('%Y-%m-%d')).unique()).sort_values(ascending=False)[0]\n",
        "    calls, puts = calls[calls['lastTradeDate'].apply(lambda a: a.strftime('%Y-%m-%d')) == lastTradeDate], puts[puts['lastTradeDate'].apply(lambda a: a.strftime('%Y-%m-%d')) == lastTradeDate]\n",
        "    calls['lastTradeDate'], puts['lastTradeDate'] = calls['lastTradeDate'].apply(lambda a: a.strftime('%Y-%m-%d')), puts['lastTradeDate'].apply(lambda a: a.strftime('%Y-%m-%d'))\n",
        "    calls['expirationDate'], puts['expirationDate'] = '20' + calls['contractSymbol'].apply(lambda a: a[-15:][:2] + '-' + a[-13:][:2] + '-' + a[-11:][:2]), \\\n",
        "    '20' + puts['contractSymbol'].apply(lambda a: a[-15:][:2] + '-' + a[-13:][:2] + '-' + a[-11:][:2])\n",
        "    strikes = calls.strike.value_counts()[calls.strike.value_counts() >= calls.strike.value_counts().values[:10].min()].index\n",
        "    calls, puts = calls[calls.strike.isin(strikes)], puts[puts.strike.isin(strikes)]\n",
        "    calls, puts = pd.pivot_table(data = calls, values = 'impliedVolatility', columns = 'strike', index = 'expirationDate'), \\\n",
        "    pd.pivot_table(data = puts, values = 'impliedVolatility', columns = 'strike', index = 'expirationDate')\n",
        "\n",
        "    na_prop = (calls.isna().sum().sum() / (calls.shape[0] * calls.shape[1]) + puts.isna().sum().sum() / (puts.shape[0] * puts.shape[1])) / 2\n",
        "    if na_prop >= 0.4:\n",
        "      sys.exit()\n",
        "    else:\n",
        "      pass\n",
        "\n",
        "    calls1, puts1 = pd.DataFrame(imputer.fit_transform(calls)), pd.DataFrame(imputer.fit_transform(puts))\n",
        "    calls1.index, calls1.columns, puts1.index, puts1.columns = calls.index, calls.columns, puts.index, puts.columns\n",
        "\n",
        "    print(\"Printing images\")\n",
        "    xc, yc, zc = calls1.columns, calls1.index.values, calls1.values\n",
        "    xp, yp, zp = puts1.columns, puts1.index.values, puts1.values\n",
        "\n",
        "    layout = go.Layout(xaxis = go.layout.XAxis(\n",
        "        title = go.layout.xaxis.Title(\n",
        "            text = 'Date')),\n",
        "        yaxis = go.layout.YAxis(\n",
        "            title = go.layout.yaxis.Title(\n",
        "                text = 'Strike')))\n",
        "\n",
        "    fig = go.Figure(data = [go.Surface(z = zc, y = yc, x = xc)], layout = layout)\n",
        "    fig.update_layout(title = f'{ticker.upper()} Call Implied Volatility Surface',\n",
        "                      scene = dict(\n",
        "                        xaxis_title = 'Strike',\n",
        "                        yaxis_title = 'Date',\n",
        "                        zaxis_title = 'Implied Volatility'),\n",
        "                      autosize = False,\n",
        "                      width = 800, height = 800,\n",
        "                      margin = dict(l = 65, r = 50, b = 65, t = 90))\n",
        "    iplot(fig)\n",
        "\n",
        "    fig = go.Figure(data= [go.Surface(z = zp, y = yp, x = xp)], layout = layout)\n",
        "    fig.update_layout(title = f'{ticker.upper()} Put Implied Volatility Surface',\n",
        "                      scene = dict(\n",
        "                        xaxis_title = 'Strike',\n",
        "                        yaxis_title = 'Date',\n",
        "                        zaxis_title = 'Implied Volatility'),\n",
        "                      autosize = False,\n",
        "                      width = 800, height = 800,\n",
        "                      margin = dict(l = 65, r = 50, b = 65, t = 90))\n",
        "    iplot(fig)\n",
        "\n",
        "  except:\n",
        "\n",
        "    print(\"\\n Not enough data available. Please, run the program again and choose another ticker.\")"
      ],
      "metadata": {
        "id": "BENEQStv2IgC"
      },
      "execution_count": null,
      "outputs": []
    },
    {
      "cell_type": "code",
      "source": [
        "expVolSurf()"
      ],
      "metadata": {
        "colab": {
          "base_uri": "https://localhost:8080/",
          "height": 1000
        },
        "id": "tKNgxIPE8Qhv",
        "outputId": "fe721b84-cbf4-44f1-865e-beef7f113ff8"
      },
      "execution_count": 7,
      "outputs": [
        {
          "output_type": "stream",
          "name": "stdout",
          "text": [
            "Please, insert the Ticker: aapl\n",
            "Downloading data\n"
          ]
        },
        {
          "output_type": "stream",
          "name": "stderr",
          "text": [
            "100%|██████████| 18/18 [00:04<00:00,  4.28it/s]\n"
          ]
        },
        {
          "output_type": "stream",
          "name": "stdout",
          "text": [
            "Processing data\n",
            "Printing images\n"
          ]
        },
        {
          "output_type": "display_data",
          "data": {
            "text/html": [
              "<html>\n",
              "<head><meta charset=\"utf-8\" /></head>\n",
              "<body>\n",
              "    <div>            <script src=\"https://cdnjs.cloudflare.com/ajax/libs/mathjax/2.7.5/MathJax.js?config=TeX-AMS-MML_SVG\"></script><script type=\"text/javascript\">if (window.MathJax) {MathJax.Hub.Config({SVG: {font: \"STIX-Web\"}});}</script>                <script type=\"text/javascript\">window.PlotlyConfig = {MathJaxConfig: 'local'};</script>\n",
              "        <script src=\"https://cdn.plot.ly/plotly-2.8.3.min.js\"></script>                <div id=\"ce5aeeef-1bea-48f5-a600-49c18fe61043\" class=\"plotly-graph-div\" style=\"height:800px; width:800px;\"></div>            <script type=\"text/javascript\">                                    window.PLOTLYENV=window.PLOTLYENV || {};                                    if (document.getElementById(\"ce5aeeef-1bea-48f5-a600-49c18fe61043\")) {                    Plotly.newPlot(                        \"ce5aeeef-1bea-48f5-a600-49c18fe61043\",                        [{\"x\":[110.0,115.0,120.0,130.0,135.0,140.0,145.0,150.0,155.0,160.0,165.0,170.0,175.0,180.0],\"y\":[\"2022-06-17\",\"2022-06-24\",\"2022-07-01\",\"2022-07-08\",\"2022-07-15\",\"2022-07-22\",\"2022-07-29\",\"2022-08-19\",\"2022-09-16\",\"2022-10-21\",\"2022-11-18\",\"2022-12-16\",\"2023-01-20\",\"2023-03-17\",\"2023-06-16\",\"2023-09-15\",\"2024-01-19\",\"2024-06-21\"],\"z\":[[1.6533220458984377,1.2988316308593748,0.8652357226562499,0.4414118359375,0.4023497265625,0.507817421875,0.5625043750000001,0.7187528125,0.8437515624999999,0.9687503125,1.125004375,1.2500037499999999,1.3437532812499997,1.4375028125],[0.8315446533203124,0.6875031250000001,0.5766643896484375,0.44727115234375,0.40161731201171874,0.3794007373046875,0.398443515625,0.437505625,0.48438015625,0.51562984375,0.57812921875,0.57812921875,0.6250037500000001,0.6875031250000001],[0.680911394042969,0.5981485498046876,0.5283250292968751,0.4426325268554688,0.3942931665039063,0.37915659912109373,0.38086556640624997,0.3940490283203125,0.414068359375,0.445318046875,0.4687553125,0.507817421875,0.5273484765625001,0.570316796875],[0.610599597167969,0.5485884985351563,0.5028125891113282,0.41358008300781246,0.3888000573730469,0.37134417724609375,0.362311064453125,0.362311064453125,0.38086556640624997,0.4023497265625,0.42578699218750005,0.44727115234375,0.4726615234375,0.48828636718750007],[0.5734905932617188,0.5246629565429688,0.48730981445312505,0.41480077392578124,0.3920959228515625,0.36743796630859377,0.3566958862304687,0.3579165771484375,0.36524072265625,0.375982802734375,0.393560751953125,0.41211525390625,0.42578699218750005,0.445318046875],[0.559574716796875,0.507817421875,0.48608912353515626,0.41260353027343744,0.39331661376953125,0.37476211181640623,0.36084623535156246,0.35547519531249994,0.358404853515625,0.3632876171875,0.37500625,0.39160764648437496,0.41211525390625,0.42774009765625004],[0.5778850805664062,0.5305222729492188,0.4986622399902344,0.4414118359375,0.4202938830566406,0.4078428356933594,0.3930724755859375,0.38587039916992183,0.38281867187499996,0.3850159155273437,0.39014281738281253,0.397466962890625,0.411138701171875,0.42676354492187507],[0.5123339782714844,0.48792015991210946,0.4627739270019532,0.41528905029296875,0.39942006835937505,0.3841614318847656,0.3700624517822265,0.36133451171875,0.3573062316894531,0.3562076098632812,0.3579165771484375,0.36524072265625,0.3706117626953125,0.37793590820312495],[0.4779104943847656,0.4676566906738281,0.4408014904785156,0.40479110839843746,0.3878235046386719,0.37177141906738287,0.36304347900390627,0.3518131225585937,0.3460758752441406,0.3402165588378906,0.3404606970214844,0.3415593188476562,0.3442448388671875,0.3501041552734374],[0.4738211798095704,0.45075012145996096,0.4274959594726563,0.39600213378906257,0.38184211914062494,0.37030658996582033,0.3580386462402344,0.34918863708496095,0.341376215209961,0.33612724426269536,0.3320379296875,0.32959654785156245,0.32959654785156245,0.3303289624023437],[0.4670463452148438,0.44470770141601557,0.4276180285644532,0.3944762701416016,0.38446660461425775,0.3748841809082031,0.36273830627441406,0.35455967712402336,0.34802898071289057,0.341376215209961,0.3367986242675781,0.33338068969726564,0.33228206787109377,0.3327703442382813],[0.45404598693847653,0.43317217224121096,0.417425259399414,0.3947814428710938,0.3826355682373046,0.3757081472778321,0.3629214099121094,0.3541324353027343,0.34729656616210935,0.34168138793945313,0.33777517700195314,0.3340520697021484,0.32971861694335935,0.3288641333007812],[0.45111632873535157,0.4309138940429688,0.41974457214355465,0.39111937011718745,0.37964487548828124,0.36963520996093746,0.35986968261718744,0.3517520880126953,0.3443669079589844,0.3414372497558594,0.33618827880859375,0.33130551513671874,0.3298406860351562,0.3263006823730469],[0.4343318286132813,0.4207211248779297,0.4089719747924804,0.39050902465820314,0.38104867004394527,0.36914693359375,0.3648745153808594,0.35712312805175783,0.3530338134765625,0.3443974252319336,0.34314621704101556,0.33789724609375,0.3345403460693359,0.3321599987792969],[0.4350032086181641,0.42737389038085943,0.4120542193603516,0.3904479901123047,0.38245246459960935,0.3748841809082031,0.367743139038086,0.36212796081542964,0.35822174987792965,0.35108070800781244,0.34708294525146477,0.342230698852539,0.34168138793945313,0.33978931701660153],[0.42767906311035164,0.41608249938964836,0.4038450729370118,0.38886109191894536,0.3803772900390625,0.37436538726806634,0.3682619326782227,0.36035795898437495,0.35596347167968745,0.3526676062011719,0.3497379479980468,0.34540449523925776,0.34168138793945313,0.33994190338134767],[0.42380336944580077,0.4149228430175781,0.40396714202880857,0.3890441955566406,0.3808350491333008,0.37518935363769534,0.3697877963256836,0.3654238262939453,0.35986968261718744,0.3562686444091796,0.35239295074462884,0.34833415344238283,0.34586225433349604,0.34076586975097656],[0.42343716217041016,0.4143735321044921,0.40823956024169916,0.3945983392333985,0.3864807446289062,0.3809571182250976,0.3772950454711914,0.37280900634765624,0.3695436581420898,0.36414210083007814,0.36081571807861323,0.35751985260009767,0.35358312438964834,0.3505619143676757]],\"type\":\"surface\"}],                        {\"autosize\":false,\"height\":800,\"margin\":{\"b\":65,\"l\":65,\"r\":50,\"t\":90},\"scene\":{\"xaxis\":{\"title\":{\"text\":\"Strike\"}},\"yaxis\":{\"title\":{\"text\":\"Date\"}},\"zaxis\":{\"title\":{\"text\":\"Implied Volatility\"}}},\"template\":{\"data\":{\"barpolar\":[{\"marker\":{\"line\":{\"color\":\"#E5ECF6\",\"width\":0.5},\"pattern\":{\"fillmode\":\"overlay\",\"size\":10,\"solidity\":0.2}},\"type\":\"barpolar\"}],\"bar\":[{\"error_x\":{\"color\":\"#2a3f5f\"},\"error_y\":{\"color\":\"#2a3f5f\"},\"marker\":{\"line\":{\"color\":\"#E5ECF6\",\"width\":0.5},\"pattern\":{\"fillmode\":\"overlay\",\"size\":10,\"solidity\":0.2}},\"type\":\"bar\"}],\"carpet\":[{\"aaxis\":{\"endlinecolor\":\"#2a3f5f\",\"gridcolor\":\"white\",\"linecolor\":\"white\",\"minorgridcolor\":\"white\",\"startlinecolor\":\"#2a3f5f\"},\"baxis\":{\"endlinecolor\":\"#2a3f5f\",\"gridcolor\":\"white\",\"linecolor\":\"white\",\"minorgridcolor\":\"white\",\"startlinecolor\":\"#2a3f5f\"},\"type\":\"carpet\"}],\"choropleth\":[{\"colorbar\":{\"outlinewidth\":0,\"ticks\":\"\"},\"type\":\"choropleth\"}],\"contourcarpet\":[{\"colorbar\":{\"outlinewidth\":0,\"ticks\":\"\"},\"type\":\"contourcarpet\"}],\"contour\":[{\"colorbar\":{\"outlinewidth\":0,\"ticks\":\"\"},\"colorscale\":[[0.0,\"#0d0887\"],[0.1111111111111111,\"#46039f\"],[0.2222222222222222,\"#7201a8\"],[0.3333333333333333,\"#9c179e\"],[0.4444444444444444,\"#bd3786\"],[0.5555555555555556,\"#d8576b\"],[0.6666666666666666,\"#ed7953\"],[0.7777777777777778,\"#fb9f3a\"],[0.8888888888888888,\"#fdca26\"],[1.0,\"#f0f921\"]],\"type\":\"contour\"}],\"heatmapgl\":[{\"colorbar\":{\"outlinewidth\":0,\"ticks\":\"\"},\"colorscale\":[[0.0,\"#0d0887\"],[0.1111111111111111,\"#46039f\"],[0.2222222222222222,\"#7201a8\"],[0.3333333333333333,\"#9c179e\"],[0.4444444444444444,\"#bd3786\"],[0.5555555555555556,\"#d8576b\"],[0.6666666666666666,\"#ed7953\"],[0.7777777777777778,\"#fb9f3a\"],[0.8888888888888888,\"#fdca26\"],[1.0,\"#f0f921\"]],\"type\":\"heatmapgl\"}],\"heatmap\":[{\"colorbar\":{\"outlinewidth\":0,\"ticks\":\"\"},\"colorscale\":[[0.0,\"#0d0887\"],[0.1111111111111111,\"#46039f\"],[0.2222222222222222,\"#7201a8\"],[0.3333333333333333,\"#9c179e\"],[0.4444444444444444,\"#bd3786\"],[0.5555555555555556,\"#d8576b\"],[0.6666666666666666,\"#ed7953\"],[0.7777777777777778,\"#fb9f3a\"],[0.8888888888888888,\"#fdca26\"],[1.0,\"#f0f921\"]],\"type\":\"heatmap\"}],\"histogram2dcontour\":[{\"colorbar\":{\"outlinewidth\":0,\"ticks\":\"\"},\"colorscale\":[[0.0,\"#0d0887\"],[0.1111111111111111,\"#46039f\"],[0.2222222222222222,\"#7201a8\"],[0.3333333333333333,\"#9c179e\"],[0.4444444444444444,\"#bd3786\"],[0.5555555555555556,\"#d8576b\"],[0.6666666666666666,\"#ed7953\"],[0.7777777777777778,\"#fb9f3a\"],[0.8888888888888888,\"#fdca26\"],[1.0,\"#f0f921\"]],\"type\":\"histogram2dcontour\"}],\"histogram2d\":[{\"colorbar\":{\"outlinewidth\":0,\"ticks\":\"\"},\"colorscale\":[[0.0,\"#0d0887\"],[0.1111111111111111,\"#46039f\"],[0.2222222222222222,\"#7201a8\"],[0.3333333333333333,\"#9c179e\"],[0.4444444444444444,\"#bd3786\"],[0.5555555555555556,\"#d8576b\"],[0.6666666666666666,\"#ed7953\"],[0.7777777777777778,\"#fb9f3a\"],[0.8888888888888888,\"#fdca26\"],[1.0,\"#f0f921\"]],\"type\":\"histogram2d\"}],\"histogram\":[{\"marker\":{\"pattern\":{\"fillmode\":\"overlay\",\"size\":10,\"solidity\":0.2}},\"type\":\"histogram\"}],\"mesh3d\":[{\"colorbar\":{\"outlinewidth\":0,\"ticks\":\"\"},\"type\":\"mesh3d\"}],\"parcoords\":[{\"line\":{\"colorbar\":{\"outlinewidth\":0,\"ticks\":\"\"}},\"type\":\"parcoords\"}],\"pie\":[{\"automargin\":true,\"type\":\"pie\"}],\"scatter3d\":[{\"line\":{\"colorbar\":{\"outlinewidth\":0,\"ticks\":\"\"}},\"marker\":{\"colorbar\":{\"outlinewidth\":0,\"ticks\":\"\"}},\"type\":\"scatter3d\"}],\"scattercarpet\":[{\"marker\":{\"colorbar\":{\"outlinewidth\":0,\"ticks\":\"\"}},\"type\":\"scattercarpet\"}],\"scattergeo\":[{\"marker\":{\"colorbar\":{\"outlinewidth\":0,\"ticks\":\"\"}},\"type\":\"scattergeo\"}],\"scattergl\":[{\"marker\":{\"colorbar\":{\"outlinewidth\":0,\"ticks\":\"\"}},\"type\":\"scattergl\"}],\"scattermapbox\":[{\"marker\":{\"colorbar\":{\"outlinewidth\":0,\"ticks\":\"\"}},\"type\":\"scattermapbox\"}],\"scatterpolargl\":[{\"marker\":{\"colorbar\":{\"outlinewidth\":0,\"ticks\":\"\"}},\"type\":\"scatterpolargl\"}],\"scatterpolar\":[{\"marker\":{\"colorbar\":{\"outlinewidth\":0,\"ticks\":\"\"}},\"type\":\"scatterpolar\"}],\"scatter\":[{\"marker\":{\"colorbar\":{\"outlinewidth\":0,\"ticks\":\"\"}},\"type\":\"scatter\"}],\"scatterternary\":[{\"marker\":{\"colorbar\":{\"outlinewidth\":0,\"ticks\":\"\"}},\"type\":\"scatterternary\"}],\"surface\":[{\"colorbar\":{\"outlinewidth\":0,\"ticks\":\"\"},\"colorscale\":[[0.0,\"#0d0887\"],[0.1111111111111111,\"#46039f\"],[0.2222222222222222,\"#7201a8\"],[0.3333333333333333,\"#9c179e\"],[0.4444444444444444,\"#bd3786\"],[0.5555555555555556,\"#d8576b\"],[0.6666666666666666,\"#ed7953\"],[0.7777777777777778,\"#fb9f3a\"],[0.8888888888888888,\"#fdca26\"],[1.0,\"#f0f921\"]],\"type\":\"surface\"}],\"table\":[{\"cells\":{\"fill\":{\"color\":\"#EBF0F8\"},\"line\":{\"color\":\"white\"}},\"header\":{\"fill\":{\"color\":\"#C8D4E3\"},\"line\":{\"color\":\"white\"}},\"type\":\"table\"}]},\"layout\":{\"annotationdefaults\":{\"arrowcolor\":\"#2a3f5f\",\"arrowhead\":0,\"arrowwidth\":1},\"autotypenumbers\":\"strict\",\"coloraxis\":{\"colorbar\":{\"outlinewidth\":0,\"ticks\":\"\"}},\"colorscale\":{\"diverging\":[[0,\"#8e0152\"],[0.1,\"#c51b7d\"],[0.2,\"#de77ae\"],[0.3,\"#f1b6da\"],[0.4,\"#fde0ef\"],[0.5,\"#f7f7f7\"],[0.6,\"#e6f5d0\"],[0.7,\"#b8e186\"],[0.8,\"#7fbc41\"],[0.9,\"#4d9221\"],[1,\"#276419\"]],\"sequential\":[[0.0,\"#0d0887\"],[0.1111111111111111,\"#46039f\"],[0.2222222222222222,\"#7201a8\"],[0.3333333333333333,\"#9c179e\"],[0.4444444444444444,\"#bd3786\"],[0.5555555555555556,\"#d8576b\"],[0.6666666666666666,\"#ed7953\"],[0.7777777777777778,\"#fb9f3a\"],[0.8888888888888888,\"#fdca26\"],[1.0,\"#f0f921\"]],\"sequentialminus\":[[0.0,\"#0d0887\"],[0.1111111111111111,\"#46039f\"],[0.2222222222222222,\"#7201a8\"],[0.3333333333333333,\"#9c179e\"],[0.4444444444444444,\"#bd3786\"],[0.5555555555555556,\"#d8576b\"],[0.6666666666666666,\"#ed7953\"],[0.7777777777777778,\"#fb9f3a\"],[0.8888888888888888,\"#fdca26\"],[1.0,\"#f0f921\"]]},\"colorway\":[\"#636efa\",\"#EF553B\",\"#00cc96\",\"#ab63fa\",\"#FFA15A\",\"#19d3f3\",\"#FF6692\",\"#B6E880\",\"#FF97FF\",\"#FECB52\"],\"font\":{\"color\":\"#2a3f5f\"},\"geo\":{\"bgcolor\":\"white\",\"lakecolor\":\"white\",\"landcolor\":\"#E5ECF6\",\"showlakes\":true,\"showland\":true,\"subunitcolor\":\"white\"},\"hoverlabel\":{\"align\":\"left\"},\"hovermode\":\"closest\",\"mapbox\":{\"style\":\"light\"},\"paper_bgcolor\":\"white\",\"plot_bgcolor\":\"#E5ECF6\",\"polar\":{\"angularaxis\":{\"gridcolor\":\"white\",\"linecolor\":\"white\",\"ticks\":\"\"},\"bgcolor\":\"#E5ECF6\",\"radialaxis\":{\"gridcolor\":\"white\",\"linecolor\":\"white\",\"ticks\":\"\"}},\"scene\":{\"xaxis\":{\"backgroundcolor\":\"#E5ECF6\",\"gridcolor\":\"white\",\"gridwidth\":2,\"linecolor\":\"white\",\"showbackground\":true,\"ticks\":\"\",\"zerolinecolor\":\"white\"},\"yaxis\":{\"backgroundcolor\":\"#E5ECF6\",\"gridcolor\":\"white\",\"gridwidth\":2,\"linecolor\":\"white\",\"showbackground\":true,\"ticks\":\"\",\"zerolinecolor\":\"white\"},\"zaxis\":{\"backgroundcolor\":\"#E5ECF6\",\"gridcolor\":\"white\",\"gridwidth\":2,\"linecolor\":\"white\",\"showbackground\":true,\"ticks\":\"\",\"zerolinecolor\":\"white\"}},\"shapedefaults\":{\"line\":{\"color\":\"#2a3f5f\"}},\"ternary\":{\"aaxis\":{\"gridcolor\":\"white\",\"linecolor\":\"white\",\"ticks\":\"\"},\"baxis\":{\"gridcolor\":\"white\",\"linecolor\":\"white\",\"ticks\":\"\"},\"bgcolor\":\"#E5ECF6\",\"caxis\":{\"gridcolor\":\"white\",\"linecolor\":\"white\",\"ticks\":\"\"}},\"title\":{\"x\":0.05},\"xaxis\":{\"automargin\":true,\"gridcolor\":\"white\",\"linecolor\":\"white\",\"ticks\":\"\",\"title\":{\"standoff\":15},\"zerolinecolor\":\"white\",\"zerolinewidth\":2},\"yaxis\":{\"automargin\":true,\"gridcolor\":\"white\",\"linecolor\":\"white\",\"ticks\":\"\",\"title\":{\"standoff\":15},\"zerolinecolor\":\"white\",\"zerolinewidth\":2}}},\"title\":{\"text\":\"AAPL Call Implied Volatility Surface\"},\"width\":800,\"xaxis\":{\"title\":{\"text\":\"Date\"}},\"yaxis\":{\"title\":{\"text\":\"Strike\"}}},                        {\"responsive\": true}                    ).then(function(){\n",
              "                            \n",
              "var gd = document.getElementById('ce5aeeef-1bea-48f5-a600-49c18fe61043');\n",
              "var x = new MutationObserver(function (mutations, observer) {{\n",
              "        var display = window.getComputedStyle(gd).display;\n",
              "        if (!display || display === 'none') {{\n",
              "            console.log([gd, 'removed!']);\n",
              "            Plotly.purge(gd);\n",
              "            observer.disconnect();\n",
              "        }}\n",
              "}});\n",
              "\n",
              "// Listen for the removal of the full notebook cells\n",
              "var notebookContainer = gd.closest('#notebook-container');\n",
              "if (notebookContainer) {{\n",
              "    x.observe(notebookContainer, {childList: true});\n",
              "}}\n",
              "\n",
              "// Listen for the clearing of the current output cell\n",
              "var outputEl = gd.closest('.output');\n",
              "if (outputEl) {{\n",
              "    x.observe(outputEl, {childList: true});\n",
              "}}\n",
              "\n",
              "                        })                };                            </script>        </div>\n",
              "</body>\n",
              "</html>"
            ]
          },
          "metadata": {}
        },
        {
          "output_type": "display_data",
          "data": {
            "text/html": [
              "<html>\n",
              "<head><meta charset=\"utf-8\" /></head>\n",
              "<body>\n",
              "    <div>            <script src=\"https://cdnjs.cloudflare.com/ajax/libs/mathjax/2.7.5/MathJax.js?config=TeX-AMS-MML_SVG\"></script><script type=\"text/javascript\">if (window.MathJax) {MathJax.Hub.Config({SVG: {font: \"STIX-Web\"}});}</script>                <script type=\"text/javascript\">window.PlotlyConfig = {MathJaxConfig: 'local'};</script>\n",
              "        <script src=\"https://cdn.plot.ly/plotly-2.8.3.min.js\"></script>                <div id=\"e4b403ad-03f5-49bd-9795-dcc7f4991e4e\" class=\"plotly-graph-div\" style=\"height:800px; width:800px;\"></div>            <script type=\"text/javascript\">                                    window.PLOTLYENV=window.PLOTLYENV || {};                                    if (document.getElementById(\"e4b403ad-03f5-49bd-9795-dcc7f4991e4e\")) {                    Plotly.newPlot(                        \"e4b403ad-03f5-49bd-9795-dcc7f4991e4e\",                        [{\"x\":[110.0,115.0,120.0,130.0,135.0,140.0,145.0,150.0,155.0,160.0,165.0,170.0,175.0,180.0],\"y\":[\"2022-06-17\",\"2022-06-24\",\"2022-07-01\",\"2022-07-08\",\"2022-07-15\",\"2022-07-22\",\"2022-07-29\",\"2022-08-19\",\"2022-09-16\",\"2022-10-21\",\"2022-11-18\",\"2022-12-16\",\"2023-01-20\",\"2023-03-17\",\"2023-06-16\",\"2023-09-15\",\"2024-01-19\",\"2024-06-21\"],\"z\":[[0.7812521875,0.648441015625,0.5273484765625001,0.33399103515625,1.0000000000000003e-05,1.0000000000000003e-05,1.0000000000000003e-05,1.0000000000000003e-05,1.0000000000000003e-05,1.0000000000000003e-05,1.0000000000000003e-05,1.0000000000000003e-05,1.0000000000000003e-05,1.0000000000000003e-05],[0.5585981640625001,0.506840869140625,0.4643608251953125,0.3830628100585937,0.309577216796875,1.0000000000000003e-05,1.0000000000000003e-05,1.0000000000000003e-05,1.0000000000000003e-05,1.0000000000000003e-05,1.0000000000000003e-05,1.0000000000000003e-05,0.048147946350097656,0.04556618505859375],[0.5283250292968751,0.48730981445312505,0.44482977050781247,0.38013315185546875,0.3283758569335937,0.27686270019531245,1.0000000000000003e-05,1.0000000000000003e-05,1.0000000000000003e-05,1.0000000000000003e-05,1.0000000000000003e-05,1.0000000000000003e-05,1.0000000000000003e-05,0.048935291992187505],[0.48779809082031256,0.4592339233398438,0.4250545776367188,0.36340968627929693,0.33618827880859375,0.30005582763671873,0.12500875,1.0000000000000003e-05,1.0000000000000003e-05,1.0000000000000003e-05,1.0000000000000003e-05,1.0000000000000003e-05,1.0000000000000003e-05,0.09449147705078126],[0.48340360351562506,0.45337460693359377,0.4226131958007812,0.36426416992187505,0.340826904296875,0.3259344750976562,0.2868723657226562,1.0000000000000003e-05,1.0000000000000003e-05,1.0000000000000003e-05,1.0000000000000003e-05,1.0000000000000003e-05,1.0000000000000003e-05,1.0000000000000003e-05],[0.47681187255859375,0.44824770507812495,0.424810439453125,0.3812317736816406,0.35205726074218746,0.3272772351074219,0.3023751403808594,0.2929758203124999,1.0000000000000003e-05,1.0000000000000003e-05,1.0000000000000003e-05,0.10057051782226563,0.048147946350097656,0.09449147705078126],[0.5022022436523439,0.4788870471191406,0.45288633056640626,0.4087583538818359,0.3817810845947265,0.3754945263671875,0.3479069116210937,0.3227606787109374,0.26856200195312496,0.2351150708007812,1.0000000000000003e-05,1.0000000000000003e-05,0.13560434716796874,0.047079841796875],[0.4674125524902344,0.44873598144531246,0.42542078491210944,0.39124143920898435,0.37036762451171873,0.3450993225097656,0.3365544860839844,0.3178779150390625,0.2946847875976562,0.3259344750976562,1.0000000000000003e-05,1.0000000000000003e-05,1.0000000000000003e-05,1.0000000000000003e-05],[0.43836010864257813,0.4190731921386719,0.4033873138427735,0.3676821044921875,0.3507755352783203,0.334967587890625,0.32031929687499994,0.32227240234374993,0.29016823120117186,0.27930408203124996,0.24878680908203127,1.0000000000000003e-05,1.0000000000000003e-05,1.0000000000000003e-05],[0.41687594848632803,0.40332627929687503,0.3873962628173828,0.35443760803222646,0.34192552612304683,0.3324041369628906,0.31354446228027344,0.31201859863281245,0.27967028930664056,0.2933420275878905,0.2858958129882812,0.20205876074218748,0.20410952148437497,1.0000000000000003e-05],[0.4116269775390625,0.39905386108398444,0.3800110827636719,0.355902437133789,0.34278000976562495,0.32874206420898433,0.31354446228027344,0.30036100036621094,0.2926096130371093,0.27698476928710936,0.2624585473632813,0.2602613037109375,0.24463645996093752,0.1874104697265625],[0.39905386108398444,0.3872741937255859,0.3684145190429688,0.3477238079833984,0.3315496533203125,0.32068550415039054,0.31836619140624994,0.2996285858154296,0.2884592639160155,0.2761913201904296,0.274421318359375,0.24451439086914065,0.23054358331298824,0.1874104697265625],[0.3833679827880859,0.3711000390625,0.35816071533203125,0.33383844879150393,0.32273016143798816,0.31702343139648437,0.3012765185546875,0.2923654748535155,0.2859568475341796,0.27466545654296876,0.26563234375,0.25659923095703124,0.22925575439453127,0.23535920898437498],[0.3733583172607422,0.3669741037597657,0.35028725891113277,0.32874206420898433,0.3198310205078124,0.30963825134277345,0.30152065673828127,0.29703461761474603,0.27796742547607417,0.2705456246948242,0.26636475830078127,0.25391371093750004,0.23690338299560548,0.24463645996093752],[0.3540103662109374,0.34570966796874997,0.3332281033325196,0.31534498138427725,0.3062813513183594,0.29761444580078117,0.2903208175659179,0.28244736114501956,0.2779674254760741,0.2699352792358398,0.25843026733398444,0.2506788800048828,0.23690338299560548,0.22779092529296874],[0.3416203533935547,0.33173275695800786,0.3232489550781249,0.3067391104125976,0.3002084140014648,0.29665620343017574,0.2878794357299804,0.27808339111328123,0.2779674254760741,0.264967067199707,0.2570814038696289,0.24890887817382812,0.24069973175048825,0.23311313769531247],[0.3272467178344727,0.3187629159545897,0.3117134259033203,0.29633272033691405,0.2886728848266601,0.2820201193237304,0.2755199401855468,0.27161372924804683,0.2623975128173829,0.2549512982177735,0.24777973907470702,0.2420730090332031,0.23401644897460935,0.22925575439453127],[0.3172065350341796,0.30982135498046875,0.30313807220458977,0.2901071966552734,0.28433943206787105,0.27698476928710936,0.27075924560546877,0.2670666555786133,0.2604138900756836,0.24909198181152342,0.24719991088867188,0.24073024902343748,0.23590851989746092,0.22852333984375]],\"type\":\"surface\"}],                        {\"autosize\":false,\"height\":800,\"margin\":{\"b\":65,\"l\":65,\"r\":50,\"t\":90},\"scene\":{\"xaxis\":{\"title\":{\"text\":\"Strike\"}},\"yaxis\":{\"title\":{\"text\":\"Date\"}},\"zaxis\":{\"title\":{\"text\":\"Implied Volatility\"}}},\"template\":{\"data\":{\"barpolar\":[{\"marker\":{\"line\":{\"color\":\"#E5ECF6\",\"width\":0.5},\"pattern\":{\"fillmode\":\"overlay\",\"size\":10,\"solidity\":0.2}},\"type\":\"barpolar\"}],\"bar\":[{\"error_x\":{\"color\":\"#2a3f5f\"},\"error_y\":{\"color\":\"#2a3f5f\"},\"marker\":{\"line\":{\"color\":\"#E5ECF6\",\"width\":0.5},\"pattern\":{\"fillmode\":\"overlay\",\"size\":10,\"solidity\":0.2}},\"type\":\"bar\"}],\"carpet\":[{\"aaxis\":{\"endlinecolor\":\"#2a3f5f\",\"gridcolor\":\"white\",\"linecolor\":\"white\",\"minorgridcolor\":\"white\",\"startlinecolor\":\"#2a3f5f\"},\"baxis\":{\"endlinecolor\":\"#2a3f5f\",\"gridcolor\":\"white\",\"linecolor\":\"white\",\"minorgridcolor\":\"white\",\"startlinecolor\":\"#2a3f5f\"},\"type\":\"carpet\"}],\"choropleth\":[{\"colorbar\":{\"outlinewidth\":0,\"ticks\":\"\"},\"type\":\"choropleth\"}],\"contourcarpet\":[{\"colorbar\":{\"outlinewidth\":0,\"ticks\":\"\"},\"type\":\"contourcarpet\"}],\"contour\":[{\"colorbar\":{\"outlinewidth\":0,\"ticks\":\"\"},\"colorscale\":[[0.0,\"#0d0887\"],[0.1111111111111111,\"#46039f\"],[0.2222222222222222,\"#7201a8\"],[0.3333333333333333,\"#9c179e\"],[0.4444444444444444,\"#bd3786\"],[0.5555555555555556,\"#d8576b\"],[0.6666666666666666,\"#ed7953\"],[0.7777777777777778,\"#fb9f3a\"],[0.8888888888888888,\"#fdca26\"],[1.0,\"#f0f921\"]],\"type\":\"contour\"}],\"heatmapgl\":[{\"colorbar\":{\"outlinewidth\":0,\"ticks\":\"\"},\"colorscale\":[[0.0,\"#0d0887\"],[0.1111111111111111,\"#46039f\"],[0.2222222222222222,\"#7201a8\"],[0.3333333333333333,\"#9c179e\"],[0.4444444444444444,\"#bd3786\"],[0.5555555555555556,\"#d8576b\"],[0.6666666666666666,\"#ed7953\"],[0.7777777777777778,\"#fb9f3a\"],[0.8888888888888888,\"#fdca26\"],[1.0,\"#f0f921\"]],\"type\":\"heatmapgl\"}],\"heatmap\":[{\"colorbar\":{\"outlinewidth\":0,\"ticks\":\"\"},\"colorscale\":[[0.0,\"#0d0887\"],[0.1111111111111111,\"#46039f\"],[0.2222222222222222,\"#7201a8\"],[0.3333333333333333,\"#9c179e\"],[0.4444444444444444,\"#bd3786\"],[0.5555555555555556,\"#d8576b\"],[0.6666666666666666,\"#ed7953\"],[0.7777777777777778,\"#fb9f3a\"],[0.8888888888888888,\"#fdca26\"],[1.0,\"#f0f921\"]],\"type\":\"heatmap\"}],\"histogram2dcontour\":[{\"colorbar\":{\"outlinewidth\":0,\"ticks\":\"\"},\"colorscale\":[[0.0,\"#0d0887\"],[0.1111111111111111,\"#46039f\"],[0.2222222222222222,\"#7201a8\"],[0.3333333333333333,\"#9c179e\"],[0.4444444444444444,\"#bd3786\"],[0.5555555555555556,\"#d8576b\"],[0.6666666666666666,\"#ed7953\"],[0.7777777777777778,\"#fb9f3a\"],[0.8888888888888888,\"#fdca26\"],[1.0,\"#f0f921\"]],\"type\":\"histogram2dcontour\"}],\"histogram2d\":[{\"colorbar\":{\"outlinewidth\":0,\"ticks\":\"\"},\"colorscale\":[[0.0,\"#0d0887\"],[0.1111111111111111,\"#46039f\"],[0.2222222222222222,\"#7201a8\"],[0.3333333333333333,\"#9c179e\"],[0.4444444444444444,\"#bd3786\"],[0.5555555555555556,\"#d8576b\"],[0.6666666666666666,\"#ed7953\"],[0.7777777777777778,\"#fb9f3a\"],[0.8888888888888888,\"#fdca26\"],[1.0,\"#f0f921\"]],\"type\":\"histogram2d\"}],\"histogram\":[{\"marker\":{\"pattern\":{\"fillmode\":\"overlay\",\"size\":10,\"solidity\":0.2}},\"type\":\"histogram\"}],\"mesh3d\":[{\"colorbar\":{\"outlinewidth\":0,\"ticks\":\"\"},\"type\":\"mesh3d\"}],\"parcoords\":[{\"line\":{\"colorbar\":{\"outlinewidth\":0,\"ticks\":\"\"}},\"type\":\"parcoords\"}],\"pie\":[{\"automargin\":true,\"type\":\"pie\"}],\"scatter3d\":[{\"line\":{\"colorbar\":{\"outlinewidth\":0,\"ticks\":\"\"}},\"marker\":{\"colorbar\":{\"outlinewidth\":0,\"ticks\":\"\"}},\"type\":\"scatter3d\"}],\"scattercarpet\":[{\"marker\":{\"colorbar\":{\"outlinewidth\":0,\"ticks\":\"\"}},\"type\":\"scattercarpet\"}],\"scattergeo\":[{\"marker\":{\"colorbar\":{\"outlinewidth\":0,\"ticks\":\"\"}},\"type\":\"scattergeo\"}],\"scattergl\":[{\"marker\":{\"colorbar\":{\"outlinewidth\":0,\"ticks\":\"\"}},\"type\":\"scattergl\"}],\"scattermapbox\":[{\"marker\":{\"colorbar\":{\"outlinewidth\":0,\"ticks\":\"\"}},\"type\":\"scattermapbox\"}],\"scatterpolargl\":[{\"marker\":{\"colorbar\":{\"outlinewidth\":0,\"ticks\":\"\"}},\"type\":\"scatterpolargl\"}],\"scatterpolar\":[{\"marker\":{\"colorbar\":{\"outlinewidth\":0,\"ticks\":\"\"}},\"type\":\"scatterpolar\"}],\"scatter\":[{\"marker\":{\"colorbar\":{\"outlinewidth\":0,\"ticks\":\"\"}},\"type\":\"scatter\"}],\"scatterternary\":[{\"marker\":{\"colorbar\":{\"outlinewidth\":0,\"ticks\":\"\"}},\"type\":\"scatterternary\"}],\"surface\":[{\"colorbar\":{\"outlinewidth\":0,\"ticks\":\"\"},\"colorscale\":[[0.0,\"#0d0887\"],[0.1111111111111111,\"#46039f\"],[0.2222222222222222,\"#7201a8\"],[0.3333333333333333,\"#9c179e\"],[0.4444444444444444,\"#bd3786\"],[0.5555555555555556,\"#d8576b\"],[0.6666666666666666,\"#ed7953\"],[0.7777777777777778,\"#fb9f3a\"],[0.8888888888888888,\"#fdca26\"],[1.0,\"#f0f921\"]],\"type\":\"surface\"}],\"table\":[{\"cells\":{\"fill\":{\"color\":\"#EBF0F8\"},\"line\":{\"color\":\"white\"}},\"header\":{\"fill\":{\"color\":\"#C8D4E3\"},\"line\":{\"color\":\"white\"}},\"type\":\"table\"}]},\"layout\":{\"annotationdefaults\":{\"arrowcolor\":\"#2a3f5f\",\"arrowhead\":0,\"arrowwidth\":1},\"autotypenumbers\":\"strict\",\"coloraxis\":{\"colorbar\":{\"outlinewidth\":0,\"ticks\":\"\"}},\"colorscale\":{\"diverging\":[[0,\"#8e0152\"],[0.1,\"#c51b7d\"],[0.2,\"#de77ae\"],[0.3,\"#f1b6da\"],[0.4,\"#fde0ef\"],[0.5,\"#f7f7f7\"],[0.6,\"#e6f5d0\"],[0.7,\"#b8e186\"],[0.8,\"#7fbc41\"],[0.9,\"#4d9221\"],[1,\"#276419\"]],\"sequential\":[[0.0,\"#0d0887\"],[0.1111111111111111,\"#46039f\"],[0.2222222222222222,\"#7201a8\"],[0.3333333333333333,\"#9c179e\"],[0.4444444444444444,\"#bd3786\"],[0.5555555555555556,\"#d8576b\"],[0.6666666666666666,\"#ed7953\"],[0.7777777777777778,\"#fb9f3a\"],[0.8888888888888888,\"#fdca26\"],[1.0,\"#f0f921\"]],\"sequentialminus\":[[0.0,\"#0d0887\"],[0.1111111111111111,\"#46039f\"],[0.2222222222222222,\"#7201a8\"],[0.3333333333333333,\"#9c179e\"],[0.4444444444444444,\"#bd3786\"],[0.5555555555555556,\"#d8576b\"],[0.6666666666666666,\"#ed7953\"],[0.7777777777777778,\"#fb9f3a\"],[0.8888888888888888,\"#fdca26\"],[1.0,\"#f0f921\"]]},\"colorway\":[\"#636efa\",\"#EF553B\",\"#00cc96\",\"#ab63fa\",\"#FFA15A\",\"#19d3f3\",\"#FF6692\",\"#B6E880\",\"#FF97FF\",\"#FECB52\"],\"font\":{\"color\":\"#2a3f5f\"},\"geo\":{\"bgcolor\":\"white\",\"lakecolor\":\"white\",\"landcolor\":\"#E5ECF6\",\"showlakes\":true,\"showland\":true,\"subunitcolor\":\"white\"},\"hoverlabel\":{\"align\":\"left\"},\"hovermode\":\"closest\",\"mapbox\":{\"style\":\"light\"},\"paper_bgcolor\":\"white\",\"plot_bgcolor\":\"#E5ECF6\",\"polar\":{\"angularaxis\":{\"gridcolor\":\"white\",\"linecolor\":\"white\",\"ticks\":\"\"},\"bgcolor\":\"#E5ECF6\",\"radialaxis\":{\"gridcolor\":\"white\",\"linecolor\":\"white\",\"ticks\":\"\"}},\"scene\":{\"xaxis\":{\"backgroundcolor\":\"#E5ECF6\",\"gridcolor\":\"white\",\"gridwidth\":2,\"linecolor\":\"white\",\"showbackground\":true,\"ticks\":\"\",\"zerolinecolor\":\"white\"},\"yaxis\":{\"backgroundcolor\":\"#E5ECF6\",\"gridcolor\":\"white\",\"gridwidth\":2,\"linecolor\":\"white\",\"showbackground\":true,\"ticks\":\"\",\"zerolinecolor\":\"white\"},\"zaxis\":{\"backgroundcolor\":\"#E5ECF6\",\"gridcolor\":\"white\",\"gridwidth\":2,\"linecolor\":\"white\",\"showbackground\":true,\"ticks\":\"\",\"zerolinecolor\":\"white\"}},\"shapedefaults\":{\"line\":{\"color\":\"#2a3f5f\"}},\"ternary\":{\"aaxis\":{\"gridcolor\":\"white\",\"linecolor\":\"white\",\"ticks\":\"\"},\"baxis\":{\"gridcolor\":\"white\",\"linecolor\":\"white\",\"ticks\":\"\"},\"bgcolor\":\"#E5ECF6\",\"caxis\":{\"gridcolor\":\"white\",\"linecolor\":\"white\",\"ticks\":\"\"}},\"title\":{\"x\":0.05},\"xaxis\":{\"automargin\":true,\"gridcolor\":\"white\",\"linecolor\":\"white\",\"ticks\":\"\",\"title\":{\"standoff\":15},\"zerolinecolor\":\"white\",\"zerolinewidth\":2},\"yaxis\":{\"automargin\":true,\"gridcolor\":\"white\",\"linecolor\":\"white\",\"ticks\":\"\",\"title\":{\"standoff\":15},\"zerolinecolor\":\"white\",\"zerolinewidth\":2}}},\"title\":{\"text\":\"AAPL Put Implied Volatility Surface\"},\"width\":800,\"xaxis\":{\"title\":{\"text\":\"Date\"}},\"yaxis\":{\"title\":{\"text\":\"Strike\"}}},                        {\"responsive\": true}                    ).then(function(){\n",
              "                            \n",
              "var gd = document.getElementById('e4b403ad-03f5-49bd-9795-dcc7f4991e4e');\n",
              "var x = new MutationObserver(function (mutations, observer) {{\n",
              "        var display = window.getComputedStyle(gd).display;\n",
              "        if (!display || display === 'none') {{\n",
              "            console.log([gd, 'removed!']);\n",
              "            Plotly.purge(gd);\n",
              "            observer.disconnect();\n",
              "        }}\n",
              "}});\n",
              "\n",
              "// Listen for the removal of the full notebook cells\n",
              "var notebookContainer = gd.closest('#notebook-container');\n",
              "if (notebookContainer) {{\n",
              "    x.observe(notebookContainer, {childList: true});\n",
              "}}\n",
              "\n",
              "// Listen for the clearing of the current output cell\n",
              "var outputEl = gd.closest('.output');\n",
              "if (outputEl) {{\n",
              "    x.observe(outputEl, {childList: true});\n",
              "}}\n",
              "\n",
              "                        })                };                            </script>        </div>\n",
              "</body>\n",
              "</html>"
            ]
          },
          "metadata": {}
        }
      ]
    }
  ]
}