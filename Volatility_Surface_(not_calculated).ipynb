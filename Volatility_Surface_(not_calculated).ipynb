{
  "nbformat": 4,
  "nbformat_minor": 0,
  "metadata": {
    "colab": {
      "name": "Volatility Surface (not calculated).ipynb",
      "provenance": [],
      "collapsed_sections": [],
      "include_colab_link": true
    },
    "kernelspec": {
      "name": "python3",
      "display_name": "Python 3"
    },
    "language_info": {
      "name": "python"
    }
  },
  "cells": [
    {
      "cell_type": "markdown",
      "metadata": {
        "id": "view-in-github",
        "colab_type": "text"
      },
      "source": [
        "<a href=\"https://colab.research.google.com/github/ale-camer/Finance/blob/master/Volatility_Surface_(not_calculated).ipynb\" target=\"_parent\"><img src=\"https://colab.research.google.com/assets/colab-badge.svg\" alt=\"Open In Colab\"/></a>"
      ]
    },
    {
      "cell_type": "code",
      "source": [
        "pip install -q yfinance"
      ],
      "metadata": {
        "colab": {
          "base_uri": "https://localhost:8080/"
        },
        "id": "hY0l_U_ytmo8",
        "outputId": "591b554a-02e2-4e59-a444-91115a2acaa2"
      },
      "execution_count": 3,
      "outputs": [
        {
          "output_type": "stream",
          "name": "stdout",
          "text": [
            "\u001b[K     |████████████████████████████████| 63 kB 1.7 MB/s \n",
            "\u001b[K     |████████████████████████████████| 6.4 MB 16.6 MB/s \n",
            "\u001b[31mERROR: pip's dependency resolver does not currently take into account all the packages that are installed. This behaviour is the source of the following dependency conflicts.\n",
            "google-colab 1.0.0 requires requests~=2.23.0, but you have requests 2.27.1 which is incompatible.\n",
            "datascience 0.10.6 requires folium==0.2.1, but you have folium 0.8.3 which is incompatible.\u001b[0m\n",
            "\u001b[?25h"
          ]
        }
      ]
    },
    {
      "cell_type": "code",
      "source": [
        "def expVolSurf():\n",
        "\n",
        "  \"\"\" Provide 3D plot of the volatilty surface of calls and puts of any stock listed in the New York Stock Exchange (NYSE).\n",
        "    The whole data is download and calculated by Yahoo Finance.\n",
        "    Only is considered options that were traded in the last business day. \"\"\"\n",
        "\n",
        "  try:\n",
        "\n",
        "    import pandas as pd\n",
        "    import plotly.graph_objects as go\n",
        "    import warnings\n",
        "    warnings.filterwarnings('ignore')\n",
        "    import yfinance as yf\n",
        "    from sklearn.impute import KNNImputer\n",
        "    from tqdm import tqdm\n",
        "    import sys\n",
        "\n",
        "    imputer = KNNImputer(n_neighbors=5)\n",
        "    ticker = input(\"Please, insert the Ticker: \")\n",
        "    aapl = yf.Ticker(ticker)\n",
        "    dates = aapl.options\n",
        "\n",
        "    print(\"Downloading data\")\n",
        "    calls, puts = pd.DataFrame(), pd.DataFrame()\n",
        "    for date in tqdm(range(len(dates))):\n",
        "        try:\n",
        "            calls = calls.append(aapl.option_chain(dates[date]).calls,ignore_index=True)\n",
        "            puts = puts.append(aapl.option_chain(dates[date]).puts,ignore_index=True)\n",
        "        except:\n",
        "            continue  \n",
        "\n",
        "    print(\"Processing data\")\n",
        "    lastTradeDate = pd.Series(pd.DataFrame(calls['lastTradeDate'])['lastTradeDate'].apply(lambda a: a.strftime('%Y-%m-%d')).unique()).sort_values(ascending=False)[0]\n",
        "    calls, puts = calls[calls['lastTradeDate'].apply(lambda a: a.strftime('%Y-%m-%d')) == lastTradeDate], puts[puts['lastTradeDate'].apply(lambda a: a.strftime('%Y-%m-%d')) == lastTradeDate]\n",
        "    calls['lastTradeDate'], puts['lastTradeDate'] = calls['lastTradeDate'].apply(lambda a: a.strftime('%Y-%m-%d')), puts['lastTradeDate'].apply(lambda a: a.strftime('%Y-%m-%d'))\n",
        "    calls['expirationDate'], puts['expirationDate'] = '20' + calls['contractSymbol'].apply(lambda a: a[-15:][:2] + '-' + a[-13:][:2] + '-' + a[-11:][:2]), \\\n",
        "    '20' + puts['contractSymbol'].apply(lambda a: a[-15:][:2] + '-' + a[-13:][:2] + '-' + a[-11:][:2])\n",
        "    strikes = calls.strike.value_counts()[calls.strike.value_counts() >= calls.strike.value_counts().values[:10].min()].index\n",
        "    calls, puts = calls[calls.strike.isin(strikes)], puts[puts.strike.isin(strikes)]\n",
        "    calls, puts = pd.pivot_table(data = calls, values = 'impliedVolatility', columns = 'strike', index = 'expirationDate'), \\\n",
        "    pd.pivot_table(data = puts, values = 'impliedVolatility', columns = 'strike', index = 'expirationDate')\n",
        "\n",
        "    na_prop = (calls.isna().sum().sum() / (calls.shape[0] * calls.shape[1]) + puts.isna().sum().sum() / (puts.shape[0] * puts.shape[1])) / 2\n",
        "    if na_prop >= 0.4:\n",
        "      sys.exit()\n",
        "    else:\n",
        "      pass\n",
        "\n",
        "    calls1, puts1 = pd.DataFrame(imputer.fit_transform(calls)), pd.DataFrame(imputer.fit_transform(puts))\n",
        "    calls1.index, calls1.columns, puts1.index, puts1.columns = calls.index, calls.columns, puts.index, puts.columns\n",
        "\n",
        "    print(\"Printing images\")\n",
        "    xc, yc, zc = calls1.columns, calls1.index.values, calls1.values\n",
        "    xp, yp, zp = puts1.columns, puts1.index.values, puts1.values\n",
        "\n",
        "    layout = go.Layout(xaxis = go.layout.XAxis(\n",
        "        title = go.layout.xaxis.Title(\n",
        "            text = 'Date')),\n",
        "        yaxis = go.layout.YAxis(\n",
        "            title = go.layout.yaxis.Title(\n",
        "                text = 'Strike')))\n",
        "\n",
        "    fig = go.Figure(data = [go.Surface(z = zc, y = yc, x = xc)], layout = layout)\n",
        "    fig.update_layout(title = f'{ticker.upper()} Call Implied Volatility Surface',\n",
        "                      scene = dict(\n",
        "                        xaxis_title = 'Strike',\n",
        "                        yaxis_title = 'Date',\n",
        "                        zaxis_title = 'Implied Volatility'),\n",
        "                      autosize = False,\n",
        "                      width = 800, height = 800,\n",
        "                      margin = dict(l = 65, r = 50, b = 65, t = 90))\n",
        "    fig.show()\n",
        "\n",
        "    fig = go.Figure(data= [go.Surface(z = zp, y = yp, x = xp)], layout = layout)\n",
        "    fig.update_layout(title = f'{ticker.upper()} Put Implied Volatility Surface',\n",
        "                      scene = dict(\n",
        "                        xaxis_title = 'Strike',\n",
        "                        yaxis_title = 'Date',\n",
        "                        zaxis_title = 'Implied Volatility'),\n",
        "                      autosize = False,\n",
        "                      width = 800, height = 800,\n",
        "                      margin = dict(l = 65, r = 50, b = 65, t = 90))\n",
        "    fig.show()\n",
        "\n",
        "  except:\n",
        "\n",
        "    print(\"\\n Not enough data available. Please, run the program again and choose another ticker.\")"
      ],
      "metadata": {
        "id": "BENEQStv2IgC"
      },
      "execution_count": 33,
      "outputs": []
    },
    {
      "cell_type": "code",
      "source": [
        "expVolSurf()"
      ],
      "metadata": {
        "colab": {
          "base_uri": "https://localhost:8080/",
          "height": 1000
        },
        "id": "tKNgxIPE8Qhv",
        "outputId": "28215216-fa21-4d75-9a72-f4154c471bfa"
      },
      "execution_count": 34,
      "outputs": [
        {
          "output_type": "stream",
          "name": "stdout",
          "text": [
            "Please, insert the Ticker: aapl\n",
            "Downloading data\n"
          ]
        },
        {
          "output_type": "stream",
          "name": "stderr",
          "text": [
            "100%|██████████| 18/18 [00:05<00:00,  3.48it/s]"
          ]
        },
        {
          "output_type": "stream",
          "name": "stdout",
          "text": [
            "Processing data\n",
            "Printing images\n"
          ]
        },
        {
          "output_type": "stream",
          "name": "stderr",
          "text": [
            "\n"
          ]
        },
        {
          "output_type": "display_data",
          "data": {
            "text/html": [
              "<html>\n",
              "<head><meta charset=\"utf-8\" /></head>\n",
              "<body>\n",
              "    <div>            <script src=\"https://cdnjs.cloudflare.com/ajax/libs/mathjax/2.7.5/MathJax.js?config=TeX-AMS-MML_SVG\"></script><script type=\"text/javascript\">if (window.MathJax) {MathJax.Hub.Config({SVG: {font: \"STIX-Web\"}});}</script>                <script type=\"text/javascript\">window.PlotlyConfig = {MathJaxConfig: 'local'};</script>\n",
              "        <script src=\"https://cdn.plot.ly/plotly-2.8.3.min.js\"></script>                <div id=\"ee7b365c-2fa9-4995-864b-5ec981ae42f3\" class=\"plotly-graph-div\" style=\"height:800px; width:800px;\"></div>            <script type=\"text/javascript\">                                    window.PLOTLYENV=window.PLOTLYENV || {};                                    if (document.getElementById(\"ee7b365c-2fa9-4995-864b-5ec981ae42f3\")) {                    Plotly.newPlot(                        \"ee7b365c-2fa9-4995-864b-5ec981ae42f3\",                        [{\"x\":[150.0,155.0,160.0,165.0,170.0,175.0,180.0,185.0,195.0,200.0],\"y\":[\"2022-05-06\",\"2022-05-13\",\"2022-05-20\",\"2022-05-27\",\"2022-06-03\",\"2022-06-10\",\"2022-06-17\",\"2022-07-15\",\"2022-08-19\",\"2022-09-16\",\"2022-10-21\",\"2022-11-18\",\"2023-01-20\",\"2023-03-17\",\"2023-06-16\",\"2023-09-15\",\"2024-01-19\",\"2024-06-21\"],\"z\":[[0.506840869140625,0.48560084716796875,0.44995667236328124,0.40918559570312496,0.39551385742187506,0.42774009765625004,0.45703667968750006,0.507817421875,0.5625043750000001,0.6093789062500001],[0.4598442687988281,0.4304256176757813,0.40430283203125,0.3789124609375,0.36475244628906256,0.36426416992187505,0.370123486328125,0.38477177734374995,0.4804739453125,0.51562984375],[0.44275459594726563,0.4133359448242187,0.387701435546875,0.3676821044921875,0.35034829345703117,0.34497725341796875,0.34326828613281246,0.36377589355468753,0.38672488281249995,0.414068359375],[0.42102629760742194,0.40064075927734377,0.37781383911132804,0.3635317553710938,0.3454655297851562,0.33850759155273435,0.33838552246093745,0.3354558642578125,0.37500625,0.39551385742187506],[0.4101621484375,0.38892212646484375,0.36804831176757813,0.35205726074218746,0.33814138427734375,0.331061376953125,0.3305731005859375,0.3364324169921875,0.3618227880859375,0.35742830078125],[0.49768568725585943,0.4774222180175781,0.39929799926757814,0.3658510681152344,0.3491276025390625,0.3479069116210937,0.3391179370117187,0.336920693359375,0.38013315185546875,0.36133451171875],[0.40064075927734377,0.38318487915039057,0.36463037719726565,0.34961587890624996,0.3355779333496094,0.327155166015625,0.32227240234374993,0.3220282641601562,0.3286199951171874,0.3364324169921875],[0.3860535028076171,0.370123486328125,0.35425450439453116,0.340826904296875,0.32947447875976554,0.3189765368652343,0.3129951513671875,0.3089668713378906,0.3109199768066406,0.31519239501953117],[0.3869690209960937,0.37518935363769534,0.362311064453125,0.3507755352783203,0.34192552612304683,0.33612724426269536,0.32776551147460936,0.32263860961914054,0.31592480957031244,0.31592480957031244],[0.3784852191162109,0.3693300372314453,0.3585269226074219,0.34979898254394526,0.34168138793945313,0.33301448242187504,0.3282537878417968,0.32257757507324214,0.31409377319335935,0.31262894409179687],[0.37589125091552733,0.3640810662841797,0.3562076098632812,0.34729656616210935,0.3396672479248046,0.3321599987792969,0.3275213732910156,0.3225165405273437,0.31317825500488283,0.31037066589355466],[0.3758607336425781,0.36511865356445317,0.35736726623535153,0.34909708526611327,0.34241380249023434,0.3352422433471679,0.32993223785400383,0.3257513714599609,0.31629101684570304,0.31488722229003896],[0.3693300372314453,0.3616396844482421,0.3541324353027343,0.3476932907104492,0.34134569793701175,0.3351201742553711,0.33005430694580074,0.3253851641845703,0.31830515686035155,0.3154365332031249],[0.3711915908813477,0.36414210083007814,0.3575808871459961,0.3506534661865234,0.34503828796386715,0.3398808688354492,0.33530327789306635,0.32959654785156245,0.3236151623535155,0.31799998413085934],[0.3725038336181641,0.3667055517578125,0.3601748553466796,0.35443760803222646,0.3502262243652343,0.3453129434204102,0.3404606970214844,0.3365239688110352,0.3303289624023437,0.3266668896484375],[0.3742738354492187,0.368872278137207,0.3623415817260742,0.3574588180541992,0.3528507098388671,0.34848673980712885,0.3458012197875976,0.3428105270385742,0.33542534698486326,0.33179379150390625],[0.37573866455078125,0.3706270213317871,0.36534753311157225,0.3611208908081054,0.3567416621398925,0.35280493392944334,0.34570966796874997,0.3470219107055663,0.3404301797485352,0.33682914154052734],[0.38187263641357416,0.3769135795593262,0.3725496095275879,0.3687654676818848,0.36499658447265626,0.3612734771728515,0.35816071533203125,0.3562228684997558,0.3505466557312011,0.3474186352539062]],\"type\":\"surface\"}],                        {\"xaxis\":{\"title\":{\"text\":\"Date\"}},\"yaxis\":{\"title\":{\"text\":\"Strike\"}},\"template\":{\"data\":{\"bar\":[{\"error_x\":{\"color\":\"#2a3f5f\"},\"error_y\":{\"color\":\"#2a3f5f\"},\"marker\":{\"line\":{\"color\":\"#E5ECF6\",\"width\":0.5},\"pattern\":{\"fillmode\":\"overlay\",\"size\":10,\"solidity\":0.2}},\"type\":\"bar\"}],\"barpolar\":[{\"marker\":{\"line\":{\"color\":\"#E5ECF6\",\"width\":0.5},\"pattern\":{\"fillmode\":\"overlay\",\"size\":10,\"solidity\":0.2}},\"type\":\"barpolar\"}],\"carpet\":[{\"aaxis\":{\"endlinecolor\":\"#2a3f5f\",\"gridcolor\":\"white\",\"linecolor\":\"white\",\"minorgridcolor\":\"white\",\"startlinecolor\":\"#2a3f5f\"},\"baxis\":{\"endlinecolor\":\"#2a3f5f\",\"gridcolor\":\"white\",\"linecolor\":\"white\",\"minorgridcolor\":\"white\",\"startlinecolor\":\"#2a3f5f\"},\"type\":\"carpet\"}],\"choropleth\":[{\"colorbar\":{\"outlinewidth\":0,\"ticks\":\"\"},\"type\":\"choropleth\"}],\"contour\":[{\"colorbar\":{\"outlinewidth\":0,\"ticks\":\"\"},\"colorscale\":[[0.0,\"#0d0887\"],[0.1111111111111111,\"#46039f\"],[0.2222222222222222,\"#7201a8\"],[0.3333333333333333,\"#9c179e\"],[0.4444444444444444,\"#bd3786\"],[0.5555555555555556,\"#d8576b\"],[0.6666666666666666,\"#ed7953\"],[0.7777777777777778,\"#fb9f3a\"],[0.8888888888888888,\"#fdca26\"],[1.0,\"#f0f921\"]],\"type\":\"contour\"}],\"contourcarpet\":[{\"colorbar\":{\"outlinewidth\":0,\"ticks\":\"\"},\"type\":\"contourcarpet\"}],\"heatmap\":[{\"colorbar\":{\"outlinewidth\":0,\"ticks\":\"\"},\"colorscale\":[[0.0,\"#0d0887\"],[0.1111111111111111,\"#46039f\"],[0.2222222222222222,\"#7201a8\"],[0.3333333333333333,\"#9c179e\"],[0.4444444444444444,\"#bd3786\"],[0.5555555555555556,\"#d8576b\"],[0.6666666666666666,\"#ed7953\"],[0.7777777777777778,\"#fb9f3a\"],[0.8888888888888888,\"#fdca26\"],[1.0,\"#f0f921\"]],\"type\":\"heatmap\"}],\"heatmapgl\":[{\"colorbar\":{\"outlinewidth\":0,\"ticks\":\"\"},\"colorscale\":[[0.0,\"#0d0887\"],[0.1111111111111111,\"#46039f\"],[0.2222222222222222,\"#7201a8\"],[0.3333333333333333,\"#9c179e\"],[0.4444444444444444,\"#bd3786\"],[0.5555555555555556,\"#d8576b\"],[0.6666666666666666,\"#ed7953\"],[0.7777777777777778,\"#fb9f3a\"],[0.8888888888888888,\"#fdca26\"],[1.0,\"#f0f921\"]],\"type\":\"heatmapgl\"}],\"histogram\":[{\"marker\":{\"pattern\":{\"fillmode\":\"overlay\",\"size\":10,\"solidity\":0.2}},\"type\":\"histogram\"}],\"histogram2d\":[{\"colorbar\":{\"outlinewidth\":0,\"ticks\":\"\"},\"colorscale\":[[0.0,\"#0d0887\"],[0.1111111111111111,\"#46039f\"],[0.2222222222222222,\"#7201a8\"],[0.3333333333333333,\"#9c179e\"],[0.4444444444444444,\"#bd3786\"],[0.5555555555555556,\"#d8576b\"],[0.6666666666666666,\"#ed7953\"],[0.7777777777777778,\"#fb9f3a\"],[0.8888888888888888,\"#fdca26\"],[1.0,\"#f0f921\"]],\"type\":\"histogram2d\"}],\"histogram2dcontour\":[{\"colorbar\":{\"outlinewidth\":0,\"ticks\":\"\"},\"colorscale\":[[0.0,\"#0d0887\"],[0.1111111111111111,\"#46039f\"],[0.2222222222222222,\"#7201a8\"],[0.3333333333333333,\"#9c179e\"],[0.4444444444444444,\"#bd3786\"],[0.5555555555555556,\"#d8576b\"],[0.6666666666666666,\"#ed7953\"],[0.7777777777777778,\"#fb9f3a\"],[0.8888888888888888,\"#fdca26\"],[1.0,\"#f0f921\"]],\"type\":\"histogram2dcontour\"}],\"mesh3d\":[{\"colorbar\":{\"outlinewidth\":0,\"ticks\":\"\"},\"type\":\"mesh3d\"}],\"parcoords\":[{\"line\":{\"colorbar\":{\"outlinewidth\":0,\"ticks\":\"\"}},\"type\":\"parcoords\"}],\"pie\":[{\"automargin\":true,\"type\":\"pie\"}],\"scatter\":[{\"marker\":{\"colorbar\":{\"outlinewidth\":0,\"ticks\":\"\"}},\"type\":\"scatter\"}],\"scatter3d\":[{\"line\":{\"colorbar\":{\"outlinewidth\":0,\"ticks\":\"\"}},\"marker\":{\"colorbar\":{\"outlinewidth\":0,\"ticks\":\"\"}},\"type\":\"scatter3d\"}],\"scattercarpet\":[{\"marker\":{\"colorbar\":{\"outlinewidth\":0,\"ticks\":\"\"}},\"type\":\"scattercarpet\"}],\"scattergeo\":[{\"marker\":{\"colorbar\":{\"outlinewidth\":0,\"ticks\":\"\"}},\"type\":\"scattergeo\"}],\"scattergl\":[{\"marker\":{\"colorbar\":{\"outlinewidth\":0,\"ticks\":\"\"}},\"type\":\"scattergl\"}],\"scattermapbox\":[{\"marker\":{\"colorbar\":{\"outlinewidth\":0,\"ticks\":\"\"}},\"type\":\"scattermapbox\"}],\"scatterpolar\":[{\"marker\":{\"colorbar\":{\"outlinewidth\":0,\"ticks\":\"\"}},\"type\":\"scatterpolar\"}],\"scatterpolargl\":[{\"marker\":{\"colorbar\":{\"outlinewidth\":0,\"ticks\":\"\"}},\"type\":\"scatterpolargl\"}],\"scatterternary\":[{\"marker\":{\"colorbar\":{\"outlinewidth\":0,\"ticks\":\"\"}},\"type\":\"scatterternary\"}],\"surface\":[{\"colorbar\":{\"outlinewidth\":0,\"ticks\":\"\"},\"colorscale\":[[0.0,\"#0d0887\"],[0.1111111111111111,\"#46039f\"],[0.2222222222222222,\"#7201a8\"],[0.3333333333333333,\"#9c179e\"],[0.4444444444444444,\"#bd3786\"],[0.5555555555555556,\"#d8576b\"],[0.6666666666666666,\"#ed7953\"],[0.7777777777777778,\"#fb9f3a\"],[0.8888888888888888,\"#fdca26\"],[1.0,\"#f0f921\"]],\"type\":\"surface\"}],\"table\":[{\"cells\":{\"fill\":{\"color\":\"#EBF0F8\"},\"line\":{\"color\":\"white\"}},\"header\":{\"fill\":{\"color\":\"#C8D4E3\"},\"line\":{\"color\":\"white\"}},\"type\":\"table\"}]},\"layout\":{\"annotationdefaults\":{\"arrowcolor\":\"#2a3f5f\",\"arrowhead\":0,\"arrowwidth\":1},\"autotypenumbers\":\"strict\",\"coloraxis\":{\"colorbar\":{\"outlinewidth\":0,\"ticks\":\"\"}},\"colorscale\":{\"diverging\":[[0,\"#8e0152\"],[0.1,\"#c51b7d\"],[0.2,\"#de77ae\"],[0.3,\"#f1b6da\"],[0.4,\"#fde0ef\"],[0.5,\"#f7f7f7\"],[0.6,\"#e6f5d0\"],[0.7,\"#b8e186\"],[0.8,\"#7fbc41\"],[0.9,\"#4d9221\"],[1,\"#276419\"]],\"sequential\":[[0.0,\"#0d0887\"],[0.1111111111111111,\"#46039f\"],[0.2222222222222222,\"#7201a8\"],[0.3333333333333333,\"#9c179e\"],[0.4444444444444444,\"#bd3786\"],[0.5555555555555556,\"#d8576b\"],[0.6666666666666666,\"#ed7953\"],[0.7777777777777778,\"#fb9f3a\"],[0.8888888888888888,\"#fdca26\"],[1.0,\"#f0f921\"]],\"sequentialminus\":[[0.0,\"#0d0887\"],[0.1111111111111111,\"#46039f\"],[0.2222222222222222,\"#7201a8\"],[0.3333333333333333,\"#9c179e\"],[0.4444444444444444,\"#bd3786\"],[0.5555555555555556,\"#d8576b\"],[0.6666666666666666,\"#ed7953\"],[0.7777777777777778,\"#fb9f3a\"],[0.8888888888888888,\"#fdca26\"],[1.0,\"#f0f921\"]]},\"colorway\":[\"#636efa\",\"#EF553B\",\"#00cc96\",\"#ab63fa\",\"#FFA15A\",\"#19d3f3\",\"#FF6692\",\"#B6E880\",\"#FF97FF\",\"#FECB52\"],\"font\":{\"color\":\"#2a3f5f\"},\"geo\":{\"bgcolor\":\"white\",\"lakecolor\":\"white\",\"landcolor\":\"#E5ECF6\",\"showlakes\":true,\"showland\":true,\"subunitcolor\":\"white\"},\"hoverlabel\":{\"align\":\"left\"},\"hovermode\":\"closest\",\"mapbox\":{\"style\":\"light\"},\"paper_bgcolor\":\"white\",\"plot_bgcolor\":\"#E5ECF6\",\"polar\":{\"angularaxis\":{\"gridcolor\":\"white\",\"linecolor\":\"white\",\"ticks\":\"\"},\"bgcolor\":\"#E5ECF6\",\"radialaxis\":{\"gridcolor\":\"white\",\"linecolor\":\"white\",\"ticks\":\"\"}},\"scene\":{\"xaxis\":{\"backgroundcolor\":\"#E5ECF6\",\"gridcolor\":\"white\",\"gridwidth\":2,\"linecolor\":\"white\",\"showbackground\":true,\"ticks\":\"\",\"zerolinecolor\":\"white\"},\"yaxis\":{\"backgroundcolor\":\"#E5ECF6\",\"gridcolor\":\"white\",\"gridwidth\":2,\"linecolor\":\"white\",\"showbackground\":true,\"ticks\":\"\",\"zerolinecolor\":\"white\"},\"zaxis\":{\"backgroundcolor\":\"#E5ECF6\",\"gridcolor\":\"white\",\"gridwidth\":2,\"linecolor\":\"white\",\"showbackground\":true,\"ticks\":\"\",\"zerolinecolor\":\"white\"}},\"shapedefaults\":{\"line\":{\"color\":\"#2a3f5f\"}},\"ternary\":{\"aaxis\":{\"gridcolor\":\"white\",\"linecolor\":\"white\",\"ticks\":\"\"},\"baxis\":{\"gridcolor\":\"white\",\"linecolor\":\"white\",\"ticks\":\"\"},\"bgcolor\":\"#E5ECF6\",\"caxis\":{\"gridcolor\":\"white\",\"linecolor\":\"white\",\"ticks\":\"\"}},\"title\":{\"x\":0.05},\"xaxis\":{\"automargin\":true,\"gridcolor\":\"white\",\"linecolor\":\"white\",\"ticks\":\"\",\"title\":{\"standoff\":15},\"zerolinecolor\":\"white\",\"zerolinewidth\":2},\"yaxis\":{\"automargin\":true,\"gridcolor\":\"white\",\"linecolor\":\"white\",\"ticks\":\"\",\"title\":{\"standoff\":15},\"zerolinecolor\":\"white\",\"zerolinewidth\":2}}},\"margin\":{\"l\":65,\"r\":50,\"b\":65,\"t\":90},\"title\":{\"text\":\"AAPL Call Implied Volatility Surface\"},\"scene\":{\"xaxis\":{\"title\":{\"text\":\"Strike\"}},\"yaxis\":{\"title\":{\"text\":\"Date\"}},\"zaxis\":{\"title\":{\"text\":\"Implied Volatility\"}}},\"autosize\":false,\"width\":800,\"height\":800},                        {\"responsive\": true}                    ).then(function(){\n",
              "                            \n",
              "var gd = document.getElementById('ee7b365c-2fa9-4995-864b-5ec981ae42f3');\n",
              "var x = new MutationObserver(function (mutations, observer) {{\n",
              "        var display = window.getComputedStyle(gd).display;\n",
              "        if (!display || display === 'none') {{\n",
              "            console.log([gd, 'removed!']);\n",
              "            Plotly.purge(gd);\n",
              "            observer.disconnect();\n",
              "        }}\n",
              "}});\n",
              "\n",
              "// Listen for the removal of the full notebook cells\n",
              "var notebookContainer = gd.closest('#notebook-container');\n",
              "if (notebookContainer) {{\n",
              "    x.observe(notebookContainer, {childList: true});\n",
              "}}\n",
              "\n",
              "// Listen for the clearing of the current output cell\n",
              "var outputEl = gd.closest('.output');\n",
              "if (outputEl) {{\n",
              "    x.observe(outputEl, {childList: true});\n",
              "}}\n",
              "\n",
              "                        })                };                            </script>        </div>\n",
              "</body>\n",
              "</html>"
            ]
          },
          "metadata": {}
        },
        {
          "output_type": "display_data",
          "data": {
            "text/html": [
              "<html>\n",
              "<head><meta charset=\"utf-8\" /></head>\n",
              "<body>\n",
              "    <div>            <script src=\"https://cdnjs.cloudflare.com/ajax/libs/mathjax/2.7.5/MathJax.js?config=TeX-AMS-MML_SVG\"></script><script type=\"text/javascript\">if (window.MathJax) {MathJax.Hub.Config({SVG: {font: \"STIX-Web\"}});}</script>                <script type=\"text/javascript\">window.PlotlyConfig = {MathJaxConfig: 'local'};</script>\n",
              "        <script src=\"https://cdn.plot.ly/plotly-2.8.3.min.js\"></script>                <div id=\"09263f37-5a17-4ea1-b832-5883f1afa6a1\" class=\"plotly-graph-div\" style=\"height:800px; width:800px;\"></div>            <script type=\"text/javascript\">                                    window.PLOTLYENV=window.PLOTLYENV || {};                                    if (document.getElementById(\"09263f37-5a17-4ea1-b832-5883f1afa6a1\")) {                    Plotly.newPlot(                        \"09263f37-5a17-4ea1-b832-5883f1afa6a1\",                        [{\"x\":[150.0,155.0,160.0,165.0,170.0,175.0,180.0,185.0,195.0,200.0],\"y\":[\"2022-05-06\",\"2022-05-13\",\"2022-05-20\",\"2022-05-27\",\"2022-06-03\",\"2022-06-10\",\"2022-06-17\",\"2022-07-15\",\"2022-08-19\",\"2022-09-16\",\"2022-10-21\",\"2022-11-18\",\"2023-01-20\",\"2023-03-17\",\"2023-06-16\",\"2023-09-15\",\"2024-01-19\",\"2024-06-21\"],\"z\":[[0.5161181201171875,0.49219257812500006,0.46289599609375004,0.4602104760742188,0.4958546508789063,0.5083056982421875,0.5410202148437502,0.6679720703125002,0.3546695393066407,0.35159339819335933],[0.4710746252441406,0.43921459228515625,0.4172421557617187,0.4008848974609375,0.40259386474609377,0.4243221630859375,0.471684970703125,0.5307664111328125,0.36091947680664066,0.3621645815429687],[0.43884838500976564,0.41345801391601555,0.39453730468750003,0.3813538427734374,0.37000141723632807,0.37695935546875,0.39893179199218753,0.43897045410156255,0.5346726220703125,0.506840869140625],[0.4243221630859375,0.40369248657226564,0.3807434973144531,0.3668276208496094,0.3579165771484375,0.36096830444335937,0.3711000390625,0.39502558105468755,0.36091947680664066,0.3648256877441406],[0.40735455932617193,0.3890441955566406,0.3707338317871094,0.3549869189453124,0.3487613952636719,0.3508365698242187,0.3577945080566406,0.37915659912109373,0.36091947680664066,0.3648256877441406],[0.4232235412597656,0.4412897668457031,0.47058634887695316,0.43494217407226565,0.42249112670898437,0.4402521795654296,0.42810630493164065,0.4823782231445312,0.36091947680664066,0.3648256877441406],[0.3959410992431641,0.3788514263916015,0.36255520263671875,0.3474186352539062,0.3382024188232422,0.33338068969726564,0.3293524096679687,0.3391179370117187,0.36817038085937503,0.3857483300781249],[0.37500625,0.35962554443359374,0.34564863342285157,0.33197689514160156,0.3238593005371093,0.31482618774414056,0.3086006640625,0.30676962768554683,0.31323928955078123,0.3249579223632812],[0.3748841809082031,0.3635927899169922,0.3523624334716796,0.34076586975097656,0.33148861877441405,0.3250189569091796,0.3172065350341796,0.3127510131835937,0.3097847342529297,0.3083565258789062],[0.36365382446289063,0.3537662280273437,0.34323776885986323,0.334418276977539,0.3258734405517578,0.3176948114013671,0.3117744604492187,0.3060372131347656,0.2995675512695312,0.29822479125976553],[0.3518131225585937,0.34314621704101556,0.33447931152343746,0.32553775054931633,0.3174506732177734,0.31024859680175776,0.30298548583984375,0.2987741021728515,0.288947540283203,0.2867502966308593],[0.35016518981933586,0.34134569793701175,0.33289241333007813,0.3257513714599609,0.31763377685546873,0.31073687316894527,0.3042061767578125,0.3024483818359374,0.289185575012207,0.2849192602539062],[0.33423517333984376,0.32660585510253903,0.3196784341430663,0.3124458404541015,0.3067391104125976,0.2997201376342773,0.294379614868164,0.28790995300292954,0.27899890930175775,0.27533683654785157],[0.32865051239013665,0.32187567779541015,0.31519239501953117,0.3093635958862304,0.30356531402587883,0.29776703216552725,0.29206030212402334,0.287113452178955,0.27835194311523437,0.27210200561523434],[0.319220675048828,0.31320877227783206,0.3068306622314453,0.30155117401123044,0.29657685852050775,0.291175301208496,0.2884409535522461,0.28711345217895506,0.26997800341796874,0.26335575518798826],[0.3103096313476562,0.30503014312744137,0.3034981760253906,0.2946237530517578,0.28948159255981437,0.28484296707153317,0.27936511657714835,0.2751537329101562,0.2651745846557617,0.26108527008056637],[0.30048306945800785,0.2952035812377929,0.2905649557495117,0.2853465020751953,0.28134873931884763,0.28922219573974606,0.272193557434082,0.26769225967407223,0.259071130065918,0.2543714700317383],[0.29398289031982416,0.2898020239257812,0.2852244329833984,0.2808452043151855,0.29554232296752925,0.27260554061889647,0.2881968153686523,0.28711345217895506,0.2576978527832031,0.2538831936645508]],\"type\":\"surface\"}],                        {\"xaxis\":{\"title\":{\"text\":\"Date\"}},\"yaxis\":{\"title\":{\"text\":\"Strike\"}},\"template\":{\"data\":{\"bar\":[{\"error_x\":{\"color\":\"#2a3f5f\"},\"error_y\":{\"color\":\"#2a3f5f\"},\"marker\":{\"line\":{\"color\":\"#E5ECF6\",\"width\":0.5},\"pattern\":{\"fillmode\":\"overlay\",\"size\":10,\"solidity\":0.2}},\"type\":\"bar\"}],\"barpolar\":[{\"marker\":{\"line\":{\"color\":\"#E5ECF6\",\"width\":0.5},\"pattern\":{\"fillmode\":\"overlay\",\"size\":10,\"solidity\":0.2}},\"type\":\"barpolar\"}],\"carpet\":[{\"aaxis\":{\"endlinecolor\":\"#2a3f5f\",\"gridcolor\":\"white\",\"linecolor\":\"white\",\"minorgridcolor\":\"white\",\"startlinecolor\":\"#2a3f5f\"},\"baxis\":{\"endlinecolor\":\"#2a3f5f\",\"gridcolor\":\"white\",\"linecolor\":\"white\",\"minorgridcolor\":\"white\",\"startlinecolor\":\"#2a3f5f\"},\"type\":\"carpet\"}],\"choropleth\":[{\"colorbar\":{\"outlinewidth\":0,\"ticks\":\"\"},\"type\":\"choropleth\"}],\"contour\":[{\"colorbar\":{\"outlinewidth\":0,\"ticks\":\"\"},\"colorscale\":[[0.0,\"#0d0887\"],[0.1111111111111111,\"#46039f\"],[0.2222222222222222,\"#7201a8\"],[0.3333333333333333,\"#9c179e\"],[0.4444444444444444,\"#bd3786\"],[0.5555555555555556,\"#d8576b\"],[0.6666666666666666,\"#ed7953\"],[0.7777777777777778,\"#fb9f3a\"],[0.8888888888888888,\"#fdca26\"],[1.0,\"#f0f921\"]],\"type\":\"contour\"}],\"contourcarpet\":[{\"colorbar\":{\"outlinewidth\":0,\"ticks\":\"\"},\"type\":\"contourcarpet\"}],\"heatmap\":[{\"colorbar\":{\"outlinewidth\":0,\"ticks\":\"\"},\"colorscale\":[[0.0,\"#0d0887\"],[0.1111111111111111,\"#46039f\"],[0.2222222222222222,\"#7201a8\"],[0.3333333333333333,\"#9c179e\"],[0.4444444444444444,\"#bd3786\"],[0.5555555555555556,\"#d8576b\"],[0.6666666666666666,\"#ed7953\"],[0.7777777777777778,\"#fb9f3a\"],[0.8888888888888888,\"#fdca26\"],[1.0,\"#f0f921\"]],\"type\":\"heatmap\"}],\"heatmapgl\":[{\"colorbar\":{\"outlinewidth\":0,\"ticks\":\"\"},\"colorscale\":[[0.0,\"#0d0887\"],[0.1111111111111111,\"#46039f\"],[0.2222222222222222,\"#7201a8\"],[0.3333333333333333,\"#9c179e\"],[0.4444444444444444,\"#bd3786\"],[0.5555555555555556,\"#d8576b\"],[0.6666666666666666,\"#ed7953\"],[0.7777777777777778,\"#fb9f3a\"],[0.8888888888888888,\"#fdca26\"],[1.0,\"#f0f921\"]],\"type\":\"heatmapgl\"}],\"histogram\":[{\"marker\":{\"pattern\":{\"fillmode\":\"overlay\",\"size\":10,\"solidity\":0.2}},\"type\":\"histogram\"}],\"histogram2d\":[{\"colorbar\":{\"outlinewidth\":0,\"ticks\":\"\"},\"colorscale\":[[0.0,\"#0d0887\"],[0.1111111111111111,\"#46039f\"],[0.2222222222222222,\"#7201a8\"],[0.3333333333333333,\"#9c179e\"],[0.4444444444444444,\"#bd3786\"],[0.5555555555555556,\"#d8576b\"],[0.6666666666666666,\"#ed7953\"],[0.7777777777777778,\"#fb9f3a\"],[0.8888888888888888,\"#fdca26\"],[1.0,\"#f0f921\"]],\"type\":\"histogram2d\"}],\"histogram2dcontour\":[{\"colorbar\":{\"outlinewidth\":0,\"ticks\":\"\"},\"colorscale\":[[0.0,\"#0d0887\"],[0.1111111111111111,\"#46039f\"],[0.2222222222222222,\"#7201a8\"],[0.3333333333333333,\"#9c179e\"],[0.4444444444444444,\"#bd3786\"],[0.5555555555555556,\"#d8576b\"],[0.6666666666666666,\"#ed7953\"],[0.7777777777777778,\"#fb9f3a\"],[0.8888888888888888,\"#fdca26\"],[1.0,\"#f0f921\"]],\"type\":\"histogram2dcontour\"}],\"mesh3d\":[{\"colorbar\":{\"outlinewidth\":0,\"ticks\":\"\"},\"type\":\"mesh3d\"}],\"parcoords\":[{\"line\":{\"colorbar\":{\"outlinewidth\":0,\"ticks\":\"\"}},\"type\":\"parcoords\"}],\"pie\":[{\"automargin\":true,\"type\":\"pie\"}],\"scatter\":[{\"marker\":{\"colorbar\":{\"outlinewidth\":0,\"ticks\":\"\"}},\"type\":\"scatter\"}],\"scatter3d\":[{\"line\":{\"colorbar\":{\"outlinewidth\":0,\"ticks\":\"\"}},\"marker\":{\"colorbar\":{\"outlinewidth\":0,\"ticks\":\"\"}},\"type\":\"scatter3d\"}],\"scattercarpet\":[{\"marker\":{\"colorbar\":{\"outlinewidth\":0,\"ticks\":\"\"}},\"type\":\"scattercarpet\"}],\"scattergeo\":[{\"marker\":{\"colorbar\":{\"outlinewidth\":0,\"ticks\":\"\"}},\"type\":\"scattergeo\"}],\"scattergl\":[{\"marker\":{\"colorbar\":{\"outlinewidth\":0,\"ticks\":\"\"}},\"type\":\"scattergl\"}],\"scattermapbox\":[{\"marker\":{\"colorbar\":{\"outlinewidth\":0,\"ticks\":\"\"}},\"type\":\"scattermapbox\"}],\"scatterpolar\":[{\"marker\":{\"colorbar\":{\"outlinewidth\":0,\"ticks\":\"\"}},\"type\":\"scatterpolar\"}],\"scatterpolargl\":[{\"marker\":{\"colorbar\":{\"outlinewidth\":0,\"ticks\":\"\"}},\"type\":\"scatterpolargl\"}],\"scatterternary\":[{\"marker\":{\"colorbar\":{\"outlinewidth\":0,\"ticks\":\"\"}},\"type\":\"scatterternary\"}],\"surface\":[{\"colorbar\":{\"outlinewidth\":0,\"ticks\":\"\"},\"colorscale\":[[0.0,\"#0d0887\"],[0.1111111111111111,\"#46039f\"],[0.2222222222222222,\"#7201a8\"],[0.3333333333333333,\"#9c179e\"],[0.4444444444444444,\"#bd3786\"],[0.5555555555555556,\"#d8576b\"],[0.6666666666666666,\"#ed7953\"],[0.7777777777777778,\"#fb9f3a\"],[0.8888888888888888,\"#fdca26\"],[1.0,\"#f0f921\"]],\"type\":\"surface\"}],\"table\":[{\"cells\":{\"fill\":{\"color\":\"#EBF0F8\"},\"line\":{\"color\":\"white\"}},\"header\":{\"fill\":{\"color\":\"#C8D4E3\"},\"line\":{\"color\":\"white\"}},\"type\":\"table\"}]},\"layout\":{\"annotationdefaults\":{\"arrowcolor\":\"#2a3f5f\",\"arrowhead\":0,\"arrowwidth\":1},\"autotypenumbers\":\"strict\",\"coloraxis\":{\"colorbar\":{\"outlinewidth\":0,\"ticks\":\"\"}},\"colorscale\":{\"diverging\":[[0,\"#8e0152\"],[0.1,\"#c51b7d\"],[0.2,\"#de77ae\"],[0.3,\"#f1b6da\"],[0.4,\"#fde0ef\"],[0.5,\"#f7f7f7\"],[0.6,\"#e6f5d0\"],[0.7,\"#b8e186\"],[0.8,\"#7fbc41\"],[0.9,\"#4d9221\"],[1,\"#276419\"]],\"sequential\":[[0.0,\"#0d0887\"],[0.1111111111111111,\"#46039f\"],[0.2222222222222222,\"#7201a8\"],[0.3333333333333333,\"#9c179e\"],[0.4444444444444444,\"#bd3786\"],[0.5555555555555556,\"#d8576b\"],[0.6666666666666666,\"#ed7953\"],[0.7777777777777778,\"#fb9f3a\"],[0.8888888888888888,\"#fdca26\"],[1.0,\"#f0f921\"]],\"sequentialminus\":[[0.0,\"#0d0887\"],[0.1111111111111111,\"#46039f\"],[0.2222222222222222,\"#7201a8\"],[0.3333333333333333,\"#9c179e\"],[0.4444444444444444,\"#bd3786\"],[0.5555555555555556,\"#d8576b\"],[0.6666666666666666,\"#ed7953\"],[0.7777777777777778,\"#fb9f3a\"],[0.8888888888888888,\"#fdca26\"],[1.0,\"#f0f921\"]]},\"colorway\":[\"#636efa\",\"#EF553B\",\"#00cc96\",\"#ab63fa\",\"#FFA15A\",\"#19d3f3\",\"#FF6692\",\"#B6E880\",\"#FF97FF\",\"#FECB52\"],\"font\":{\"color\":\"#2a3f5f\"},\"geo\":{\"bgcolor\":\"white\",\"lakecolor\":\"white\",\"landcolor\":\"#E5ECF6\",\"showlakes\":true,\"showland\":true,\"subunitcolor\":\"white\"},\"hoverlabel\":{\"align\":\"left\"},\"hovermode\":\"closest\",\"mapbox\":{\"style\":\"light\"},\"paper_bgcolor\":\"white\",\"plot_bgcolor\":\"#E5ECF6\",\"polar\":{\"angularaxis\":{\"gridcolor\":\"white\",\"linecolor\":\"white\",\"ticks\":\"\"},\"bgcolor\":\"#E5ECF6\",\"radialaxis\":{\"gridcolor\":\"white\",\"linecolor\":\"white\",\"ticks\":\"\"}},\"scene\":{\"xaxis\":{\"backgroundcolor\":\"#E5ECF6\",\"gridcolor\":\"white\",\"gridwidth\":2,\"linecolor\":\"white\",\"showbackground\":true,\"ticks\":\"\",\"zerolinecolor\":\"white\"},\"yaxis\":{\"backgroundcolor\":\"#E5ECF6\",\"gridcolor\":\"white\",\"gridwidth\":2,\"linecolor\":\"white\",\"showbackground\":true,\"ticks\":\"\",\"zerolinecolor\":\"white\"},\"zaxis\":{\"backgroundcolor\":\"#E5ECF6\",\"gridcolor\":\"white\",\"gridwidth\":2,\"linecolor\":\"white\",\"showbackground\":true,\"ticks\":\"\",\"zerolinecolor\":\"white\"}},\"shapedefaults\":{\"line\":{\"color\":\"#2a3f5f\"}},\"ternary\":{\"aaxis\":{\"gridcolor\":\"white\",\"linecolor\":\"white\",\"ticks\":\"\"},\"baxis\":{\"gridcolor\":\"white\",\"linecolor\":\"white\",\"ticks\":\"\"},\"bgcolor\":\"#E5ECF6\",\"caxis\":{\"gridcolor\":\"white\",\"linecolor\":\"white\",\"ticks\":\"\"}},\"title\":{\"x\":0.05},\"xaxis\":{\"automargin\":true,\"gridcolor\":\"white\",\"linecolor\":\"white\",\"ticks\":\"\",\"title\":{\"standoff\":15},\"zerolinecolor\":\"white\",\"zerolinewidth\":2},\"yaxis\":{\"automargin\":true,\"gridcolor\":\"white\",\"linecolor\":\"white\",\"ticks\":\"\",\"title\":{\"standoff\":15},\"zerolinecolor\":\"white\",\"zerolinewidth\":2}}},\"margin\":{\"l\":65,\"r\":50,\"b\":65,\"t\":90},\"title\":{\"text\":\"AAPL Put Implied Volatility Surface\"},\"scene\":{\"xaxis\":{\"title\":{\"text\":\"Strike\"}},\"yaxis\":{\"title\":{\"text\":\"Date\"}},\"zaxis\":{\"title\":{\"text\":\"Implied Volatility\"}}},\"autosize\":false,\"width\":800,\"height\":800},                        {\"responsive\": true}                    ).then(function(){\n",
              "                            \n",
              "var gd = document.getElementById('09263f37-5a17-4ea1-b832-5883f1afa6a1');\n",
              "var x = new MutationObserver(function (mutations, observer) {{\n",
              "        var display = window.getComputedStyle(gd).display;\n",
              "        if (!display || display === 'none') {{\n",
              "            console.log([gd, 'removed!']);\n",
              "            Plotly.purge(gd);\n",
              "            observer.disconnect();\n",
              "        }}\n",
              "}});\n",
              "\n",
              "// Listen for the removal of the full notebook cells\n",
              "var notebookContainer = gd.closest('#notebook-container');\n",
              "if (notebookContainer) {{\n",
              "    x.observe(notebookContainer, {childList: true});\n",
              "}}\n",
              "\n",
              "// Listen for the clearing of the current output cell\n",
              "var outputEl = gd.closest('.output');\n",
              "if (outputEl) {{\n",
              "    x.observe(outputEl, {childList: true});\n",
              "}}\n",
              "\n",
              "                        })                };                            </script>        </div>\n",
              "</body>\n",
              "</html>"
            ]
          },
          "metadata": {}
        }
      ]
    }
  ]
}